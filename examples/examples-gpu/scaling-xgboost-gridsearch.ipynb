{
 "cells": [
  {
   "cell_type": "code",
   "execution_count": null,
   "metadata": {},
   "outputs": [],
   "source": [
    "from dask.distributed import Client\n",
    "\n",
    "client = Client()\n",
    "client"
   ]
  },
  {
   "cell_type": "code",
   "execution_count": null,
   "metadata": {},
   "outputs": [],
   "source": [
    "from sklearn.datasets import make_regression\n",
    "import dask.array as da\n",
    "import pandas as pd\n",
    "import numpy as np\n",
    "\n",
    "n_features = 100\n",
    "random_state = 123\n",
    "\n",
    "X, y = make_regression(\n",
    "    random_state=random_state,\n",
    "    n_samples=10_000,\n",
    "    n_features=n_features,\n",
    "    n_informative=n_features // 2\n",
    ")\n",
    "df = pd.DataFrame(X)\n",
    "df.columns = [f\"var{i}\" for i in range(n_features)]\n",
    "df[\"target\"] = y\n",
    "np.random.seed(random_state)\n",
    "\n",
    "dX = da.from_array(X, chunks=X.shape[0]//4)\n",
    "dy = da.from_array(y, chunks=y.shape[0]//4)"
   ]
  },
  {
   "cell_type": "code",
   "execution_count": null,
   "metadata": {},
   "outputs": [],
   "source": [
    "from sklearn.model_selection import GridSearchCV\n",
    "\n",
    "import xgboost as xgb\n",
    "import joblib\n",
    "\n",
    "reg = xgb.XGBRegressor()\n",
    "\n",
    "param_grid = {\n",
    "    \"max_depth\": [5, 10],\n",
    "    \"min_child_weight\": [10, 20],\n",
    "    \"learning_rate\": [0.05]\n",
    "}\n",
    "\n",
    "scoring = {\n",
    "    \"rmse\": lambda est, X, y: max(est.evals_result_[\"validation_0\"][\"rmse\"])\n",
    "}\n",
    "\n",
    "grid = GridSearchCV(reg, param_grid, scoring=scoring, error_score='raise', cv=2, refit=\"rmse\", n_jobs=-1, verbose=1)"
   ]
  },
  {
   "cell_type": "code",
   "execution_count": null,
   "metadata": {},
   "outputs": [],
   "source": [
    "%%time\n",
    "with joblib.parallel_backend(\"dask\"):\n",
    "    grid.fit(X, y, eval_set=[(X, y)], eval_metric=\"rmse\")"
   ]
  },
  {
   "cell_type": "code",
   "execution_count": null,
   "metadata": {},
   "outputs": [],
   "source": [
    "dreg = xgb.dask.DaskXGBRegressor(eval_metric=\"rmse\")\n",
    "dreg.client = client\n",
    "dgrid = GridSearchCV(dreg, param_grid, scoring=scoring, error_score='raise', cv=2, refit=\"rmse\", n_jobs=1, verbose=1)"
   ]
  },
  {
   "cell_type": "code",
   "execution_count": null,
   "metadata": {},
   "outputs": [],
   "source": [
    "%%time\n",
    "dgrid.fit(dX, dy, eval_set=[(dX, dy)])"
   ]
  },
  {
   "cell_type": "code",
   "execution_count": null,
   "metadata": {},
   "outputs": [],
   "source": []
  }
 ],
 "metadata": {
  "kernelspec": {
   "display_name": "Python 3",
   "language": "python",
   "name": "python3"
  },
  "language_info": {
   "codemirror_mode": {
    "name": "ipython",
    "version": 3
   },
   "file_extension": ".py",
   "mimetype": "text/x-python",
   "name": "python",
   "nbconvert_exporter": "python",
   "pygments_lexer": "ipython3",
   "version": "3.8.6"
  }
 },
 "nbformat": 4,
 "nbformat_minor": 4
}
