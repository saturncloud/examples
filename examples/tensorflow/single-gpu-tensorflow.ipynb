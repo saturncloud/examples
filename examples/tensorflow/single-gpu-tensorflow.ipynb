{
 "cells": [
  {
   "cell_type": "markdown",
   "id": "35efbf30-89fc-40d2-8c26-d440d7692984",
   "metadata": {
    "execution": {
     "iopub.execute_input": "2021-08-16T21:29:50.228313Z",
     "iopub.status.busy": "2021-08-16T21:29:50.228073Z",
     "iopub.status.idle": "2021-08-16T21:29:50.231558Z",
     "shell.execute_reply": "2021-08-16T21:29:50.230865Z",
     "shell.execute_reply.started": "2021-08-16T21:29:50.228252Z"
    }
   },
   "source": [
    "# Single-Node Single GPU Training in TensorFlow\n",
    "\n",
    "![TensorFlow Logo](https://saturn-public-assets.s3.us-east-2.amazonaws.com/example-resources/tensorflow.png \"doc-image\")"
   ]
  },
  {
   "cell_type": "markdown",
   "id": "77613213-1675-4ea8-b562-9fa0a7e2bc30",
   "metadata": {},
   "source": [
    "## Overview\n",
    "\n",
    "[TensorFlow](https://www.tensorflow.org/) is a popular, powerful framework for deep learning used by data scientists across industries.\n",
    "\n",
    "In this example, you'll train Resnet50 architecture to identify different species of birds. This dataset consists of 40,000+ images of birds and has been taken from [kaggle](https://www.kaggle.com/gpiosenka/100-bird-species).\n"
   ]
  },
  {
   "cell_type": "code",
   "execution_count": null,
   "id": "00458ab4",
   "metadata": {
    "tags": []
   },
   "outputs": [],
   "source": [
    "import tensorflow as tf\n",
    "import keras\n",
    "import time\n",
    "import matplotlib.pyplot as plt"
   ]
  },
  {
   "cell_type": "markdown",
   "id": "2e262e1e-fa7d-4e99-97a4-68daa20f655e",
   "metadata": {},
   "source": [
    "The dataset originally had 285 classes. We have taken a subset of this data, which has 61 classes. The data is stored in AWS S3. The first time you run this job, you'll need to download the training and test data in the code chunk below: "
   ]
  },
  {
   "cell_type": "code",
   "execution_count": null,
   "id": "3c822ca3",
   "metadata": {
    "tags": []
   },
   "outputs": [],
   "source": [
    "import s3fs\n",
    "\n",
    "s3 = s3fs.S3FileSystem(anon=True)\n",
    "_ = s3.get(\n",
    "    rpath=\"s3://saturn-public-data/100-bird-species/100-bird-species/*/*/*.jpg\",\n",
    "    lpath=\"dataset/birds/\",\n",
    ")"
   ]
  },
  {
   "cell_type": "markdown",
   "id": "5da81623",
   "metadata": {},
   "source": [
    "Our dataset has already neatly separated training, test, and validation samples. In the code below, we construct a Keras data object for the training and validation sets using `keras.preprocessing.image_dataset_from_directory`. We chose the Adam optimizer and set the learning rate to 0.02. We train our classifier using the ResNet50 architecture, which has 48 Convolution layers along with 1 MaxPool and 1 Average Pool layer. It learns from each image, updates the model gradients, and gradually improves its performance. The model is compiled, trained, and saved in `model/keras_single/`."
   ]
  },
  {
   "cell_type": "code",
   "execution_count": null,
   "id": "ded426b2",
   "metadata": {
    "tags": []
   },
   "outputs": [],
   "source": [
    "def train_model_fit(n_epochs, base_lr, batchsize, classes):\n",
    "    model = tf.keras.applications.ResNet50(include_top=True, weights=None, classes=classes)\n",
    "\n",
    "    # Data\n",
    "    train_ds = (\n",
    "        tf.keras.preprocessing.image_dataset_from_directory(\n",
    "            \"dataset/birds/train\", image_size=(224, 224), batch_size=batchsize\n",
    "        )\n",
    "        .prefetch(2)\n",
    "        .cache()\n",
    "        .shuffle(1000)\n",
    "    )\n",
    "    # printing sample birds images\n",
    "    for birds, labels in train_ds.take(1):\n",
    "        plt.figure(figsize=(18, 18))\n",
    "        for i in range(9):\n",
    "            plt.subplot(3, 3, i + 1)\n",
    "            plt.imshow(birds[i].numpy().astype(\"uint8\"))\n",
    "            plt.axis(\"off\")\n",
    "    plt.show()\n",
    "\n",
    "    valid_ds = tf.keras.preprocessing.image_dataset_from_directory(\n",
    "        \"dataset/birds/valid\", image_size=(224, 224), batch_size=batchsize\n",
    "    ).prefetch(2)\n",
    "\n",
    "    optimizer = keras.optimizers.Adam(lr=base_lr)\n",
    "    model.compile(loss=\"sparse_categorical_crossentropy\", optimizer=optimizer, metrics=[\"accuracy\"])\n",
    "    start = time.time()\n",
    "\n",
    "    model.fit(\n",
    "        train_ds,\n",
    "        epochs=n_epochs,\n",
    "        validation_data=valid_ds,\n",
    "    )\n",
    "    end = time.time() - start\n",
    "    print(\"model training time\", end)\n",
    "\n",
    "    tf.keras.models.save_model(model, \"model/keras_single/\")"
   ]
  },
  {
   "cell_type": "markdown",
   "id": "e5896cdf-b8a6-416e-aeb2-db6d1cb49dd7",
   "metadata": {},
   "source": [
    "In the code below, we set up the necessary parameters. We run only a few epochs to save time. But once you've got this model working, you'll have all the information you need to build and run bigger TensorFlow models on Saturn Cloud. A single GPU reviews all our batches every epoch. In this case, it sees 64 images per batch x 640 batches x 3 epochs. These batches are all computed serially; the calculations cannot be parallelized because only one processor is utilized. "
   ]
  },
  {
   "cell_type": "code",
   "execution_count": null,
   "id": "729c9d50",
   "metadata": {
    "tags": []
   },
   "outputs": [],
   "source": [
    "model_params = {\"n_epochs\": 3, \"base_lr\": 0.02, \"classes\": 61, \"batchsize\": 64}"
   ]
  },
  {
   "cell_type": "markdown",
   "id": "8e2e7698",
   "metadata": {},
   "source": [
    "The code below runs the model training process and saves your trained model object to the Jupyter instance memory. A folder called `model` will be created and populated for you. Also, when you run the training function, you can see some beautiful birds of various species!"
   ]
  },
  {
   "cell_type": "code",
   "execution_count": null,
   "id": "524c1261",
   "metadata": {
    "tags": []
   },
   "outputs": [],
   "source": [
    "tester = train_model_fit(**model_params)"
   ]
  }
 ],
 "metadata": {
  "kernelspec": {
   "display_name": "saturn (Python 3)",
   "language": "python",
   "name": "python3"
  },
  "language_info": {
   "codemirror_mode": {
    "name": "ipython",
    "version": 3
   },
   "file_extension": ".py",
   "mimetype": "text/x-python",
   "name": "python",
   "nbconvert_exporter": "python",
   "pygments_lexer": "ipython3",
   "version": "3.9.7"
  }
 },
 "nbformat": 4,
 "nbformat_minor": 5
}
