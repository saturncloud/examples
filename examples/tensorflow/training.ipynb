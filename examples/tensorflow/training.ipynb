{
 "cells": [
  {
   "cell_type": "markdown",
   "source": [
    "# Single Node Single GPU Training in TensorFlow\n",
    "\n",
    "In this sample notebook, you'll train Resnet50 architecture to identify different species of birds. We are only running a few epochs, to save time, but once you've got this working you'll have all the information you need to build and run bigger Tensorflow models on Saturn Cloud.\n",
    "\n",
    "This notebook was run on a T4-4XLarge instance in tests, and we recommend not going much smaller with your instance size."
   ],
   "metadata": {
    "execution": {
     "iopub.execute_input": "2021-08-16T21:29:50.228313Z",
     "iopub.status.busy": "2021-08-16T21:29:50.228073Z",
     "iopub.status.idle": "2021-08-16T21:29:50.231558Z",
     "shell.execute_reply": "2021-08-16T21:29:50.230865Z",
     "shell.execute_reply.started": "2021-08-16T21:29:50.228252Z"
    }
   }
  },
  {
   "cell_type": "code",
   "execution_count": null,
   "source": [
    "import tensorflow as tf\n",
    "import keras\n",
    "import time"
   ],
   "outputs": [],
   "metadata": {
    "execution": {
     "iopub.execute_input": "2021-09-27T17:31:17.736129Z",
     "iopub.status.busy": "2021-09-27T17:31:17.735844Z",
     "iopub.status.idle": "2021-09-27T17:31:17.739915Z",
     "shell.execute_reply": "2021-09-27T17:31:17.739404Z",
     "shell.execute_reply.started": "2021-09-27T17:31:17.736108Z"
    }
   }
  },
  {
   "cell_type": "code",
   "execution_count": null,
   "source": [
    "import s3fs\n",
    "\n",
    "s3 = s3fs.S3FileSystem(anon=True)\n",
    "_ = s3.get(\n",
    "    rpath=\"s3://saturn-public-data/100-bird-species/100-bird-species/*/*/*.jpg\",\n",
    "    lpath=\"dataset/birds/\",\n",
    ")"
   ],
   "outputs": [],
   "metadata": {}
  },
  {
   "cell_type": "markdown",
   "source": [
    "The first time you run this job, you'll need to download the training and test data in the code chunk above. It'll take a few moments, but it shouldn't be too long. This small sample only includes 61 classes, but the original has 285. "
   ],
   "metadata": {}
  },
  {
   "cell_type": "code",
   "execution_count": null,
   "source": [
    "def train_model_fit(n_epochs, base_lr, batchsize, classes):\n",
    "\n",
    "    model = tf.keras.applications.ResNet50(include_top=True, weights=None, classes=classes)\n",
    "\n",
    "    # Data\n",
    "    train_ds = (\n",
    "        tf.keras.preprocessing.image_dataset_from_directory(\n",
    "            \"dataset/birds/train\", image_size=(224, 224), batch_size=batchsize\n",
    "        )\n",
    "        .prefetch(2)\n",
    "        .cache()\n",
    "        .shuffle(1000)\n",
    "    )\n",
    "\n",
    "    valid_ds = tf.keras.preprocessing.image_dataset_from_directory(\n",
    "        \"dataset/birds/valid\", image_size=(224, 224), batch_size=batchsize\n",
    "    ).prefetch(2)\n",
    "\n",
    "    optimizer = keras.optimizers.Adam(lr=base_lr)\n",
    "    model.compile(loss=\"sparse_categorical_crossentropy\", optimizer=optimizer, metrics=[\"accuracy\"])\n",
    "    start = time.time()\n",
    "\n",
    "    model.fit(\n",
    "        train_ds,\n",
    "        epochs=n_epochs,\n",
    "        validation_data=valid_ds,\n",
    "    )\n",
    "    end = time.time() - start\n",
    "    print(\"model training time\", end)\n",
    "\n",
    "    tf.keras.models.save_model(model, \"model/keras_single/\")"
   ],
   "outputs": [],
   "metadata": {
    "execution": {
     "iopub.execute_input": "2021-09-27T17:47:16.461946Z",
     "iopub.status.busy": "2021-09-27T17:47:16.461642Z",
     "iopub.status.idle": "2021-09-27T17:47:16.467396Z",
     "shell.execute_reply": "2021-09-27T17:47:16.466930Z",
     "shell.execute_reply.started": "2021-09-27T17:47:16.461925Z"
    }
   }
  },
  {
   "cell_type": "code",
   "execution_count": null,
   "source": [
    "model_params = {\"n_epochs\": 3, \"base_lr\": 0.02, \"classes\": 61, \"batchsize\": 64}"
   ],
   "outputs": [],
   "metadata": {
    "execution": {
     "iopub.execute_input": "2021-09-27T17:48:02.551359Z",
     "iopub.status.busy": "2021-09-27T17:48:02.551066Z",
     "iopub.status.idle": "2021-09-27T17:48:02.554277Z",
     "shell.execute_reply": "2021-09-27T17:48:02.553818Z",
     "shell.execute_reply.started": "2021-09-27T17:48:02.551338Z"
    }
   }
  },
  {
   "cell_type": "markdown",
   "source": [
    "The following chunk runs the model training process, and saves your trained model object to the Jupyter instance memory. A folder called `model` will be created and populated for you."
   ],
   "metadata": {}
  },
  {
   "cell_type": "code",
   "execution_count": null,
   "source": [
    "tester = train_model_fit(**model_params)"
   ],
   "outputs": [],
   "metadata": {
    "execution": {
     "iopub.execute_input": "2021-09-27T17:48:03.307946Z",
     "iopub.status.busy": "2021-09-27T17:48:03.307752Z",
     "iopub.status.idle": "2021-09-27T17:53:14.950008Z",
     "shell.execute_reply": "2021-09-27T17:53:14.949476Z",
     "shell.execute_reply.started": "2021-09-27T17:48:03.307929Z"
    }
   }
  }
 ],
 "metadata": {
  "kernelspec": {
   "display_name": "saturn (Python 3)",
   "language": "python",
   "name": "python3"
  },
  "language_info": {
   "codemirror_mode": {
    "name": "ipython",
    "version": 3
   },
   "file_extension": ".py",
   "mimetype": "text/x-python",
   "name": "python",
   "nbconvert_exporter": "python",
   "pygments_lexer": "ipython3",
   "version": "3.9.7"
  }
 },
 "nbformat": 4,
 "nbformat_minor": 5
}