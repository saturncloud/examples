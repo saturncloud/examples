{
 "cells": [
  {
   "cell_type": "markdown",
   "id": "390aeff0",
   "metadata": {
    "execution": {
     "iopub.execute_input": "2021-08-16T21:29:50.228313Z",
     "iopub.status.busy": "2021-08-16T21:29:50.228073Z",
     "iopub.status.idle": "2021-08-16T21:29:50.231558Z",
     "shell.execute_reply": "2021-08-16T21:29:50.230865Z",
     "shell.execute_reply.started": "2021-08-16T21:29:50.228252Z"
    }
   },
   "source": [
    "# Single Node Single GPU Training\n",
    "\n",
    "In this sample notebook, you'll train Resnet50 architecture to identify different species of birds. We are only running a few epochs, to save time, but once you've got this working you'll have all the information you need to build and run bigger Tensorflow models on Saturn Cloud.\n",
    "\n",
    "This notebook was run on a T4-4XLarge instance in tests, and we recommend not going much smaller with your instance size."
   ]
  },
  {
   "cell_type": "code",
   "execution_count": 8,
   "id": "5a87cdf6",
   "metadata": {
    "execution": {
     "iopub.execute_input": "2021-09-27T17:31:17.736129Z",
     "iopub.status.busy": "2021-09-27T17:31:17.735844Z",
     "iopub.status.idle": "2021-09-27T17:31:17.739915Z",
     "shell.execute_reply": "2021-09-27T17:31:17.739404Z",
     "shell.execute_reply.started": "2021-09-27T17:31:17.736108Z"
    }
   },
   "outputs": [],
   "source": [
    "import numpy as np, pandas as pd\n",
    "import requests, io, os, datetime, re\n",
    "import tensorflow as tf\n",
    "import keras\n",
    "import matplotlib.pyplot as plt\n",
    "from tensorflow.keras import datasets, layers, models, losses, Model\n",
    "from keras.applications import resnet50\n",
    "from keras.preprocessing import image\n",
    "import dask\n",
    "import time"
   ]
  },
  {
   "cell_type": "code",
   "execution_count": null,
   "id": "e23ee5ee",
   "metadata": {},
   "outputs": [],
   "source": [
    "import s3fs\n",
    "s3 = s3fs.S3FileSystem(anon=True)\n",
    "_ = s3.get(rpath='s3://saturn-public-data/100-bird-species/100-bird-species/*/*/*.jpg', lpath='dataset/birds/')"
   ]
  },
  {
   "cell_type": "markdown",
   "id": "0093ed00",
   "metadata": {},
   "source": [
    "The first time you run this job, you'll need to download the training and test data in the code chunk above. It'll take a few moments, but it shouldn't be too long. This small sample only includes 61 classes, but the original has 285. "
   ]
  },
  {
   "cell_type": "code",
   "execution_count": 15,
   "id": "e6013aab",
   "metadata": {
    "execution": {
     "iopub.execute_input": "2021-09-27T17:47:16.461946Z",
     "iopub.status.busy": "2021-09-27T17:47:16.461642Z",
     "iopub.status.idle": "2021-09-27T17:47:16.467396Z",
     "shell.execute_reply": "2021-09-27T17:47:16.466930Z",
     "shell.execute_reply.started": "2021-09-27T17:47:16.461925Z"
    }
   },
   "outputs": [],
   "source": [
    "def train_model_fit(n_epochs, base_lr, batchsize, classes):\n",
    "    \n",
    "    model = tf.keras.applications.ResNet50(\n",
    "        include_top=True,\n",
    "        weights=None,\n",
    "        classes=classes)\n",
    "        \n",
    "    # Data\n",
    "    train_ds = tf.keras.preprocessing.image_dataset_from_directory(\n",
    "        'dataset/birds/train',\n",
    "        image_size=(224,224),\n",
    "        batch_size=batchsize\n",
    "    ).prefetch(2).cache().shuffle(1000)\n",
    "        \n",
    "    valid_ds = tf.keras.preprocessing.image_dataset_from_directory(\n",
    "        'dataset/birds/valid',\n",
    "        image_size=(224,224),\n",
    "        batch_size=batchsize\n",
    "    ).prefetch(2)\n",
    "   \n",
    "    optimizer = keras.optimizers.Adam(lr=base_lr)\n",
    "    model.compile(loss='sparse_categorical_crossentropy', optimizer=optimizer, metrics=['accuracy'])\n",
    "    start = time.time()\n",
    "\n",
    "    model.fit(\n",
    "        train_ds, \n",
    "        epochs=n_epochs, \n",
    "        validation_data=valid_ds,\n",
    "    )\n",
    "    end = time.time()-start\n",
    "    print(\"model training time\", end)\n",
    "\n",
    "    tf.keras.models.save_model(model, 'model/keras_single/')"
   ]
  },
  {
   "cell_type": "code",
   "execution_count": 17,
   "id": "d6c64432",
   "metadata": {
    "execution": {
     "iopub.execute_input": "2021-09-27T17:48:02.551359Z",
     "iopub.status.busy": "2021-09-27T17:48:02.551066Z",
     "iopub.status.idle": "2021-09-27T17:48:02.554277Z",
     "shell.execute_reply": "2021-09-27T17:48:02.553818Z",
     "shell.execute_reply.started": "2021-09-27T17:48:02.551338Z"
    }
   },
   "outputs": [],
   "source": [
    "model_params = {'n_epochs': 3, \n",
    "                'base_lr': .02,\n",
    "                'classes': 61,\n",
    "                'batchsize': 64}\n"
   ]
  },
  {
   "cell_type": "markdown",
   "id": "ad9d7c79",
   "metadata": {},
   "source": [
    "The following chunk runs the model training process, and saves your trained model object to the Jupyter instance memory. A folder called `model` will be created and populated for you."
   ]
  },
  {
   "cell_type": "code",
   "execution_count": 18,
   "id": "42f1c3d1",
   "metadata": {
    "execution": {
     "iopub.execute_input": "2021-09-27T17:48:03.307946Z",
     "iopub.status.busy": "2021-09-27T17:48:03.307752Z",
     "iopub.status.idle": "2021-09-27T17:53:14.950008Z",
     "shell.execute_reply": "2021-09-27T17:53:14.949476Z",
     "shell.execute_reply.started": "2021-09-27T17:48:03.307929Z"
    }
   },
   "outputs": [
    {
     "name": "stdout",
     "output_type": "stream",
     "text": [
      "Found 8607 files belonging to 60 classes.\n",
      "Found 305 files belonging to 61 classes.\n",
      "Epoch 1/3\n",
      "135/135 [==============================] - 100s 646ms/step - loss: 8.3335 - accuracy: 0.0198 - val_loss: 4819.8525 - val_accuracy: 0.0164\n",
      "Epoch 2/3\n",
      "135/135 [==============================] - 93s 693ms/step - loss: 3.9781 - accuracy: 0.0408 - val_loss: 6.4528 - val_accuracy: 0.0164\n",
      "Epoch 3/3\n",
      "135/135 [==============================] - 98s 723ms/step - loss: 3.6925 - accuracy: 0.0592 - val_loss: 4.8213 - val_accuracy: 0.0262\n",
      "model training time 291.2997307777405\n",
      "INFO:tensorflow:Assets written to: model/keras_single/assets\n"
     ]
    }
   ],
   "source": [
    "tester = train_model_fit(**model_params)"
   ]
  }
 ],
 "metadata": {
  "kernelspec": {
   "display_name": "saturn (Python 3)",
   "language": "python",
   "name": "python3"
  },
  "language_info": {
   "codemirror_mode": {
    "name": "ipython",
    "version": 3
   },
   "file_extension": ".py",
   "mimetype": "text/x-python",
   "name": "python",
   "nbconvert_exporter": "python",
   "pygments_lexer": "ipython3",
   "version": "3.9.7"
  }
 },
 "nbformat": 4,
 "nbformat_minor": 5
}
