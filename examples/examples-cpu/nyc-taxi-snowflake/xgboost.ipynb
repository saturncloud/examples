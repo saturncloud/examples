{
 "cells": [
  {
   "cell_type": "markdown",
   "metadata": {},
   "source": [
    "# XGBoost regression\n",
    "\n",
    "## Single-node\n",
    "\n",
    "![xgboost](https://upload.wikimedia.org/wikipedia/commons/6/69/XGBoost_logo.png)"
   ]
  },
  {
   "cell_type": "code",
   "execution_count": 1,
   "metadata": {},
   "outputs": [],
   "source": [
    "import os\n",
    "\n",
    "MODEL_PATH = 'models'\n",
    "if not os.path.exists(MODEL_PATH):\n",
    "    os.makedirs(MODEL_PATH)\n",
    "    \n",
    "numeric_feat = [\n",
    "    'pickup_weekday', \n",
    "    'pickup_weekofyear', \n",
    "    'pickup_hour', \n",
    "    'pickup_week_hour', \n",
    "    'pickup_minute', \n",
    "    'passenger_count',\n",
    "]\n",
    "categorical_feat = [\n",
    "    'pickup_taxizone_id', \n",
    "    'dropoff_taxizone_id',\n",
    "]\n",
    "features = numeric_feat + categorical_feat\n",
    "y_col = 'tip_fraction'"
   ]
  },
  {
   "cell_type": "markdown",
   "metadata": {},
   "source": [
    "# Load data and feature engineering\n",
    "\n",
    "Load a sample from a single month for this exercise"
   ]
  },
  {
   "cell_type": "code",
   "execution_count": 3,
   "metadata": {},
   "outputs": [],
   "source": [
    "import os\n",
    "import numpy as np\n",
    "import datetime\n",
    "import pandas as pd\n",
    "import s3fs\n",
    "import warnings\n",
    "warnings.simplefilter(\"ignore\")\n",
    "\n",
    "import yaml\n",
    "import snowflake.connector\n",
    "\n",
    "creds = yaml.full_load(open('/home/jovyan/snowflake_creds.yml'))\n",
    "\n",
    "conn = snowflake.connector.connect(\n",
    "    warehouse='COMPUTE_WH',\n",
    "    database='NYC_TAXI',\n",
    "    schema='PUBLIC',\n",
    "    **creds,\n",
    ")\n",
    "query = \"\"\"\n",
    "SELECT \n",
    "    pickup_taxizone_id,\n",
    "    dropoff_taxizone_id,\n",
    "    passenger_count,\n",
    "    DIV0(TIP_AMOUNT, FARE_AMOUNT) as TIP_FRACTION,\n",
    "    DAYOFWEEKISO(PICKUP_DATETIME) - 1 as PICKUP_WEEKDAY,\n",
    "    WEEKOFYEAR(PICKUP_DATETIME) as PICKUP_WEEKOFYEAR,\n",
    "    HOUR(PICKUP_DATETIME) as PICKUP_HOUR,\n",
    "    (PICKUP_WEEKDAY * 24) + PICKUP_HOUR as PICKUP_WEEK_HOUR,\n",
    "    MINUTE(PICKUP_DATETIME) as PICKUP_MINUTE\n",
    "FROM taxi_yellow\n",
    "WHERE\n",
    "    date_trunc('MONTH', pickup_datetime) = %s\n",
    "\"\"\"\n",
    "cur = conn.cursor().execute(query, '2019-01-01')\n",
    "taxi = cur.fetch_pandas_all()\n",
    "taxi.columns = [x.lower() for x in taxi.columns]\n",
    "taxi = taxi.sample(frac=0.3, replace=False)"
   ]
  },
  {
   "cell_type": "code",
   "execution_count": 4,
   "metadata": {},
   "outputs": [
    {
     "name": "stdout",
     "output_type": "stream",
     "text": [
      "Num rows: 2300294, Size: 64.408232 MB\n"
     ]
    }
   ],
   "source": [
    "print(f'Num rows: {len(taxi)}, Size: {taxi.memory_usage(deep=True).sum() / 1e6} MB')"
   ]
  },
  {
   "cell_type": "code",
   "execution_count": 6,
   "metadata": {},
   "outputs": [],
   "source": [
    "taxi_train = taxi[features + [y_col]].astype(float).fillna(-1)"
   ]
  },
  {
   "cell_type": "code",
   "execution_count": 7,
   "metadata": {},
   "outputs": [
    {
     "data": {
      "text/html": [
       "<div>\n",
       "<style scoped>\n",
       "    .dataframe tbody tr th:only-of-type {\n",
       "        vertical-align: middle;\n",
       "    }\n",
       "\n",
       "    .dataframe tbody tr th {\n",
       "        vertical-align: top;\n",
       "    }\n",
       "\n",
       "    .dataframe thead th {\n",
       "        text-align: right;\n",
       "    }\n",
       "</style>\n",
       "<table border=\"1\" class=\"dataframe\">\n",
       "  <thead>\n",
       "    <tr style=\"text-align: right;\">\n",
       "      <th></th>\n",
       "      <th>pickup_weekday</th>\n",
       "      <th>pickup_weekofyear</th>\n",
       "      <th>pickup_hour</th>\n",
       "      <th>pickup_week_hour</th>\n",
       "      <th>pickup_minute</th>\n",
       "      <th>passenger_count</th>\n",
       "      <th>pickup_taxizone_id</th>\n",
       "      <th>dropoff_taxizone_id</th>\n",
       "      <th>tip_fraction</th>\n",
       "    </tr>\n",
       "  </thead>\n",
       "  <tbody>\n",
       "    <tr>\n",
       "      <th>6967932</th>\n",
       "      <td>1.0</td>\n",
       "      <td>2.0</td>\n",
       "      <td>9.0</td>\n",
       "      <td>33.0</td>\n",
       "      <td>38.0</td>\n",
       "      <td>1.0</td>\n",
       "      <td>233.0</td>\n",
       "      <td>164.0</td>\n",
       "      <td>0.000000</td>\n",
       "    </tr>\n",
       "    <tr>\n",
       "      <th>288609</th>\n",
       "      <td>0.0</td>\n",
       "      <td>4.0</td>\n",
       "      <td>17.0</td>\n",
       "      <td>17.0</td>\n",
       "      <td>51.0</td>\n",
       "      <td>2.0</td>\n",
       "      <td>113.0</td>\n",
       "      <td>142.0</td>\n",
       "      <td>0.208889</td>\n",
       "    </tr>\n",
       "    <tr>\n",
       "      <th>341787</th>\n",
       "      <td>0.0</td>\n",
       "      <td>4.0</td>\n",
       "      <td>21.0</td>\n",
       "      <td>21.0</td>\n",
       "      <td>6.0</td>\n",
       "      <td>1.0</td>\n",
       "      <td>170.0</td>\n",
       "      <td>87.0</td>\n",
       "      <td>0.137931</td>\n",
       "    </tr>\n",
       "    <tr>\n",
       "      <th>6062910</th>\n",
       "      <td>5.0</td>\n",
       "      <td>4.0</td>\n",
       "      <td>17.0</td>\n",
       "      <td>137.0</td>\n",
       "      <td>56.0</td>\n",
       "      <td>1.0</td>\n",
       "      <td>261.0</td>\n",
       "      <td>45.0</td>\n",
       "      <td>0.000000</td>\n",
       "    </tr>\n",
       "    <tr>\n",
       "      <th>6744498</th>\n",
       "      <td>1.0</td>\n",
       "      <td>5.0</td>\n",
       "      <td>15.0</td>\n",
       "      <td>39.0</td>\n",
       "      <td>15.0</td>\n",
       "      <td>2.0</td>\n",
       "      <td>237.0</td>\n",
       "      <td>237.0</td>\n",
       "      <td>0.206957</td>\n",
       "    </tr>\n",
       "  </tbody>\n",
       "</table>\n",
       "</div>"
      ],
      "text/plain": [
       "         pickup_weekday  pickup_weekofyear  pickup_hour  pickup_week_hour  \\\n",
       "6967932             1.0                2.0          9.0              33.0   \n",
       "288609              0.0                4.0         17.0              17.0   \n",
       "341787              0.0                4.0         21.0              21.0   \n",
       "6062910             5.0                4.0         17.0             137.0   \n",
       "6744498             1.0                5.0         15.0              39.0   \n",
       "\n",
       "         pickup_minute  passenger_count  pickup_taxizone_id  \\\n",
       "6967932           38.0              1.0               233.0   \n",
       "288609            51.0              2.0               113.0   \n",
       "341787             6.0              1.0               170.0   \n",
       "6062910           56.0              1.0               261.0   \n",
       "6744498           15.0              2.0               237.0   \n",
       "\n",
       "         dropoff_taxizone_id  tip_fraction  \n",
       "6967932                164.0      0.000000  \n",
       "288609                 142.0      0.208889  \n",
       "341787                  87.0      0.137931  \n",
       "6062910                 45.0      0.000000  \n",
       "6744498                237.0      0.206957  "
      ]
     },
     "execution_count": 7,
     "metadata": {},
     "output_type": "execute_result"
    }
   ],
   "source": [
    "taxi_train.head()"
   ]
  },
  {
   "cell_type": "markdown",
   "metadata": {},
   "source": [
    "# Train a model\n",
    "\n",
    "Setting `nthread=-1` tells xgboost to use all available cores on this machine to parallelize model training"
   ]
  },
  {
   "cell_type": "code",
   "execution_count": 8,
   "metadata": {},
   "outputs": [],
   "source": [
    "import xgboost\n",
    "\n",
    "xgb_reg = xgboost.XGBRegressor(\n",
    "    objective=\"reg:squarederror\",\n",
    "    tree_method='approx',\n",
    "    learning_rate=0.1,\n",
    "    max_depth=8,\n",
    "    n_estimators=100,\n",
    "    nthread=-1\n",
    ")"
   ]
  },
  {
   "cell_type": "code",
   "execution_count": 9,
   "metadata": {},
   "outputs": [
    {
     "name": "stdout",
     "output_type": "stream",
     "text": [
      "CPU times: user 17min 23s, sys: 9.93 s, total: 17min 33s\n",
      "Wall time: 11min 54s\n"
     ]
    }
   ],
   "source": [
    "%%time\n",
    "_ = xgb_reg.fit(taxi_train[features], y=taxi_train[y_col])"
   ]
  },
  {
   "cell_type": "markdown",
   "metadata": {},
   "source": [
    "## Save model"
   ]
  },
  {
   "cell_type": "code",
   "execution_count": 10,
   "metadata": {},
   "outputs": [],
   "source": [
    "import cloudpickle\n",
    "\n",
    "with open(f'{MODEL_PATH}/xgboost.pkl', 'wb') as f:\n",
    "    cloudpickle.dump(xgb_reg, f)"
   ]
  },
  {
   "cell_type": "markdown",
   "metadata": {},
   "source": [
    "## Calculate metrics on test set\n",
    "\n",
    "Use a different month for test set"
   ]
  },
  {
   "cell_type": "code",
   "execution_count": 12,
   "metadata": {},
   "outputs": [],
   "source": [
    "cur = conn.cursor().execute(query, '2019-02-01')\n",
    "taxi_test = cur.fetch_pandas_all()\n",
    "taxi_test.columns = [x.lower() for x in taxi_test.columns]\n",
    "taxi_test = taxi_test.sample(frac=0.3, replace=False)\n"
   ]
  },
  {
   "cell_type": "code",
   "execution_count": 13,
   "metadata": {},
   "outputs": [
    {
     "data": {
      "text/plain": [
       "17.250287388052328"
      ]
     },
     "execution_count": 13,
     "metadata": {},
     "output_type": "execute_result"
    }
   ],
   "source": [
    "from sklearn.metrics import mean_squared_error\n",
    "\n",
    "preds = xgb_reg.predict(taxi_test[features])\n",
    "mean_squared_error(taxi_test[y_col], preds, squared=False)"
   ]
  },
  {
   "cell_type": "code",
   "execution_count": null,
   "metadata": {},
   "outputs": [],
   "source": []
  }
 ],
 "metadata": {
  "kernelspec": {
   "display_name": "Python 3",
   "language": "python",
   "name": "python3"
  },
  "language_info": {
   "codemirror_mode": {
    "name": "ipython",
    "version": 3
   },
   "file_extension": ".py",
   "mimetype": "text/x-python",
   "name": "python",
   "nbconvert_exporter": "python",
   "pygments_lexer": "ipython3",
   "version": "3.7.7"
  }
 },
 "nbformat": 4,
 "nbformat_minor": 4
}
