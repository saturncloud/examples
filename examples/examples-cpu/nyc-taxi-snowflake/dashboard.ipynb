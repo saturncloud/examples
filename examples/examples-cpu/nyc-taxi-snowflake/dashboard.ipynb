{
 "cells": [
  {
   "cell_type": "markdown",
   "metadata": {},
   "source": [
    "# Running dashboard \n",
    "\n",
    "This notebook describes how to create a dashboard in Saturn, based on code you've written in a Jupyter notebook.\n",
    "\n",
    "### From notebook\n",
    "\n",
    "If you run all the cells in this notebook, the final cell will display the dashboard inline\n",
    "\n",
    "### From JupyterLab\n",
    "\n",
    "To run this from within JupyterLab: open a terminal and run:\n",
    "\n",
    "```bash\n",
    "panel serve /home/jovyan/project/examples/nyc-taxi-snowflake/dashboard.ipynb\n",
    "```\n",
    "\n",
    "The dashboard will be live behind the Jupyter proxy. You can copy the URL of this Jupyter window and replace `/lab/*` with `/proxy/5006/dashboard`. For example, your Jupyter URL might be:\n",
    "\n",
    "```\n",
    "https://main.demo.saturnenterprise.io/user/aaron/examples-cpu/lab/workspaces/examples-cpu\n",
    "```\n",
    "\n",
    "Then your dashboard URL would be: \n",
    "\n",
    "```\n",
    "https://main.demo.saturnenterprise.io/user/aaron/examples-cpu/proxy/5006/dashboard\n",
    "```\n",
    "\n",
    "It will take a few seconds to load when first viewing the page, as all the cells in this notebook must be executed first.\n",
    "\n",
    "### Deployment \n",
    "\n",
    "To run as part of a Deployment, use this for the Command (see readme for more details):\n",
    "\n",
    "```bash\n",
    "python -m panel serve /home/jovyan/project/examples/nyc-taxi-snowflake/dashboard.ipynb --port=8000 --address=\"0.0.0.0\" --allow-websocket-origin=\"*\"\n",
    "```"
   ]
  },
  {
   "cell_type": "markdown",
   "metadata": {},
   "source": [
    "# ML model predictions\n",
    "\n",
    "The `MODEL_URL` environment variable must be set to be able to get predictions from a deployed model. Otherwise the widget on the \"ML\" tab will return -1."
   ]
  },
  {
   "cell_type": "code",
   "execution_count": null,
   "metadata": {},
   "outputs": [],
   "source": [
    "import os\n",
    "import datetime as dt\n",
    "import numpy as np\n",
    "\n",
    "import hvplot.dask  # noqa\n",
    "import hvplot.pandas  # noqa\n",
    "from holoviews.streams import Selection1D\n",
    "from bokeh.models import HoverTool\n",
    "import panel as pn\n",
    "\n",
    "import logging\n",
    "\n",
    "logging.captureWarnings(True)"
   ]
  },
  {
   "cell_type": "code",
   "execution_count": null,
   "metadata": {},
   "outputs": [],
   "source": [
    "# URL to deployed model (see readme for more details)\n",
    "MODEL_URL = os.environ.get(\"MODEL_URL\", \"http://0.0.0.0:8000\")"
   ]
  },
  {
   "cell_type": "code",
   "execution_count": null,
   "metadata": {},
   "outputs": [],
   "source": [
    "import s3fs\n",
    "\n",
    "fs = s3fs.S3FileSystem(anon=True)"
   ]
  },
  {
   "cell_type": "markdown",
   "metadata": {},
   "source": [
    "## Read in data\n",
    "\n",
    "We'll start by reading in the shape file for the taxi zones provided by [NYC TLC](https://www1.nyc.gov/site/tlc/about/tlc-trip-record-data.page)."
   ]
  },
  {
   "cell_type": "code",
   "execution_count": null,
   "metadata": {},
   "outputs": [],
   "source": [
    "import zipfile\n",
    "\n",
    "with fs.open(\"s3://nyc-tlc/misc/taxi_zones.zip\") as f:\n",
    "    with zipfile.ZipFile(f) as zip_ref:\n",
    "        zip_ref.extractall(\"/tmp/taxi_zones\")"
   ]
  },
  {
   "cell_type": "code",
   "execution_count": null,
   "metadata": {},
   "outputs": [],
   "source": [
    "import geopandas as gpd\n",
    "\n",
    "zones = gpd.read_file(\"/tmp/taxi_zones/taxi_zones.shp\").to_crs(\"epsg:4326\")"
   ]
  },
  {
   "cell_type": "markdown",
   "metadata": {},
   "source": [
    "Run the below cell to visualize the shape file"
   ]
  },
  {
   "cell_type": "code",
   "execution_count": null,
   "metadata": {},
   "outputs": [],
   "source": [
    "# zones.hvplot(geo=True)"
   ]
  },
  {
   "cell_type": "code",
   "execution_count": null,
   "metadata": {},
   "outputs": [],
   "source": [
    "import geoviews as gv\n",
    "\n",
    "basemap = gv.tile_sources.CartoLight()"
   ]
  },
  {
   "cell_type": "markdown",
   "metadata": {},
   "source": [
    "### Query Snowflake\n",
    "\n",
    "Next we'll aggregate data using Snowflake and pull the results into Pandas"
   ]
  },
  {
   "cell_type": "code",
   "execution_count": null,
   "metadata": {},
   "outputs": [],
   "source": [
    "import os\n",
    "import snowflake.connector\n",
    "\n",
    "SNOWFLAKE_ACCOUNT = os.environ[\"SNOWFLAKE_ACCOUNT\"]\n",
    "SNOWFLAKE_USER = os.environ[\"SNOWFLAKE_USER\"]\n",
    "SNOWFLAKE_PASSWORD = os.environ[\"SNOWFLAKE_PASSWORD\"]\n",
    "\n",
    "SNOWFLAKE_WAREHOUSE = os.environ[\"SNOWFLAKE_WAREHOUSE\"]\n",
    "TAXI_DATABASE = os.environ[\"TAXI_DATABASE\"]\n",
    "TAXI_SCHEMA = os.environ[\"TAXI_SCHEMA\"]\n",
    "\n",
    "conn_info = {\n",
    "    \"account\": SNOWFLAKE_ACCOUNT,\n",
    "    \"user\": SNOWFLAKE_USER,\n",
    "    \"password\": SNOWFLAKE_PASSWORD,\n",
    "    \"warehouse\": SNOWFLAKE_WAREHOUSE,\n",
    "    \"database\": TAXI_DATABASE,\n",
    "    \"schema\": TAXI_SCHEMA,\n",
    "}\n",
    "conn = snowflake.connector.connect(**conn_info)"
   ]
  },
  {
   "cell_type": "code",
   "execution_count": null,
   "metadata": {},
   "outputs": [],
   "source": [
    "conn.cursor().execute(\n",
    "    \"\"\"\n",
    "CREATE OR REPLACE VIEW taxi_tip AS\n",
    "SELECT\n",
    "    *,\n",
    "    HOUR(pickup_datetime) as pickup_hour,\n",
    "    HOUR(dropoff_datetime) as dropoff_hour,\n",
    "    DAYOFWEEKISO(pickup_datetime) - 1 as pickup_weekday,  -- start week (Monday) at 0 to match pandas\n",
    "    DAYOFWEEKISO(dropoff_datetime) -1 as dropoff_weekday,\n",
    "    tip_amount / fare_amount * 100 as percent_tip\n",
    "FROM taxi_yellow\n",
    "WHERE\n",
    "    pickup_datetime BETWEEN '2017-01-01' AND '2019-12-31'\n",
    "    AND fare_amount > 0\n",
    "    AND tip_amount / fare_amount < 10\n",
    "\"\"\"\n",
    ")"
   ]
  },
  {
   "cell_type": "code",
   "execution_count": null,
   "metadata": {},
   "outputs": [],
   "source": [
    "def snowflake_query(query):\n",
    "    result = conn.cursor().execute(query).fetch_pandas_all()\n",
    "    result.columns = result.columns.str.lower()\n",
    "    return result"
   ]
  },
  {
   "cell_type": "code",
   "execution_count": null,
   "metadata": {},
   "outputs": [],
   "source": [
    "pickup_by_zone_and_time = snowflake_query(\n",
    "    \"\"\"\n",
    "SELECT\n",
    "    pickup_taxizone_id,\n",
    "    pickup_hour,\n",
    "    pickup_weekday,\n",
    "    AVG(fare_amount) as average_fare,\n",
    "    COUNT(fare_amount) as total_rides,\n",
    "    SUM(fare_amount) as total_fare,\n",
    "    AVG(trip_distance) as average_trip_distance,\n",
    "    AVG(percent_tip) as average_percent_tip\n",
    "FROM taxi_tip\n",
    "GROUP BY\n",
    "    pickup_taxizone_id,\n",
    "    pickup_hour,\n",
    "    pickup_weekday\n",
    "\"\"\"\n",
    ")\n",
    "pickup_by_zone_and_time.shape"
   ]
  },
  {
   "cell_type": "code",
   "execution_count": null,
   "metadata": {},
   "outputs": [],
   "source": [
    "pickup_by_zone_and_time.sort_values([\"pickup_taxizone_id\", \"pickup_hour\", \"pickup_weekday\"]).head()"
   ]
  },
  {
   "cell_type": "code",
   "execution_count": null,
   "metadata": {},
   "outputs": [],
   "source": [
    "pickup_by_zone = snowflake_query(\n",
    "    \"\"\"\n",
    "SELECT\n",
    "    pickup_taxizone_id,\n",
    "    AVG(fare_amount) as average_fare,\n",
    "    COUNT(fare_amount) as total_rides,\n",
    "    SUM(fare_amount) as total_fare,\n",
    "    AVG(trip_distance) as average_trip_distance,\n",
    "    AVG(percent_tip) as average_percent_tip\n",
    "FROM taxi_tip\n",
    "GROUP BY pickup_taxizone_id\n",
    "\"\"\"\n",
    ")\n",
    "pickup_by_zone = pickup_by_zone.sort_values(\"pickup_taxizone_id\").set_index(\"pickup_taxizone_id\")\n",
    "pickup_by_zone.shape"
   ]
  },
  {
   "cell_type": "code",
   "execution_count": null,
   "metadata": {},
   "outputs": [],
   "source": [
    "pickup_by_zone.head()"
   ]
  },
  {
   "cell_type": "code",
   "execution_count": null,
   "metadata": {},
   "outputs": [],
   "source": [
    "dropoff_by_zone = snowflake_query(\n",
    "    \"\"\"\n",
    "SELECT\n",
    "    dropoff_taxizone_id,\n",
    "    AVG(fare_amount) as average_fare,\n",
    "    COUNT(fare_amount) as total_rides,\n",
    "    SUM(fare_amount) as total_fare,\n",
    "    AVG(trip_distance) as average_trip_distance,\n",
    "    AVG(percent_tip) as average_percent_tip\n",
    "FROM taxi_tip\n",
    "GROUP BY dropoff_taxizone_id\n",
    "\"\"\"\n",
    ")\n",
    "dropoff_by_zone = dropoff_by_zone.sort_values(\"dropoff_taxizone_id\").set_index(\n",
    "    \"dropoff_taxizone_id\"\n",
    ")\n",
    "dropoff_by_zone.shape"
   ]
  },
  {
   "cell_type": "code",
   "execution_count": null,
   "metadata": {},
   "outputs": [],
   "source": [
    "dropoff_by_zone.head()"
   ]
  },
  {
   "cell_type": "code",
   "execution_count": null,
   "metadata": {},
   "outputs": [],
   "source": [
    "zones_dict = dict(zip(zones.LocationID.tolist(), zones.zone.tolist()))\n",
    "\n",
    "pickup_by_zone.index = pickup_by_zone.index.map(zones_dict)\n",
    "dropoff_by_zone.index = dropoff_by_zone.index.map(zones_dict)\n",
    "\n",
    "pickup_by_zone.head()"
   ]
  },
  {
   "cell_type": "code",
   "execution_count": null,
   "metadata": {},
   "outputs": [],
   "source": [
    "pickup_by_time = snowflake_query(\n",
    "    \"\"\"\n",
    "SELECT\n",
    "    pickup_hour,\n",
    "    pickup_weekday,\n",
    "    AVG(fare_amount) as average_fare,\n",
    "    COUNT(fare_amount) as total_rides,\n",
    "    SUM(fare_amount) as total_fare,\n",
    "    AVG(trip_distance) as average_trip_distance,\n",
    "    AVG(percent_tip) as average_percent_tip\n",
    "FROM taxi_tip\n",
    "GROUP BY pickup_hour, pickup_weekday\n",
    "\"\"\"\n",
    ")\n",
    "pickup_by_time.shape"
   ]
  },
  {
   "cell_type": "code",
   "execution_count": null,
   "metadata": {},
   "outputs": [],
   "source": [
    "pickup_by_time.sort_values([\"pickup_hour\", \"pickup_weekday\"]).head()"
   ]
  },
  {
   "cell_type": "markdown",
   "metadata": {},
   "source": [
    "### Timeseries data\n",
    "\n",
    "Next we'll read in the hourly timeseries data for the various fields"
   ]
  },
  {
   "cell_type": "code",
   "execution_count": null,
   "metadata": {},
   "outputs": [],
   "source": [
    "tip_timeseries = snowflake_query(\n",
    "    \"\"\"\n",
    "SELECT\n",
    "    DATE_TRUNC('HOUR', pickup_datetime) as pickup_datetime,\n",
    "    AVG(percent_tip) as percent_tip\n",
    "FROM taxi_tip\n",
    "GROUP BY 1\n",
    "\"\"\"\n",
    ")\n",
    "tip_timeseries = tip_timeseries.sort_values(\"pickup_datetime\").set_index(\"pickup_datetime\")\n",
    "tip_timeseries.shape"
   ]
  },
  {
   "cell_type": "code",
   "execution_count": null,
   "metadata": {},
   "outputs": [],
   "source": [
    "tip_timeseries.sort_values(\"pickup_datetime\").head()"
   ]
  },
  {
   "cell_type": "code",
   "execution_count": null,
   "metadata": {},
   "outputs": [],
   "source": [
    "conn.close()"
   ]
  },
  {
   "cell_type": "markdown",
   "metadata": {},
   "source": [
    "## Construct visualizations\n",
    "\n",
    "In this dashboard we'll have three tabs. We'll start with one about volume of rides and aggregate fare, then move on to one about tips and finish with a tab that digests the outputs of the Machine Learning algorithms that we've trained to predict fare.\n",
    "\n",
    "### Volume tab"
   ]
  },
  {
   "cell_type": "code",
   "execution_count": null,
   "metadata": {},
   "outputs": [],
   "source": [
    "total_rides = pickup_by_zone.total_rides.sum()\n",
    "total_fare = pickup_by_zone.total_fare.sum()"
   ]
  },
  {
   "cell_type": "code",
   "execution_count": null,
   "metadata": {},
   "outputs": [],
   "source": [
    "volume_intro = \"\"\"\n",
    "# Taxi Volume\n",
    "\n",
    "Ridership by region and average fares for 2017-01-01 to 2020-01-01.\n",
    "\"\"\""
   ]
  },
  {
   "cell_type": "code",
   "execution_count": null,
   "metadata": {},
   "outputs": [],
   "source": [
    "logo_file = \"/tmp/logo.svg\"\n",
    "fs.get(\"s3://saturn-public-data/nyc-taxi/data/dashboard/saturn_logo.svg\", logo_file)\n",
    "logo = pn.pane.SVG(logo_file, style={\"float\": \"right\"})"
   ]
  },
  {
   "cell_type": "code",
   "execution_count": null,
   "metadata": {},
   "outputs": [],
   "source": [
    "def kpi_box(title, color, value, unit=\"\"):\n",
    "    if value > 1e9:\n",
    "        value /= 1e9\n",
    "        increment = \"B\"\n",
    "    elif value > 1e6:\n",
    "        value /= 1e6\n",
    "        increment = \"M\"\n",
    "    elif value > 1e3:\n",
    "        value /= 1e3\n",
    "        increment = \"K\"\n",
    "    else:\n",
    "        increment = \"\"\n",
    "\n",
    "    return pn.pane.Markdown(\n",
    "        f\"\"\"\n",
    "        ### {title}\n",
    "        # {unit}{value :.02f} {increment}\n",
    "        \"\"\",\n",
    "        style={\n",
    "            \"background-color\": \"#F6F6F6\",\n",
    "            \"border\": \"2px solid black\",\n",
    "            \"border-radius\": \"5px\",\n",
    "            \"padding\": \"10px\",\n",
    "            \"color\": color,\n",
    "        },\n",
    "    )"
   ]
  },
  {
   "cell_type": "code",
   "execution_count": null,
   "metadata": {},
   "outputs": [],
   "source": [
    "fares = kpi_box(\"Total Fares\", \"#10874a\", total_fare, \"$\")\n",
    "rides = kpi_box(\"Total Rides\", \"#7a41ba\", total_rides)\n",
    "average = kpi_box(\"Average Fare\", \"coral\", (total_fare / total_rides), \"$\")"
   ]
  },
  {
   "cell_type": "code",
   "execution_count": null,
   "metadata": {},
   "outputs": [],
   "source": [
    "data = zones.join(pickup_by_zone[[\"total_rides\", \"average_fare\"]], on=\"zone\")\n",
    "data[\"million_rides\"] = data.total_rides / 1e6\n",
    "\n",
    "tooltips = [\n",
    "    (\"Total Rides\", \"@total_rides{(0,0.00 a)}\"),\n",
    "    (\"Average Fare\", \"@{average_fare}{($0.00 a)}\"),\n",
    "    (\"Zone\", \"@zone\"),\n",
    "    (\"Borough\", \"@borough\"),\n",
    "]\n",
    "hover = HoverTool(tooltips=tooltips)\n",
    "\n",
    "pickup_map = data.hvplot(\n",
    "    x=\"longitude\",\n",
    "    y=\"latitude\",\n",
    "    c=\"million_rides\",\n",
    "    geo=True,\n",
    "    max_width=600,\n",
    "    max_height=600,\n",
    "    alpha=0.6,\n",
    "    cmap=\"viridis\",\n",
    "    clim=(0, np.ceil(pickup_by_zone.total_rides.max() / 1e6)),\n",
    "    hover_cols=[\"zone\", \"borough\", \"average_fare\", \"total_rides\"],\n",
    "    title=\"Rides by pickup location (in Millions)\",\n",
    "    responsive=True,\n",
    "    colorbar=True,\n",
    "    xaxis=None,\n",
    "    yaxis=None,\n",
    "    selection_alpha=1,\n",
    ").opts(tools=[\"tap\", hover], toolbar=\"above\")"
   ]
  },
  {
   "cell_type": "code",
   "execution_count": null,
   "metadata": {},
   "outputs": [],
   "source": [
    "toggle = pn.widgets.RadioButtonGroup(options=[\"Pickup\", \"Dropoff\"], value=\"Pickup\")"
   ]
  },
  {
   "cell_type": "code",
   "execution_count": null,
   "metadata": {},
   "outputs": [],
   "source": [
    "@pn.depends(value=toggle)\n",
    "def volume_table(value):\n",
    "    data = pickup_by_zone if value == \"Pickup\" else dropoff_by_zone\n",
    "    subset = data.total_rides.sort_values(ascending=False)\n",
    "    subset = subset.loc[subset.index.dropna()]\n",
    "\n",
    "    return pn.Column(\n",
    "        f\"### Top/Bottom 5 {value} Zones\",\n",
    "        pn.pane.DataFrame(subset.head(5), index_names=False),\n",
    "        pn.Spacer(height=10),\n",
    "        pn.pane.DataFrame(subset.tail(5), index_names=False, header=False),\n",
    "        width_policy=\"fit\",\n",
    "    )"
   ]
  },
  {
   "cell_type": "code",
   "execution_count": null,
   "metadata": {},
   "outputs": [],
   "source": [
    "data = pickup_by_zone_and_time.copy()\n",
    "data.index = data.index.map(zones_dict)\n",
    "\n",
    "\n",
    "def heatmap(C, data=data, **kwargs):\n",
    "    return data.hvplot.heatmap(\n",
    "        x=\"pickup_weekday\",\n",
    "        y=\"pickup_hour\",\n",
    "        C=C,\n",
    "        hover_cols=[\"total_rides\"] if C == \"average_fare\" else [\"average_fare\"],\n",
    "        xticks=[\n",
    "            (0, \"Mon\"),\n",
    "            (1, \"Tues\"),\n",
    "            (2, \"Wed\"),\n",
    "            (3, \"Thur\"),\n",
    "            (4, \"Fri\"),\n",
    "            (5, \"Sat\"),\n",
    "            (6, \"Sun\"),\n",
    "        ],\n",
    "        responsive=True,\n",
    "        min_height=500,\n",
    "        colorbar=False,\n",
    "        **kwargs,\n",
    "    ).opts(toolbar=None, xrotation=90, padding=0)\n",
    "\n",
    "\n",
    "rides_dmap = heatmap(C=\"total_rides\", groupby=\"pickup_taxizone_id\", cmap=\"reds\")\n",
    "fare_dmap = heatmap(C=\"average_fare\", groupby=\"pickup_taxizone_id\", cmap=\"blues\")\n",
    "rides_summary = heatmap(data=pickup_by_time, C=\"total_rides\", cmap=\"reds\", title=\"Total Rides\")\n",
    "fare_summary = heatmap(data=pickup_by_time, C=\"average_fare\", cmap=\"blues\", title=\"Average Fare\")\n",
    "\n",
    "volume_heatmap = pn.pane.HoloViews(rides_summary)"
   ]
  },
  {
   "cell_type": "code",
   "execution_count": null,
   "metadata": {},
   "outputs": [],
   "source": [
    "def ride_or_fares_plot(zone, value):\n",
    "    if value == [\"Rides\"]:\n",
    "        if zone is None:\n",
    "            obj = rides_summary.opts(alpha=1)\n",
    "        else:\n",
    "            obj = rides_dmap[zone].opts(title=f\"{zone} Rides\").opts(alpha=1)\n",
    "    elif value == [\"Fares\"]:\n",
    "        if zone is None:\n",
    "            obj = fare_summary\n",
    "        else:\n",
    "            obj = fare_dmap[zone].opts(title=f\"{zone} Fares\")\n",
    "    else:\n",
    "        if zone is None:\n",
    "            obj = (fare_summary * rides_summary.opts(alpha=0.5, padding=0)).opts(\n",
    "                title=\"Total Rides/Fares\"\n",
    "            )\n",
    "        else:\n",
    "            obj = (fare_dmap[zone] * rides_dmap[zone].opts(alpha=0.5, padding=0)).opts(\n",
    "                title=f\"{zone}\"\n",
    "            )\n",
    "    return obj\n",
    "\n",
    "\n",
    "def on_pickup_tap(index):\n",
    "    if index:\n",
    "        zone = zones.loc[index, \"zone\"].item()\n",
    "        value = rides_or_fares.value\n",
    "        volume_heatmap.object = ride_or_fares_plot(zone, value)\n",
    "    return\n",
    "\n",
    "\n",
    "volume_stream = Selection1D(source=pickup_map)\n",
    "volume_stream.param.watch_values(on_pickup_tap, [\"index\"]);"
   ]
  },
  {
   "cell_type": "code",
   "execution_count": null,
   "metadata": {},
   "outputs": [],
   "source": [
    "rides_or_fares = pn.widgets.CheckButtonGroup(options=[\"Rides\", \"Fares\"], value=[\"Rides\"])"
   ]
  },
  {
   "cell_type": "code",
   "execution_count": null,
   "metadata": {},
   "outputs": [],
   "source": [
    "def on_rides_or_fares(target, event):\n",
    "    index = volume_stream.index\n",
    "    value = event.new\n",
    "    if index and value:\n",
    "        zone = zones.loc[index, \"zone\"].item()\n",
    "        volume_heatmap.object = ride_or_fares_plot(zone, value)\n",
    "\n",
    "\n",
    "rides_or_fares.link(volume_heatmap, callbacks={\"value\": on_rides_or_fares})\n",
    "\n",
    "\n",
    "def on_reset_heatmap(*args):\n",
    "    value = rides_or_fares.value\n",
    "    volume_heatmap.object = ride_or_fares_plot(None, value)\n",
    "\n",
    "\n",
    "reset_heatmap = pn.widgets.Button(name=\"Reset\")\n",
    "reset_heatmap.on_click(on_reset_heatmap)"
   ]
  },
  {
   "cell_type": "code",
   "execution_count": null,
   "metadata": {},
   "outputs": [],
   "source": [
    "volume = pn.GridSpec(\n",
    "    name=\"Volume\", sizing_mode=\"stretch_both\", min_width=800, min_height=600, max_height=800\n",
    ")\n",
    "volume[0, :6] = volume_intro\n",
    "volume[0, 6] = logo\n",
    "volume[1, 0] = fares\n",
    "volume[1, 1] = rides\n",
    "volume[1, 2] = average\n",
    "volume[1:4, 4:6] = pn.Column(toggle, volume_table)\n",
    "volume[1:8, 3] = pn.Column(\n",
    "    pn.pane.Markdown(\n",
    "        \"*Choose rides, fares, or both and select a zone on the map.*\", margin=(0, 10)\n",
    "    ),\n",
    "    rides_or_fares,\n",
    "    reset_heatmap,\n",
    "    volume_heatmap,\n",
    ")\n",
    "volume[2:8, 0:3] = pickup_map * gv.tile_sources.CartoLight()"
   ]
  },
  {
   "cell_type": "markdown",
   "metadata": {},
   "source": [
    "## Tip tab"
   ]
  },
  {
   "cell_type": "code",
   "execution_count": null,
   "metadata": {},
   "outputs": [],
   "source": [
    "tip_intro = \"\"\"\n",
    "# Analysis of Tips\n",
    "\n",
    "Tips vary based on time of day, location and many other factors.\n",
    "\"\"\""
   ]
  },
  {
   "cell_type": "code",
   "execution_count": null,
   "metadata": {},
   "outputs": [],
   "source": [
    "tip_heatmap = heatmap(\n",
    "    data=pickup_by_time,\n",
    "    C=\"average_percent_tip\",\n",
    "    cmap=\"coolwarm\",\n",
    "    clim=(12, 18),\n",
    "    title=\"Average Tip %\",\n",
    ")"
   ]
  },
  {
   "cell_type": "code",
   "execution_count": null,
   "metadata": {},
   "outputs": [],
   "source": [
    "date_range_slider = pn.widgets.DateRangeSlider(\n",
    "    name=\"Show between\",\n",
    "    start=tip_timeseries.index[0],\n",
    "    end=tip_timeseries.index[-1],\n",
    "    value=(tip_timeseries.index.min(), tip_timeseries.index.max()),\n",
    ")\n",
    "discrete_slider = pn.widgets.DiscreteSlider(\n",
    "    name=\"Rolling window\",\n",
    "    options=[\"1H\", \"2H\", \"4H\", \"6H\", \"12H\", \"1D\", \"2D\", \"7D\", \"14D\", \"1M\"],\n",
    "    value=\"1D\",\n",
    ")\n",
    "\n",
    "\n",
    "def tip_plot(xlim, window):\n",
    "    data = tip_timeseries.rolling(window).mean()\n",
    "    return data.hvplot(\n",
    "        y=\"percent_tip\", xlim=xlim, ylim=(10, 18), responsive=True, min_height=200\n",
    "    ).opts(toolbar=\"above\")\n",
    "\n",
    "\n",
    "tip_timeseries_plot = pn.pane.HoloViews(tip_plot(date_range_slider.value, discrete_slider.value))\n",
    "\n",
    "\n",
    "def trim(target, event):\n",
    "    target.object = tip_plot(event.new, discrete_slider.value)\n",
    "\n",
    "\n",
    "def roll(target, event):\n",
    "    target.object = tip_plot(date_range_slider.value, event.new)\n",
    "\n",
    "\n",
    "discrete_slider.link(tip_timeseries_plot, callbacks={\"value\": roll})\n",
    "date_range_slider.link(tip_timeseries_plot, callbacks={\"value\": trim})"
   ]
  },
  {
   "cell_type": "code",
   "execution_count": null,
   "metadata": {},
   "outputs": [],
   "source": [
    "joined = zones.join(pickup_by_zone, on=\"zone\")\n",
    "\n",
    "tip_map = joined.hvplot(\n",
    "    c=\"average_percent_tip\",\n",
    "    geo=True,\n",
    "    alpha=0.6,\n",
    "    cmap=\"coolwarm\",\n",
    "    hover_cols=[\"zone\", \"borough\"],\n",
    "    title=\"Average Tip %\",\n",
    "    clim=(0, 20),\n",
    "    responsive=True,\n",
    "    colorbar=False,\n",
    "    xaxis=None,\n",
    "    yaxis=None,\n",
    ").opts(toolbar=\"above\")"
   ]
  },
  {
   "cell_type": "code",
   "execution_count": null,
   "metadata": {},
   "outputs": [],
   "source": [
    "tip_table = pickup_by_zone.average_percent_tip.sort_values(ascending=False)\n",
    "tip_table = tip_table.loc[tip_table.index.dropna()]\n",
    "tip_pane = pn.Column(\n",
    "    \"### Top/Bottom 5 Tip Zones\",\n",
    "    pn.pane.DataFrame(tip_table.head(5), header=False, index_names=False),\n",
    "    pn.Spacer(height=10),\n",
    "    pn.pane.DataFrame(tip_table.tail(5), header=False, index_names=False),\n",
    ")"
   ]
  },
  {
   "cell_type": "code",
   "execution_count": null,
   "metadata": {},
   "outputs": [],
   "source": [
    "tips = pn.GridSpec(\n",
    "    name=\"Tips\", sizing_mode=\"stretch_both\", min_width=800, min_height=600, max_height=800\n",
    ")\n",
    "\n",
    "tips[0, :6] = tip_intro\n",
    "tips[0, 6] = logo\n",
    "tips[1:5, 0:2] = tip_map * gv.tile_sources.CartoLight()\n",
    "tips[1:5, 2:4] = tip_pane\n",
    "tips[1:5, 4:6] = tip_heatmap\n",
    "\n",
    "tips[5:8, 0:2] = pn.Column(\n",
    "    date_range_slider,\n",
    "    discrete_slider,\n",
    "    \"*Use widgets to control rolling window average on the timeseries plot or and to restrict to between certain dates*\",\n",
    ")\n",
    "tips[5:8, 2:6] = tip_timeseries_plot"
   ]
  },
  {
   "cell_type": "markdown",
   "metadata": {},
   "source": [
    "## ML Tab"
   ]
  },
  {
   "cell_type": "code",
   "execution_count": null,
   "metadata": {},
   "outputs": [],
   "source": [
    "ml_intro = \"\"\"\n",
    "# Machine Learning\n",
    "\n",
    "Predict percent tip by consuming a deployed model. Must set MODEL_URL environment variable in Project or Deployment, otherwise the prediction will be -1 (see readme for more details).\n",
    "\"\"\""
   ]
  },
  {
   "cell_type": "code",
   "execution_count": null,
   "metadata": {},
   "outputs": [],
   "source": [
    "import requests\n",
    "\n",
    "\n",
    "def tip_prediction(pickup_taxizone_id, dropoff_taxizone_id, datetime, passenger_count):\n",
    "    try:\n",
    "        SCORING_ENDPOINT = f\"{MODEL_URL}/api/predict\"\n",
    "\n",
    "        SATURN_TOKEN = os.environ[\"SATURN_TOKEN\"]\n",
    "\n",
    "        result = requests.post(\n",
    "            url=SCORING_ENDPOINT,\n",
    "            json={\n",
    "                \"passenger_count\": passenger_count,\n",
    "                \"tpep_pickup_datetime\": str(datetime),\n",
    "                \"pickup_taxizone_id\": int(pickup_taxizone_id),\n",
    "                \"dropoff_taxizone_id\": int(dropoff_taxizone_id),\n",
    "            },\n",
    "            headers={\n",
    "                \"Accept\": \"application/json\",\n",
    "                \"Content-Type\": \"application/json\",\n",
    "                \"Authorization\": f\"token {SATURN_TOKEN}\",\n",
    "            },\n",
    "        )\n",
    "\n",
    "        return float(result.json()[\"prediction\"]) * 100\n",
    "    except:\n",
    "        return -1"
   ]
  },
  {
   "cell_type": "code",
   "execution_count": null,
   "metadata": {},
   "outputs": [],
   "source": [
    "options = {\"Choose from map\": -1, **{v: k for k, v in zones.zone.to_dict().items()}}\n",
    "pickup = pn.widgets.Select(name=\"Pickup\", options=options)\n",
    "dropoff = pn.widgets.Select(name=\"Dropoff\", options=options)\n",
    "passengers = pn.widgets.IntSlider(name=\"Passengers\", start=0, end=10, step=1, value=2)\n",
    "plot = zones.hvplot(\n",
    "    geo=True,\n",
    "    c=\"zone\",\n",
    "    legend=False,\n",
    "    width=500,\n",
    "    height=500,\n",
    "    xaxis=None,\n",
    "    yaxis=None,\n",
    "    alpha=0.2,\n",
    "    selection_alpha=1,\n",
    ").opts(tools=[\"tap\", \"hover\"])\n",
    "\n",
    "\n",
    "def on_map_select(index):\n",
    "    if index and pickup.value == -1:\n",
    "        pickup.value = index[0]\n",
    "    elif index and dropoff.value == -1:\n",
    "        dropoff.value = index[0]\n",
    "    return\n",
    "\n",
    "\n",
    "stream = Selection1D(source=plot)\n",
    "stream.param.watch_values(on_map_select, [\"index\"])\n",
    "\n",
    "overlay = pn.pane.HoloViews(plot * gv.tile_sources.CartoLight())\n",
    "\n",
    "\n",
    "def on_reset(*args):\n",
    "    pickup.value = -1\n",
    "    dropoff.value = -1\n",
    "    passengers.value = 2\n",
    "    date.value = dt.datetime.now().date()\n",
    "    hour.value = 0\n",
    "    text.background = \"#ffffff\"\n",
    "    text.object = None\n",
    "    stream.update(index=[])\n",
    "    overlay.object = plot * gv.tile_sources.CartoLight()\n",
    "\n",
    "\n",
    "reset = pn.widgets.Button(name=\"Reset\", width=80)\n",
    "reset.on_click(on_reset)\n",
    "\n",
    "date = pn.widgets.DatePicker(name=\"Date\", value=dt.datetime.now().date())\n",
    "hour = pn.widgets.DiscreteSlider(\n",
    "    name=\"Hour\",\n",
    "    options=dict(\n",
    "        zip(\n",
    "            [\"12am\", *[f\"{h}am\" for h in range(1, 12)], \"12pm\", *[f\"{h}pm\" for h in range(1, 12)]],\n",
    "            list(range(24)),\n",
    "        )\n",
    "    ),\n",
    ")\n",
    "\n",
    "submit = pn.widgets.Button(name=\"Predict my tip\", button_type=\"primary\", width=200)\n",
    "text = pn.pane.Markdown(width=200, height=45, style={\"padding-left\": \"10pt\"})\n",
    "helper = pn.pane.Markdown(width=300)\n",
    "\n",
    "\n",
    "def b(event):\n",
    "    if pickup.value == -1 or dropoff.value == -1:\n",
    "        submit.button_type = \"danger\"\n",
    "        helper.object = \"*You must select pickup and dropoff zone*\"\n",
    "        return\n",
    "\n",
    "    submit.button_type = \"primary\"\n",
    "    helper.object = None\n",
    "    datetime = dt.datetime.combine(date.value, dt.time(hour=hour.value))\n",
    "\n",
    "    prediction = tip_prediction(pickup.value, dropoff.value, datetime, passengers.value)\n",
    "\n",
    "    subset = zones.iloc[[pickup.value, dropoff.value]]\n",
    "\n",
    "    trip = gv.Path((subset.geometry.centroid.x, subset.geometry.centroid.y)).opts(\n",
    "        color=\"black\", line_width=2\n",
    "    )\n",
    "\n",
    "    obj = plot * gv.tile_sources.CartoLight() * subset.hvplot(geo=True) * trip\n",
    "    obj.label = f\"{subset.zone.tolist()[0]} to {subset.zone.tolist()[1]}\"\n",
    "\n",
    "    overlay.object = obj\n",
    "\n",
    "    text.background = \"yellow\"\n",
    "    text.object = f\"## Prediction: {prediction: .2f}%\"\n",
    "\n",
    "\n",
    "submit.on_click(b)\n",
    "\n",
    "predict = pn.Row(\n",
    "    pn.Column(\n",
    "        \"## Predict my Tip\",\n",
    "        pickup,\n",
    "        dropoff,\n",
    "        passengers,\n",
    "        date,\n",
    "        hour,\n",
    "        pn.Row(submit, reset),\n",
    "        helper,\n",
    "        text,\n",
    "    ),\n",
    "    overlay,\n",
    ")"
   ]
  },
  {
   "cell_type": "code",
   "execution_count": null,
   "metadata": {},
   "outputs": [],
   "source": [
    "ml = pn.GridSpec(\n",
    "    name=\"ML\", sizing_mode=\"stretch_both\", min_width=800, min_height=600, max_height=800\n",
    ")\n",
    "\n",
    "ml[0, :6] = ml_intro\n",
    "ml[0, 6] = logo\n",
    "ml[2:8, :6] = predict"
   ]
  },
  {
   "cell_type": "markdown",
   "metadata": {},
   "source": [
    "## Final Dashboard"
   ]
  },
  {
   "cell_type": "code",
   "execution_count": null,
   "metadata": {},
   "outputs": [],
   "source": [
    "pn.Tabs(volume, tips, ml, tabs_location=\"left\").servable(title=\"Saturn Taxi\")"
   ]
  },
  {
   "cell_type": "markdown",
   "metadata": {},
   "source": [
    "<hr>\n",
    "\n",
    "## Next Steps\n",
    "\n",
    "In this tutorial, you learned how to deploy an interactive dashboard on Saturn Cloud, based on data from Snowflake, and including a component that interacts with a deployed machine learning model.\n",
    "\n",
    "If you haven't yet, try [this Dask + xgboost notebook](./xgboost-dask.ipynb) to see how to perform distributed XGBoost training using Dask.\n",
    "\n",
    "<hr>"
   ]
  }
 ],
 "metadata": {
  "kernelspec": {
   "display_name": "Python 3",
   "language": "python",
   "name": "python3"
  },
  "language_info": {
   "codemirror_mode": {
    "name": "ipython",
    "version": 3
   },
   "file_extension": ".py",
   "mimetype": "text/x-python",
   "name": "python",
   "nbconvert_exporter": "python",
   "pygments_lexer": "ipython3",
   "version": "3.7.7"
  }
 },
 "nbformat": 4,
 "nbformat_minor": 4
}
