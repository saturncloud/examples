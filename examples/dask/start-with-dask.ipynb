{
 "cells": [
  {
   "cell_type": "markdown",
   "source": [
    "# Getting started with Dask on Saturn Cloud"
   ],
   "metadata": {
    "execution": {
     "iopub.execute_input": "2021-03-10T17:00:41.290664Z",
     "iopub.status.busy": "2021-03-10T17:00:41.290399Z",
     "iopub.status.idle": "2021-03-10T17:00:41.295101Z",
     "shell.execute_reply": "2021-03-10T17:00:41.294444Z",
     "shell.execute_reply.started": "2021-03-10T17:00:41.290597Z"
    }
   }
  },
  {
   "cell_type": "markdown",
   "source": [
    "\n",
    "Dask is a framework that easily lets you run Python in parallel across distributed machines. Below is a small example of using Dask on Saturn Cloud. The code creates a function that computes exponents and runs it across a list of inputs in parallel.\n",
    "\n",
    "_For more details about the basics of Dask, read the [Parallelization in Python](https://saturncloud.io/docs/reference/dask_concepts/) article in the Saturn Cloud docs._ You can also look at the [Saturn Cloud Dask examples](https://saturncloud.io/docs/examples/dask/), and [the official Dask documentation](https://docs.dask.org/en/latest/).\n",
    "\n",
    "Before running this example, you need to [create a Dask cluster](https://saturncloud.io/docs/using-saturn-cloud/create-cluster/) associated with this resource\n",
    "\n",
    "This code chunk imports the Dask libraries and connects to the Saturn Cloud Dask cluster. "
   ],
   "metadata": {}
  },
  {
   "cell_type": "code",
   "execution_count": null,
   "source": [
    "import dask\n",
    "from dask_saturn import SaturnCluster\n",
    "from dask.distributed import Client\n",
    "\n",
    "cluster = SaturnCluster()\n",
    "client = Client(cluster)"
   ],
   "outputs": [],
   "metadata": {}
  },
  {
   "cell_type": "markdown",
   "source": [
    "You can use the `@dask.delayed` decorator to change a regular Python function into a lazily-evaluated function. That means that a function call will return a future, instead of a value. The function won't immediately do the computation when it is run, instead only when that future object has its result requested."
   ],
   "metadata": {}
  },
  {
   "cell_type": "code",
   "execution_count": null,
   "source": [
    "@dask.delayed\n",
    "def lazy_exponent(args):\n",
    "    x, y = args\n",
    "    \"\"\"Define a lazily evaluating function\"\"\"\n",
    "    return x ** y"
   ],
   "outputs": [],
   "metadata": {}
  },
  {
   "cell_type": "markdown",
   "source": [
    "The Dask distributed client comes with several methods for managing collections of such futures. The code below shows how to use a few of these.\n",
    "\n",
    "* `client.map(f, x)` - run function `f` once per item in a list-like object `x`. Returns a list of futures that can then be evaluated.\n",
    "* `client.gather(futures)` - Given a list of futures held by Dask workers, pulls them back to the client. Returns a list of delayed results (in this example).\n",
    "* `client.compute(delayed_results)` - Given a list of delayed results, brings the results on the client. Returns a list of futures (`sync=False`) or actual function results (`sync=True`)\n",
    "* `.result()` - Wait for a future to complete. Returns its actual value.\n",
    "\n",
    "All together, the code below will take the list of inputs, converts them to futures held by Dask workers for apply the exponental function, gathers them onto the client machine, and determines the results."
   ],
   "metadata": {}
  },
  {
   "cell_type": "code",
   "execution_count": null,
   "source": [
    "inputs = [[1, 2], [3, 4], [5, 6], [9, 10], [11, 12]]\n",
    "\n",
    "example_future = client.map(lazy_exponent, inputs)\n",
    "futures_gathered = client.gather(example_future)\n",
    "futures_computed = client.compute(futures_gathered, sync=False)\n",
    "\n",
    "results = [x.result() for x in futures_computed]\n",
    "results"
   ],
   "outputs": [],
   "metadata": {}
  },
  {
   "cell_type": "markdown",
   "source": [
    "This was _somewhat_ of a toy example--you probably want to do more complex computations than exponents with Dask. However the core concept of making a function and then running it in a distributed fashion is at the core of what you can do with Dask on Saturn Cloud.\n",
    "\n",
    "\n",
    "When you're done, you can close the connection to the cluster:"
   ],
   "metadata": {}
  },
  {
   "cell_type": "code",
   "execution_count": null,
   "source": [
    "client.close()"
   ],
   "outputs": [],
   "metadata": {}
  }
 ],
 "metadata": {
  "kernelspec": {
   "display_name": "Python 3",
   "language": "python",
   "name": "python3"
  },
  "language_info": {
   "codemirror_mode": {
    "name": "ipython",
    "version": 3
   },
   "file_extension": ".py",
   "mimetype": "text/x-python",
   "name": "python",
   "nbconvert_exporter": "python",
   "pygments_lexer": "ipython3",
   "version": "3.8.5-final"
  }
 },
 "nbformat": 4,
 "nbformat_minor": 4
}
