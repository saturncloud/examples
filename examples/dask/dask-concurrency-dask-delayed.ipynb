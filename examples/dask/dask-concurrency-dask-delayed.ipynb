{
 "cells": [
  {
   "cell_type": "markdown",
   "id": "87f83d4d-0ab3-479a-a7d0-8e3eb8c87d32",
   "metadata": {},
   "source": [
    "# Dask Delayed"
   ]
  },
  {
   "cell_type": "markdown",
   "id": "faef6f75-6bbb-4c38-be66-e789ab89347a",
   "metadata": {},
   "source": [
    "In many situations you may want to directly run an algorithm on a distributed cluster rather than using a high-level library like Dask data collections. When you find yourself wanted to parallelize a particular algorithm or set of code, Dask Delayed can be a powerful tool. When using Dask Delayed you do not need to directly make any changes to your existing code. Instead, you'll take your existing functions and use those as the blocks that get run in parallel on the cluster. Dask will take the functions, built a task graph to determine how they should be run, then execute them in parallel.\n",
    "\n",
    "In the example below we have a formula one laptime dataset taken from [kaggle](https://www.kaggle.com/rohanrao/formula-1-world-championship-1950-2020?select=lap_times.csv). We will be finding range of lap time for a formula one driver. First we create a pandas DataFrame out of csv file and filter out data for driver ID 20. We then create and run three functions: finding maximum laptime, finding minimum laptime, and then getting the range out of it.\n",
    "\n",
    "We'll start with it entirely using pandas and without Dask:"
   ]
  },
  {
   "cell_type": "code",
   "execution_count": null,
   "id": "69991a25-ea82-480e-b1eb-619678d988b4",
   "metadata": {
    "execution": {
     "iopub.execute_input": "2022-01-12T21:09:52.915597Z",
     "iopub.status.busy": "2022-01-12T21:09:52.915341Z",
     "iopub.status.idle": "2022-01-12T21:09:53.508390Z",
     "shell.execute_reply": "2022-01-12T21:09:53.507833Z",
     "shell.execute_reply.started": "2022-01-12T21:09:52.915516Z"
    },
    "tags": []
   },
   "outputs": [],
   "source": [
    "import pandas as pd\n",
    "\n",
    "f1 = pd.read_csv(\n",
    "    \"s3://saturn-public-data/examples/Dask/f1_laptime.csv\", storage_options={\"anon\": True}\n",
    ")\n",
    "d_20 = f1[f1[\"driverId\"] == 20]\n",
    "\n",
    "\n",
    "def max_lap(x):\n",
    "    return max(x)\n",
    "\n",
    "\n",
    "def min_lap(x):\n",
    "    return min(x)\n",
    "\n",
    "\n",
    "def range_lap(a, b):\n",
    "    return a - b"
   ]
  },
  {
   "cell_type": "markdown",
   "id": "709e2d2e-7831-479d-be90-83963bb160bd",
   "metadata": {},
   "source": [
    "We call all three functions one by one on the pandas DataFrame. Each function gets executed in that sequence and in the end we print the result.  "
   ]
  },
  {
   "cell_type": "code",
   "execution_count": null,
   "id": "17bd9557-7152-4a5f-92ac-294626ac56df",
   "metadata": {
    "execution": {
     "iopub.execute_input": "2022-01-12T21:09:53.509520Z",
     "iopub.status.busy": "2022-01-12T21:09:53.509299Z",
     "iopub.status.idle": "2022-01-12T21:09:53.523776Z",
     "shell.execute_reply": "2022-01-12T21:09:53.523137Z",
     "shell.execute_reply.started": "2022-01-12T21:09:53.509489Z"
    }
   },
   "outputs": [],
   "source": [
    "a = max_lap(d_20.milliseconds)\n",
    "b = min_lap(d_20.milliseconds)\n",
    "c = range_lap(a, b)\n",
    "\n",
    "c"
   ]
  },
  {
   "cell_type": "markdown",
   "id": "adf6185f",
   "metadata": {},
   "source": [
    "To use Dask, first start the Dask cluster associated with your Saturn Cloud resource."
   ]
  },
  {
   "cell_type": "code",
   "execution_count": null,
   "id": "ae733809",
   "metadata": {},
   "outputs": [],
   "source": [
    "from dask_saturn import SaturnCluster\n",
    "from dask.distributed import Client\n",
    "\n",
    "client = Client(SaturnCluster())"
   ]
  },
  {
   "cell_type": "markdown",
   "id": "765e0a9a-040d-4bf8-92d6-a32ac12bb8a3",
   "metadata": {},
   "source": [
    "After running the above command, it's recommended that you check on the Saturn Cloud resource page that the Dask cluster as fully online before continuing. Alternatively, you can use the command `client.wait_for_workers(3)` to halt the notebook execution until all three of the workers are ready.\n",
    "\n",
    "Now let us use `dask.delayed` around each function. As an alternate you can also use the decorator `@dask.delayed` above the function definitions. This will establish that the function should be lazy and not evaluate until you tell it. So all this while instead of computing each function one by one, Dask Delayed will be creating a task graph which will indicate how to achieve parallelism. Note when we print result `c` this time, it does not print the result, instead it prints object.  "
   ]
  },
  {
   "cell_type": "code",
   "execution_count": null,
   "id": "4c824eb7-74d8-4c87-8b37-ac2e8c7c507d",
   "metadata": {
    "execution": {
     "iopub.execute_input": "2022-01-12T21:09:53.525593Z",
     "iopub.status.busy": "2022-01-12T21:09:53.525369Z",
     "iopub.status.idle": "2022-01-12T21:09:53.628393Z",
     "shell.execute_reply": "2022-01-12T21:09:53.627721Z",
     "shell.execute_reply.started": "2022-01-12T21:09:53.525563Z"
    }
   },
   "outputs": [],
   "source": [
    "import dask\n",
    "\n",
    "max_lap = dask.delayed(max_lap)\n",
    "min_lap = dask.delayed(min_lap)\n",
    "range_lap = dask.delayed(range_lap)\n",
    "\n",
    "a = max_lap(d_20.milliseconds)\n",
    "b = min_lap(d_20.milliseconds)\n",
    "c = range_lap(a, b)\n",
    "\n",
    "c"
   ]
  },
  {
   "cell_type": "markdown",
   "id": "e823b425",
   "metadata": {},
   "source": [
    "We can visualize what the task graph for the Dask operation is by using the `.visualize()` command:"
   ]
  },
  {
   "cell_type": "code",
   "execution_count": null,
   "id": "139f6007-76bf-4933-a170-c0efb47f5275",
   "metadata": {
    "execution": {
     "iopub.execute_input": "2022-01-12T21:09:53.629880Z",
     "iopub.status.busy": "2022-01-12T21:09:53.629651Z",
     "iopub.status.idle": "2022-01-12T21:09:53.681186Z",
     "shell.execute_reply": "2022-01-12T21:09:53.680612Z",
     "shell.execute_reply.started": "2022-01-12T21:09:53.629848Z"
    }
   },
   "outputs": [],
   "source": [
    "c.visualize()"
   ]
  },
  {
   "cell_type": "markdown",
   "id": "9be0b70f-fe8f-461d-bdec-65df25d9a8a9",
   "metadata": {},
   "source": [
    "Only when you do `.compute()` , dask delayed will perform execution in sequence shown in task graph. "
   ]
  },
  {
   "cell_type": "code",
   "execution_count": null,
   "id": "86ad257a-1919-4f14-a993-121a8bf0f032",
   "metadata": {
    "execution": {
     "iopub.execute_input": "2022-01-12T21:09:53.683078Z",
     "iopub.status.busy": "2022-01-12T21:09:53.682835Z",
     "iopub.status.idle": "2022-01-12T21:09:53.694429Z",
     "shell.execute_reply": "2022-01-12T21:09:53.693921Z",
     "shell.execute_reply.started": "2022-01-12T21:09:53.683042Z"
    }
   },
   "outputs": [],
   "source": [
    "c.compute()"
   ]
  },
  {
   "cell_type": "markdown",
   "id": "b3641bc6",
   "metadata": {},
   "source": [
    "And that is a simple example of using Dask Delayed on a Saturn Cloud distributed Dask Cluster. For more details on using Dask Delay, see the official [Dask Delayed Documentation](https://docs.dask.org/en/stable/delayed.html)."
   ]
  }
 ],
 "metadata": {
  "kernelspec": {
   "display_name": "Python 3",
   "language": "python",
   "name": "python3"
  },
  "language_info": {
   "codemirror_mode": {
    "name": "ipython",
    "version": 3
   },
   "file_extension": ".py",
   "mimetype": "text/x-python",
   "name": "python",
   "nbconvert_exporter": "python",
   "pygments_lexer": "ipython3",
   "version": "3.8.8"
  }
 },
 "nbformat": 4,
 "nbformat_minor": 5
}
