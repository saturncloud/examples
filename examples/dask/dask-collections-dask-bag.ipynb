{
 "cells": [
  {
   "cell_type": "markdown",
   "id": "aebf9f93",
   "metadata": {},
   "source": [
    "# Dask Bags"
   ]
  },
  {
   "cell_type": "markdown",
   "id": "f29caf06",
   "metadata": {},
   "source": [
    "Dask Bags are used for taking a collection of Python objects and processing them in parallel. It can be thought as a bunch of lists, and each list holds some numbers . It's like python map reduce functions. Dask Bag implements operations like map, filter, fold, and groupby on collections of generic Python objects.\n",
    "\n",
    "Sometimes data is not structured or is semi structured and might not be handled in the most efficient way in dask dataframes, eg Dask dataframes do not support nested json files. In such cases, dask bags are very useful. You can do cleaning, data preprocession of messy data and then convert data to flat columns (like dask dataframes) for implementing complex algorithms like machine learning. "
   ]
  },
  {
   "cell_type": "markdown",
   "id": "b6b898c0",
   "metadata": {},
   "source": [
    "![abc](https://saturn-public-assets.s3.us-east-2.amazonaws.com/example-resources/dask-bag.png)"
   ]
  },
  {
   "cell_type": "markdown",
   "id": "f4656a91",
   "metadata": {},
   "source": [
    "First, start the Dask cluster associated with your Saturn Cloud resource."
   ]
  },
  {
   "cell_type": "code",
   "execution_count": null,
   "id": "b9d9c228-c603-4c8c-96e0-47252360fca4",
   "metadata": {},
   "outputs": [],
   "source": [
    "from dask_saturn import SaturnCluster\n",
    "from dask.distributed import Client\n",
    "\n",
    "client = Client(SaturnCluster())"
   ]
  },
  {
   "cell_type": "markdown",
   "id": "a4a8629f",
   "metadata": {},
   "source": [
    "After running the above command, it's recommend that you check on the Saturn Cloud resource page that the Dask cluster as fully online before continuing. Alternatively, you can use the command `client.wait_for_workers(3)` to halt the notebook execution until all three of the workers are ready.\n",
    "\n",
    "## Create a Dask Bag from a list\n",
    "\n",
    "In code below we are loading data from a simple Python iteration. Parameter `npartitions` has been set to 2. By default Dask tries to partition data into around a hundred partitions."
   ]
  },
  {
   "cell_type": "code",
   "execution_count": null,
   "id": "aa685442",
   "metadata": {},
   "outputs": [],
   "source": [
    "import dask.bag as db\n",
    "\n",
    "x = db.from_sequence(list(range(1, 9)), npartitions=2)"
   ]
  },
  {
   "cell_type": "markdown",
   "id": "c52e6e27",
   "metadata": {},
   "source": [
    "## Create a Dask Bag by loading files\n",
    "\n",
    "Function `read_text` is used to load data directly from a single file or a bunch of files. In code below we are loading data from 2 files. "
   ]
  },
  {
   "cell_type": "code",
   "execution_count": null,
   "id": "3ade5a62",
   "metadata": {},
   "outputs": [],
   "source": [
    "x = db.read_text(\n",
    "    [\n",
    "        \"s3://saturn-public-data/examples/Dask/1.json\",\n",
    "        \"s3://saturn-public-data/examples/Dask/2.json\",\n",
    "    ],\n",
    "    storage_options={\"anon\": True},\n",
    ")"
   ]
  },
  {
   "cell_type": "markdown",
   "id": "f09c5ed7",
   "metadata": {},
   "source": [
    "## Example using bags\n",
    "\n",
    "In this example we will load F1 racing data and find the names of F1 drivers whose are ranked 1st through 10th. The data is available from a public URL.\n",
    "\n",
    "The command below reads the data from the public URL, then takes the first 2 elements."
   ]
  },
  {
   "cell_type": "code",
   "execution_count": null,
   "id": "c31926dd",
   "metadata": {
    "tags": []
   },
   "outputs": [],
   "source": [
    "import json\n",
    "\n",
    "b = db.read_text(\n",
    "    \"s3://saturn-public-data/examples/Dask/0.json\", storage_options={\"anon\": True}\n",
    ").map(json.loads)\n",
    "b.take(2)"
   ]
  },
  {
   "cell_type": "markdown",
   "id": "39aa7d05",
   "metadata": {},
   "source": [
    "The data is then filtered to the name of driver those who have a rank of at most 10 and the name is pulled."
   ]
  },
  {
   "cell_type": "code",
   "execution_count": null,
   "id": "70fa18a3",
   "metadata": {
    "tags": []
   },
   "outputs": [],
   "source": [
    "result = b.filter(lambda record: record[\"rank\"] <= 10).map(lambda record: record[\"name\"])\n",
    "result.compute()"
   ]
  },
  {
   "cell_type": "markdown",
   "id": "9caaf4c4",
   "metadata": {},
   "source": [
    "## Best Practices:"
   ]
  },
  {
   "cell_type": "markdown",
   "id": "98770a47",
   "metadata": {},
   "source": [
    "Operations involve communication amongst workers (like groups in the data) can be expensive in Dask Bags. Hence if you want to perform operations which involve shuffling of data, it would be advisable to switch to DataFrame or other data type instead.  "
   ]
  }
 ],
 "metadata": {
  "kernelspec": {
   "display_name": "saturn (Python 3)",
   "language": "python",
   "name": "python3"
  },
  "language_info": {
   "codemirror_mode": {
    "name": "ipython",
    "version": 3
   },
   "file_extension": ".py",
   "mimetype": "text/x-python",
   "name": "python",
   "nbconvert_exporter": "python",
   "pygments_lexer": "ipython3",
   "version": "3.9.9"
  }
 },
 "nbformat": 4,
 "nbformat_minor": 5
}
