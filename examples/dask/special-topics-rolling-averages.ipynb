{
 "cells": [
  {
   "cell_type": "markdown",
   "id": "d21a962b-b3f8-49c6-bca9-6d07d3c5cb4c",
   "metadata": {
    "execution": {
     "iopub.execute_input": "2022-01-25T17:33:22.602911Z",
     "iopub.status.busy": "2022-01-25T17:33:22.602324Z",
     "iopub.status.idle": "2022-01-25T17:33:25.666206Z",
     "shell.execute_reply": "2022-01-25T17:33:25.665688Z",
     "shell.execute_reply.started": "2022-01-25T17:33:22.602827Z"
    },
    "tags": []
   },
   "source": [
    "# Create Rolling Averages with Dask"
   ]
  },
  {
   "cell_type": "markdown",
   "id": "866d3726-027e-4c04-ae8b-717683685472",
   "metadata": {
    "execution": {
     "iopub.execute_input": "2022-01-25T17:33:22.602911Z",
     "iopub.status.busy": "2022-01-25T17:33:22.602324Z",
     "iopub.status.idle": "2022-01-25T17:33:25.666206Z",
     "shell.execute_reply": "2022-01-25T17:33:25.665688Z",
     "shell.execute_reply.started": "2022-01-25T17:33:22.602827Z"
    },
    "tags": []
   },
   "source": [
    "\"I need to calculate a rolling average of a numerical column, in time series data. In pandas, I can do this with rolling(x).mean() with sorted values, but what do I do in Dask, with distributed data?\"\n",
    "\n",
    "* Sort by index within AND across partitions\n",
    "* Know when to compute (convert to pandas DF) or persist (process computations on cluster)\n",
    "* Run calculations, with attention to our need to cross partitions correctly.\n",
    "\n",
    "This example will walk you through these specific points, and demonstrate how it's done. We'll use New York City taxi trip data, and get the 30-day rolling average of base fare prices, for our example."
   ]
  },
  {
   "cell_type": "markdown",
   "id": "622fb142-cee7-4659-a9b5-d9cbde6bf912",
   "metadata": {},
   "source": [
    "## Single Node"
   ]
  },
  {
   "cell_type": "code",
   "execution_count": null,
   "id": "c831ea89-1530-404f-8acc-94d3c28a603b",
   "metadata": {
    "tags": []
   },
   "outputs": [],
   "source": [
    "import dask\n",
    "\n",
    "timeseries = dask.datasets.timeseries()\n",
    "timeseries.rolling('1D').mean().compute()\n",
    "\n",
    "timeseries = dask.datasets.timeseries()\n",
    "timeseries.rolling('1D').mean().compute()"
   ]
  },
  {
   "cell_type": "markdown",
   "id": "096acff8-a6a7-4df0-a971-0c18a483a783",
   "metadata": {},
   "source": [
    "## Cluster"
   ]
  },
  {
   "cell_type": "code",
   "execution_count": null,
   "id": "462c9dea-fe10-4fa4-8120-15ee89caf7ab",
   "metadata": {},
   "outputs": [],
   "source": [
    "from dask_saturn import SaturnCluster\n",
    "from dask.distributed import Client\n",
    "\n",
    "cluster = SaturnCluster(\n",
    "    scheduler_size='medium',\n",
    "    worker_size='xlarge',\n",
    "    n_workers=3,\n",
    "    nthreads=4,\n",
    ")\n",
    "client = Client(cluster)\n",
    "client"
   ]
  },
  {
   "cell_type": "code",
   "execution_count": null,
   "id": "280f72b9-9602-460d-9aa0-9caf3999773b",
   "metadata": {},
   "outputs": [],
   "source": [
    "import s3fs\n",
    "\n",
    "s3 = s3fs.S3FileSystem(anon=True)\n",
    "files_2019 = 's3://nyc-tlc/trip data/yellow_tripdata_2019-*.csv'\n",
    "s3.glob(files_2019)"
   ]
  },
  {
   "cell_type": "code",
   "execution_count": null,
   "id": "ddf40e08-c3ad-4679-ae1b-3887f4fd60ee",
   "metadata": {},
   "outputs": [],
   "source": [
    "import dask.dataframe as dd\n",
    "\n",
    "taxi = dd.read_csv(\n",
    "    files_2019,\n",
    "    parse_dates=['tpep_pickup_datetime', 'tpep_dropoff_datetime'],\n",
    "    storage_options={'anon': True},\n",
    "    assume_missing=True,\n",
    ")"
   ]
  },
  {
   "cell_type": "code",
   "execution_count": null,
   "id": "f3baefab-6733-4b41-abc0-63a89d645fe8",
   "metadata": {},
   "outputs": [],
   "source": [
    "taxi = taxi.set_index(\"tpep_pickup_datetime\")\n",
    "from dask.distributed import wait\n",
    "\n",
    "taxi = taxi[\"2019-01-01\": \"2020-01-01\"]\n",
    "taxi = taxi.persist()\n",
    "_ = wait(taxi)"
   ]
  },
  {
   "cell_type": "code",
   "execution_count": null,
   "id": "6d6f4e2a-1eda-429e-be99-6e268cac24b1",
   "metadata": {},
   "outputs": [],
   "source": [
    "rolling_fares = taxi.fare_amount.rolling('30D').mean()\n",
    "rolling_fares_df = rolling_fares.to_frame(name=\"fare_amount_rolled\")\n",
    "type(rolling_fares_df)"
   ]
  },
  {
   "cell_type": "code",
   "execution_count": null,
   "id": "56aa5203-6f48-4cf3-9a5a-3630569b1204",
   "metadata": {
    "tags": []
   },
   "outputs": [],
   "source": [
    "taxi_new = taxi.join(rolling_fares_df, how='outer')"
   ]
  },
  {
   "cell_type": "code",
   "execution_count": null,
   "id": "9fde3376-1f84-4627-852c-f83fabdfc2bf",
   "metadata": {},
   "outputs": [],
   "source": []
  }
 ],
 "metadata": {
  "kernelspec": {
   "display_name": "saturn (Python 3)",
   "language": "python",
   "name": "python3"
  },
  "language_info": {
   "codemirror_mode": {
    "name": "ipython",
    "version": 3
   },
   "file_extension": ".py",
   "mimetype": "text/x-python",
   "name": "python",
   "nbconvert_exporter": "python",
   "pygments_lexer": "ipython3",
   "version": "3.9.9"
  }
 },
 "nbformat": 4,
 "nbformat_minor": 5
}
