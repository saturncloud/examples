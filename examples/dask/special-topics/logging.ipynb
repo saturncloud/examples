{
 "cells": [
  {
   "cell_type": "markdown",
   "id": "6fbd3dfe-c6ef-47e1-8b43-5b28a0c04801",
   "metadata": {},
   "source": [
    "## Logging in Dask\n",
    "\n",
    "When writing code a natural method of keeping track of how code runs is through logging. Typically in Python, logging is done using the built in `logging` module, like this:"
   ]
  },
  {
   "cell_type": "code",
   "execution_count": null,
   "id": "5a9e59ab-7d04-4bf3-a004-8af0b484f2ff",
   "metadata": {
    "execution": {
     "iopub.execute_input": "2022-01-14T22:44:05.396691Z",
     "iopub.status.busy": "2022-01-14T22:44:05.396382Z",
     "iopub.status.idle": "2022-01-14T22:44:05.408134Z",
     "shell.execute_reply": "2022-01-14T22:44:05.407389Z",
     "shell.execute_reply.started": "2022-01-14T22:44:05.396607Z"
    }
   },
   "outputs": [],
   "source": [
    "import logging\n",
    "\n",
    "logging.warning(\"This is a warning\")\n",
    "logging.info(\"This is non-essential info\")"
   ]
  },
  {
   "cell_type": "markdown",
   "id": "219f5c51-a3bf-4012-96da-7ae6a698cdf6",
   "metadata": {},
   "source": [
    "_Unfortunately, if you try and use this style of logging from within a `@dask.delayed` function, you won't see any output at all_. You won't see it in the console if you're running a Python script nor will you see it after a cell within a Jupyter Notebook. This is also the case for `print` calls--they won't be captured if they are run within a `@dask.delayed` function. So an alternate approach is needed for logging within Dask.\n",
    "\n",
    "Instead, to do logging we'll need to use the `distributed.worker` Python module, and import `logger`. This will give us a logging mechanism that does work in Dask. Here is an example of it in action. \n",
    "\n",
    "First, start the Dask cluster associated with your Saturn Cloud resource."
   ]
  },
  {
   "cell_type": "code",
   "execution_count": null,
   "id": "8ae041b9",
   "metadata": {},
   "outputs": [],
   "source": [
    "from dask_saturn import SaturnCluster\n",
    "from dask.distributed import Client\n",
    "\n",
    "client = Client(SaturnCluster())"
   ]
  },
  {
   "cell_type": "markdown",
   "id": "2eb91792",
   "metadata": {},
   "source": [
    "After running the above command, it's recommend that you check on the Saturn Cloud resource page that the Dask cluster as fully online before continuing. Alternatively, you can use the command `client.wait_for_workers(3)` to halt the notebook execution until all three of the workers are ready.\n",
    "\n",
    "Next is an example of a Dask command that logs the result in a way that can be saved. Notice the `logger.info` call using the special `logger` from `distributed.worker`:"
   ]
  },
  {
   "cell_type": "code",
   "execution_count": null,
   "id": "6af295e0-3c08-4399-9ace-5ac8c0f1e56f",
   "metadata": {
    "execution": {
     "iopub.execute_input": "2022-01-14T22:44:05.410076Z",
     "iopub.status.busy": "2022-01-14T22:44:05.409669Z",
     "iopub.status.idle": "2022-01-14T22:44:06.383484Z",
     "shell.execute_reply": "2022-01-14T22:44:06.382961Z",
     "shell.execute_reply.started": "2022-01-14T22:44:05.410046Z"
    }
   },
   "outputs": [],
   "source": [
    "import dask\n",
    "from distributed.worker import logger\n",
    "\n",
    "\n",
    "@dask.delayed\n",
    "def lazy_exponent(args):\n",
    "    x, y = args\n",
    "    result = x ** y\n",
    "    # the logging call to keep tabs on the computation\n",
    "    logger.info(f\"Computed exponent {x}^{y} = {result}\")\n",
    "    return result\n",
    "\n",
    "\n",
    "inputs = [[1, 2], [3, 4], [5, 6], [9, 10], [11, 12]]\n",
    "outputs = (lazy_exponent(i) for i in inputs)\n",
    "futures_computed = client.compute(outputs, sync=False)\n",
    "\n",
    "results = [x.result() for x in futures_computed]\n",
    "results"
   ]
  },
  {
   "cell_type": "markdown",
   "id": "68102661-03fb-48e7-8156-4f59bff47472",
   "metadata": {
    "execution": {
     "iopub.execute_input": "2022-01-14T19:18:46.942159Z",
     "iopub.status.busy": "2022-01-14T19:18:46.941834Z",
     "iopub.status.idle": "2022-01-14T19:18:46.960527Z",
     "shell.execute_reply": "2022-01-14T19:18:46.959105Z",
     "shell.execute_reply.started": "2022-01-14T19:18:46.942089Z"
    }
   },
   "source": [
    "The logs generated using `distributed.worker` won't show up in the console output or in a Jupyter Notebook still. Instead they'll be within the Saturn Cloud resource logs. First, click the \"logs\" link of the resource you're working in:\n",
    "\n",
    "![Logs link](https://saturn-public-assets.s3.us-east-2.amazonaws.com/example-resources/logs-link.png \"doc-image\")\n",
    "\n",
    "From there, expand each of the Dask workers. The logs from each worker are stored individually, but select **Aggregated Logs** to view them all at once:\n",
    "\n",
    "![dask-workers](https://saturn-public-assets.s3.us-east-2.amazonaws.com/example-resources/dask-workspace.png \"doc-image\")\n",
    "\n",
    "Those will show the logs created by the Dask worker. Notice that there is lots of information there, including how the worker was started by Dask. Near the bottom you should see the logs we wanted, in this case the ones generated by `lazy_exponent`:\n",
    "\n",
    "![logs-dask](https://saturn-public-assets.s3.us-east-2.amazonaws.com/example-resources/logs-dask.png \"doc-image\")\n",
    "\n",
    "There we correctly see that the logs included the info logging we did within the function. That concludes the example of how to generate logs from within Dask. This can be a great tool for understanding how code is running, debugging code, and better propagating warnings and errors."
   ]
  }
 ],
 "metadata": {
  "kernelspec": {
   "display_name": "saturn (Python 3)",
   "language": "python",
   "name": "python3"
  },
  "language_info": {
   "codemirror_mode": {
    "name": "ipython",
    "version": 3
   },
   "file_extension": ".py",
   "mimetype": "text/x-python",
   "name": "python",
   "nbconvert_exporter": "python",
   "pygments_lexer": "ipython3",
   "version": "3.9.9"
  }
 },
 "nbformat": 4,
 "nbformat_minor": 5
}
