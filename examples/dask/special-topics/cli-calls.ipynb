{
 "cells": [
  {
   "cell_type": "markdown",
   "id": "0cb686b3-7961-4b99-9935-ad0caae7448d",
   "metadata": {},
   "source": [
    "# Using Dask to Execute CLI Calls"
   ]
  },
  {
   "cell_type": "markdown",
   "id": "01cba726-a7c4-46aa-9baf-f716ae725364",
   "metadata": {
    "execution": {
     "iopub.execute_input": "2022-01-14T18:33:10.700430Z",
     "iopub.status.busy": "2022-01-14T18:33:10.700239Z",
     "iopub.status.idle": "2022-01-14T18:33:10.717473Z",
     "shell.execute_reply": "2022-01-14T18:33:10.716439Z",
     "shell.execute_reply.started": "2022-01-14T18:33:10.700371Z"
    }
   },
   "source": [
    "Occasionally you might find yourself wanting to use Command Line Interface (CLI) tools in parallel. For instance, you may be working with a CLI tool for your specialized industry, and for an experiment you would like to execute the command many times at once across many machines. Dask is a great tool for scheduling these tasks and logging the results.\n",
    "\n",
    "To use Dask for executing CLI tools, first ensure the tool of your choice is installed on the Saturn Cloud resource you're using. You can install software to a resource by using bash commands in the **Startup Script** of the resource options. This is stored in **Advanced Settings** and can be edited when you create the resource or by clicking the edit button of an existing resource.\n",
    "\n",
    "![Startup script options](https://saturn-public-assets.s3.us-east-2.amazonaws.com/example-resources/startup-script.png \"doc-image\")\n",
    "\n",
    "Once your resource is created (and you've [created a Dask cluster](https://saturncloud.io/docs/using-saturn-cloud/create_dask_cluster/) for it), you can then use Python code to execute the CLI tool on the Dask cluster.\n",
    "\n",
    "The `subprocess.run` command in Python lets you execute command line tasks. To execute tasks in parallel you can wrap `subprocess.run()` within a function that you'll use on the Dask cluster. This will allow Dask to execute the command on a worker machine, allowing you to call it many times in parallel. You can do so using the [delayed](https://docs.dask.org/en/latest/delayed.html) capabilities of Dask.\n",
    "\n",
    "The example below uses the very basic `echo` CLI bash command to print a string showing some pairs of exponents. A list of inputs is executed in parallel on the Dask cluster using `dask.compute()`. The `echo` command prints the results to the output as a CLI command. In practice, you'll probably want to choose a more interesting CLI command besides `echo`.\n",
    "\n",
    "First, start the Dask cluster associated with your Saturn Cloud resource."
   ]
  },
  {
   "cell_type": "code",
   "execution_count": null,
   "id": "3fcc3967-34eb-4a30-a9a1-83c2f67c2dd4",
   "metadata": {
    "execution": {
     "iopub.execute_input": "2022-01-14T19:04:12.503733Z",
     "iopub.status.busy": "2022-01-14T19:04:12.502953Z",
     "iopub.status.idle": "2022-01-14T19:04:13.223385Z",
     "shell.execute_reply": "2022-01-14T19:04:13.222829Z",
     "shell.execute_reply.started": "2022-01-14T19:04:12.503649Z"
    }
   },
   "outputs": [],
   "source": [
    "from dask_saturn import SaturnCluster\n",
    "from dask.distributed import Client\n",
    "\n",
    "client = Client(SaturnCluster())"
   ]
  },
  {
   "cell_type": "markdown",
   "id": "9a02cb2c",
   "metadata": {},
   "source": [
    "After running the above command, it's recommend that you check on the Saturn Cloud resource page that the Dask cluster as fully online before continuing. Alternatively, you can use the command `client.wait_for_workers(3)` to halt the notebook execution until all three of the workers are ready.\n",
    "\n",
    "This is the function to run on the Dask cluster:"
   ]
  },
  {
   "cell_type": "code",
   "execution_count": null,
   "id": "9e38ea8d-6f07-4a9c-84e4-a6cfcc838259",
   "metadata": {
    "execution": {
     "iopub.execute_input": "2022-01-14T19:04:13.233235Z",
     "iopub.status.busy": "2022-01-14T19:04:13.233081Z",
     "iopub.status.idle": "2022-01-14T19:04:13.238084Z",
     "shell.execute_reply": "2022-01-14T19:04:13.237592Z",
     "shell.execute_reply.started": "2022-01-14T19:04:13.233213Z"
    }
   },
   "outputs": [],
   "source": [
    "import subprocess\n",
    "import dask\n",
    "\n",
    "@dask.delayed\n",
    "def lazy_exponent(args):\n",
    "    x, y = args\n",
    "    result_string = f'\"{x}**{y}={x ** y}\"'\n",
    "    subprocess.run([\"echo\", result_string], check=True)"
   ]
  },
  {
   "cell_type": "markdown",
   "id": "209c7b30-4978-4d3b-bcde-aa6f0a3811f0",
   "metadata": {},
   "source": [
    "Next, execute the function on the input list. This is going to cause the Dask cluster to run the CLI command on the workers:"
   ]
  },
  {
   "cell_type": "code",
   "execution_count": null,
   "id": "60907938-426b-406a-acd2-5318206b468a",
   "metadata": {
    "execution": {
     "iopub.execute_input": "2022-01-14T19:04:13.241432Z",
     "iopub.status.busy": "2022-01-14T19:04:13.239754Z",
     "iopub.status.idle": "2022-01-14T19:04:13.383430Z",
     "shell.execute_reply": "2022-01-14T19:04:13.382561Z",
     "shell.execute_reply.started": "2022-01-14T19:04:13.241404Z"
    }
   },
   "outputs": [],
   "source": [
    "inputs = [[1, 2], [3, 4], [5, 6], [9, 10], [11, 12]]\n",
    "\n",
    "results = dask.compute([lazy_exponent(x) for x in inputs])"
   ]
  },
  {
   "cell_type": "markdown",
   "id": "70536a37-7b98-42fa-b696-be5fbed89ce8",
   "metadata": {
    "execution": {
     "iopub.execute_input": "2022-01-14T18:33:22.761710Z",
     "iopub.status.busy": "2022-01-14T18:33:22.761488Z",
     "iopub.status.idle": "2022-01-14T18:33:22.770644Z",
     "shell.execute_reply": "2022-01-14T18:33:22.769841Z",
     "shell.execute_reply.started": "2022-01-14T18:33:22.761681Z"
    },
    "tags": []
   },
   "source": [
    "To see the output, click on the **Logs** button of the resource. From there expand the Dask workers to see the output from code executed on the cluster. Or switch to the **aggregated logs** to see all of the Dask worker output combined together. In the event that one of the CLI calls returns an error, the `check=True` argument to `subprocess.run` will cause the function to have a `CalledProcessError` and thus the Dask task to fail, propagating the error back to you in a helpful way.\n",
    "\n",
    "![Logs button](https://saturn-public-assets.s3.us-east-2.amazonaws.com/example-resources/logs-link.png \"doc-image\")\n",
    "\n",
    "Note that when running CLI commands on a Dask cluster, any results saved to the Dask workers will be deleted once the cluster is offline. Thus if your commands save any results, it's important to then take the results and return them to a permanent place. For instance within your `@dask.delayed` function you could add commands to upload files to a location like AWS S3, or you could have the function read the results into Python and return them to the client machine."
   ]
  }
 ],
 "metadata": {
  "kernelspec": {
   "display_name": "saturn (Python 3)",
   "language": "python",
   "name": "python3"
  },
  "language_info": {
   "codemirror_mode": {
    "name": "ipython",
    "version": 3
   },
   "file_extension": ".py",
   "mimetype": "text/x-python",
   "name": "python",
   "nbconvert_exporter": "python",
   "pygments_lexer": "ipython3",
   "version": "3.9.9"
  }
 },
 "nbformat": 4,
 "nbformat_minor": 5
}
