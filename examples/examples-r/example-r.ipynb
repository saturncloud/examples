{
 "cells": [
  {
   "cell_type": "markdown",
   "id": "determined-strap",
   "metadata": {},
   "source": [
    "# Welcome to Saturn Cloud!\n",
    "\n",
    "To confirm that your workspace is correctly set up to use R in Jupyter, run the following sections. The libraries should import silently, packages should install successfully, and you should see summary data, a plot, and a dataframe."
   ]
  },
  {
   "cell_type": "code",
   "execution_count": null,
   "id": "cathedral-witch",
   "metadata": {},
   "outputs": [],
   "source": [
    "library(Rcpp)\n",
    "library(reticulate)\n",
    "library(ggplot2)\n",
    "library(data.table)"
   ]
  },
  {
   "cell_type": "code",
   "execution_count": null,
   "id": "efficient-paris",
   "metadata": {},
   "outputs": [],
   "source": [
    "install.packages(\"dplyr\")"
   ]
  },
  {
   "cell_type": "code",
   "execution_count": null,
   "id": "specific-rogers",
   "metadata": {},
   "outputs": [],
   "source": [
    "summary(pressure)"
   ]
  },
  {
   "cell_type": "code",
   "execution_count": null,
   "id": "described-interpretation",
   "metadata": {},
   "outputs": [],
   "source": [
    "ggplot(pressure, aes(x=temperature, y=pressure))+\n",
    "geom_point()"
   ]
  },
  {
   "cell_type": "code",
   "execution_count": null,
   "id": "distant-coast",
   "metadata": {},
   "outputs": [],
   "source": [
    "head(pressure)"
   ]
  },
  {
   "cell_type": "markdown",
   "id": "ambient-congress",
   "metadata": {},
   "source": [
    "If all these chunks run successfully, you are ready to start using R in Jupyter!\n",
    "\n",
    "## Troubleshooting\n",
    "* If you are unable to find the R kernel in Jupyter, try running `Rscript -e \"IRkernel::installspec()\"` at command line and restarting your notebook.\n"
   ]
  }
 ],
 "metadata": {
  "kernelspec": {
   "display_name": "R",
   "language": "R",
   "name": "ir"
  },
  "language_info": {
   "codemirror_mode": "r",
   "file_extension": ".r",
   "mimetype": "text/x-r-source",
   "name": "R",
   "pygments_lexer": "r",
   "version": "4.0.5"
  }
 },
 "nbformat": 4,
 "nbformat_minor": 5
}
