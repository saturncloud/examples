{
 "cells": [
  {
   "cell_type": "markdown",
   "id": "determined-strap",
   "metadata": {},
   "source": [
    "# Welcome to Saturn Cloud!\n",
    "\n",
    "To confirm that your workspace is correctly set up to use R in Jupyter, run the following chunk. The libraries should import without errors and you should see a plot."
   ]
  },
  {
   "cell_type": "code",
   "execution_count": null,
   "id": "cathedral-witch",
   "metadata": {},
   "outputs": [],
   "source": [
    "library(ggplot2)\n",
    "library(tidyr)\n",
    "\n",
    "n <- 25\n",
    "\n",
    "data <- data.frame(text = sample(c(\"welcome\",\"to\", \"Saturn Cloud\"), n, replace = TRUE),\n",
    "                   size = abs(rnorm(n)),\n",
    "                   x = runif(n),\n",
    "                   y = runif(n))\n",
    "\n",
    "ggplot(data, aes(x=x, y=y, label=text, size = size)) + geom_text(color=\"#ff6721\")+theme_minimal() + theme(legend.position=\"none\")"
   ]
  }
 ],
 "metadata": {
  "kernelspec": {
   "display_name": "R",
   "language": "R",
   "name": "ir"
  },
  "language_info": {
   "codemirror_mode": "r",
   "file_extension": ".r",
   "mimetype": "text/x-r-source",
   "name": "R",
   "pygments_lexer": "r",
   "version": "4.0.5"
  }
 },
 "nbformat": 4,
 "nbformat_minor": 5
}
