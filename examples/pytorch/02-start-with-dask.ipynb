{
 "cells": [
  {
   "cell_type": "markdown",
   "source": [
    "# Getting Started with Dask on Saturn Cloud"
   ],
   "metadata": {}
  },
  {
   "cell_type": "markdown",
   "source": [
    "Dask is a framework that easily lets you run Python in parallel across distributed machines. Below is an example of taking a function that computes exponents and running it across a list of inputs in parallel.\n",
    "\n",
    "This code imports the Dask libraries and connects to the Saturn Cloud Dask cluster. If you are having issues with this, you may not have a [running Dask cluster](https://saturncloud.io/docs/using-saturn-cloud/create_dask_cluster/), you can adjust the Dask cluster on the resource page."
   ],
   "metadata": {}
  },
  {
   "cell_type": "code",
   "execution_count": null,
   "source": [
    "import dask\n",
    "from dask_saturn import SaturnCluster\n",
    "from dask.distributed import Client\n",
    "\n",
    "n_workers = 3\n",
    "cluster = SaturnCluster(n_workers=n_workers)\n",
    "client = Client(cluster)\n",
    "client.wait_for_workers(n_workers)"
   ],
   "outputs": [],
   "metadata": {}
  },
  {
   "cell_type": "markdown",
   "source": [
    "The `@dask.delayed` decorator indicates this will run lazily in parallel:"
   ],
   "metadata": {}
  },
  {
   "cell_type": "code",
   "execution_count": null,
   "source": [
    "@dask.delayed\n",
    "def lazy_exponent(args):\n",
    "    x, y = args\n",
    "    \"\"\"Define a lazily evaluating function\"\"\"\n",
    "    return x ** y"
   ],
   "outputs": [],
   "metadata": {}
  },
  {
   "cell_type": "markdown",
   "source": [
    "With this Dask function, we can now run the function across a distributed set of workers using the `client` functions. In this case we take thios list of pairs of numbers and run them in a distributed setting. After using `client.compute()` to actually compute the values (since they're otherwise lazy) we can then look at the results by using `x.result()` for each element of the computed list:"
   ],
   "metadata": {}
  },
  {
   "cell_type": "code",
   "execution_count": null,
   "source": [
    "inputs = [[1, 2], [3, 4], [5, 6], [9, 10], [11, 12]]\n",
    "\n",
    "example_future = client.map(lazy_exponent, inputs)\n",
    "futures_gathered = client.gather(example_future)\n",
    "futures_computed = client.compute(futures_gathered, sync=False)\n",
    "\n",
    "results = [x.result() for x in futures_computed]\n",
    "results"
   ],
   "outputs": [],
   "metadata": {}
  },
  {
   "cell_type": "markdown",
   "source": [
    "You should see a result of `[1, 81, 15625, 3486784401, 3138428376721]`.\n",
    "\n",
    "This was _somewhat_ of a toy example--you probably want to do more complex computations than exponents with Dask. However the core concept of making a function and then running it in a distributed fashion is at the core of what you can do with Dask on Saturn Cloud.\n",
    "\n",
    "When you're done, you can close the connection to the cluster:"
   ],
   "metadata": {}
  },
  {
   "cell_type": "code",
   "execution_count": null,
   "source": [
    "client.close()"
   ],
   "outputs": [],
   "metadata": {}
  }
 ],
 "metadata": {
  "kernelspec": {
   "display_name": "Python 3",
   "language": "python",
   "name": "python3"
  },
  "language_info": {
   "codemirror_mode": {
    "name": "ipython",
    "version": 3
   },
   "file_extension": ".py",
   "mimetype": "text/x-python",
   "name": "python",
   "nbconvert_exporter": "python",
   "pygments_lexer": "ipython3",
   "version": "3.7.7"
  }
 },
 "nbformat": 4,
 "nbformat_minor": 4
}