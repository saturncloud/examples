{
 "cells": [
  {
   "cell_type": "code",
   "execution_count": null,
   "id": "ad674cbb",
   "metadata": {},
   "outputs": [],
   "source": [
    "import tensorflow as tf\n",
    "import keras\n",
    "import time\n",
    "\n",
    "print(tf.__version__)"
   ]
  },
  {
   "cell_type": "code",
   "execution_count": null,
   "id": "d7070eca",
   "metadata": {},
   "outputs": [],
   "source": [
    "import wandb\n",
    "from wandb.keras import WandbCallback\n",
    "\n",
    "wandb.login()"
   ]
  },
  {
   "cell_type": "code",
   "execution_count": null,
   "id": "9c537aec",
   "metadata": {},
   "outputs": [],
   "source": [
    "gpus = tf.config.list_physical_devices(\"GPU\")\n",
    "if gpus:\n",
    "    try:\n",
    "        # Currently, memory growth needs to be the same across GPUs\n",
    "        for gpu in gpus:\n",
    "            tf.config.experimental.set_memory_growth(gpu, True)\n",
    "        logical_gpus = tf.config.experimental.list_logical_devices(\"GPU\")\n",
    "        print(len(gpus), \"Physical GPUs,\", len(logical_gpus), \"Logical GPUs\")\n",
    "    except RuntimeError as e:\n",
    "        # Memory growth must be set before GPUs have been initialized\n",
    "        print(e)"
   ]
  },
  {
   "cell_type": "code",
   "execution_count": null,
   "id": "ed3c44f4",
   "metadata": {
    "tags": []
   },
   "outputs": [],
   "source": [
    "def train_multigpu(\n",
    "    n_epochs, classes, base_lr, batchsize, wbargs, scale_batch=False, scale_lr=False\n",
    "):\n",
    "\n",
    "    wbargs = {**wbargs, \"scale_batch\": scale_batch, \"scale_lr\": scale_lr}\n",
    "\n",
    "    # --------- Start wandb --------- #\n",
    "    wandb.init(entity=[YOURUSERNAMEHERE], project=[YOURPROJECTNAMEHERE], config=wbargs)\n",
    "\n",
    "    strategy = tf.distribute.MirroredStrategy()\n",
    "    print(\"Number of devices: %d\" % strategy.num_replicas_in_sync)\n",
    "\n",
    "    if scale_batch:\n",
    "        batchsize = batchsize * strategy.num_replicas_in_sync\n",
    "\n",
    "    if scale_lr:\n",
    "        base_lr = base_lr * strategy.num_replicas_in_sync\n",
    "\n",
    "    with strategy.scope():\n",
    "        model = tf.keras.applications.ResNet50(include_top=True, weights=None, classes=classes)\n",
    "\n",
    "        optimizer = keras.optimizers.Adam(lr=base_lr)\n",
    "        model.compile(\n",
    "            loss=\"sparse_categorical_crossentropy\", optimizer=optimizer, metrics=[\"accuracy\"]\n",
    "        )\n",
    "\n",
    "    # Data\n",
    "    train_ds = (\n",
    "        tf.keras.preprocessing.image_dataset_from_directory(\n",
    "            \"datasets/birds/train\", image_size=(224, 224), batch_size=batchsize\n",
    "        )\n",
    "        .prefetch(2)\n",
    "        .cache()\n",
    "        .shuffle(1000)\n",
    "    )\n",
    "\n",
    "    valid_ds = tf.keras.preprocessing.image_dataset_from_directory(\n",
    "        \"datasets/birds/valid\", image_size=(224, 224), batch_size=batchsize\n",
    "    ).prefetch(2)\n",
    "\n",
    "    start = time.time()\n",
    "\n",
    "    model.fit(train_ds, epochs=n_epochs, validation_data=valid_ds, callbacks=[WandbCallback()])\n",
    "\n",
    "    end = time.time() - start\n",
    "    print(\"model training time\", end)\n",
    "    wandb.log({\"training_time\": end})\n",
    "\n",
    "    # Close your wandb run\n",
    "    wandb.run.finish()\n",
    "\n",
    "    tf.keras.models.save_model(model, \"model/keras_multi/\")"
   ]
  },
  {
   "cell_type": "code",
   "execution_count": null,
   "id": "b7ac8f50",
   "metadata": {
    "tags": []
   },
   "outputs": [],
   "source": [
    "model_params = {\n",
    "    \"n_epochs\": 50,\n",
    "    \"base_lr\": 0.02,\n",
    "    \"batchsize\": 64,\n",
    "    \"classes\": 285,\n",
    "    \"scale_batch\": True,\n",
    "}\n",
    "\n",
    "wbargs = {\n",
    "    **model_params,\n",
    "    \"Notes\": \"tf_v100_8x\",\n",
    "    \"Tags\": [\"multi\", \"gpu\", \"tensorflow\"],\n",
    "    \"dataset\": \"Birds\",\n",
    "    \"architecture\": \"ResNet50\",\n",
    "}"
   ]
  },
  {
   "cell_type": "code",
   "execution_count": null,
   "id": "9f4b72b7",
   "metadata": {
    "tags": []
   },
   "outputs": [],
   "source": [
    "tester_plain = train_multigpu(wbargs=wbargs, **model_params)"
   ]
  },
  {
   "cell_type": "code",
   "execution_count": null,
   "id": "eea1361d-5af2-40a4-bca2-affdc0055085",
   "metadata": {},
   "outputs": [],
   "source": []
  }
 ],
 "metadata": {
  "kernelspec": {
   "display_name": "saturn (Python 3)",
   "language": "python",
   "name": "python3"
  },
  "language_info": {
   "codemirror_mode": {
    "name": "ipython",
    "version": 3
   },
   "file_extension": ".py",
   "mimetype": "text/x-python",
   "name": "python",
   "nbconvert_exporter": "python",
   "pygments_lexer": "ipython3",
   "version": "3.9.7"
  }
 },
 "nbformat": 4,
 "nbformat_minor": 5
}
