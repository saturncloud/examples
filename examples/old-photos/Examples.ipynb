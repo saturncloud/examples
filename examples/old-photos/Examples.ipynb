{
 "cells": [
  {
   "cell_type": "code",
   "execution_count": null,
   "id": "04a2f5a3-6498-4381-b550-8735ddf127c1",
   "metadata": {},
   "outputs": [],
   "source": [
    "import os\n",
    "\n",
    "import IPython.display\n",
    "import PIL.Image\n",
    "\n",
    "from displayFunctions import make_grid"
   ]
  },
  {
   "cell_type": "code",
   "execution_count": null,
   "id": "0ce947ed-f4cb-43e6-9ee1-cf7337f88365",
   "metadata": {
    "tags": []
   },
   "outputs": [],
   "source": [
    "input_folder = \"Code/test_images/old/\"\n",
    "output_folder = \"Code/output/\"\n",
    "\n",
    "basepath = os.getcwd()\n",
    "input_path = os.path.join(basepath, input_folder)\n",
    "output_path = os.path.join(basepath, output_folder)\n",
    "if not os.path.isdir(output_path):\n",
    "    os.mkdir(output_path)\n",
    "\n",
    "!python Code/run.py --input_folder Code/test_images/old/ --output_folder Code/output/ --GPU -1"
   ]
  },
  {
   "cell_type": "code",
   "execution_count": null,
   "id": "6ba53b75-77d2-44d8-84b1-a8b82ee7bcfa",
   "metadata": {
    "tags": []
   },
   "outputs": [],
   "source": [
    "filenames = os.listdir(input_path)\n",
    "filenames.sort()\n",
    "\n",
    "for filename in filenames:\n",
    "    print(filename)\n",
    "    image_original = PIL.Image.open(os.path.join(input_path, filename))\n",
    "    image_restore = PIL.Image.open(os.path.join(output_path, \"final_output\", filename))\n",
    "\n",
    "    IPython.display.display(make_grid(image_original, image_restore))"
   ]
  },
  {
   "cell_type": "code",
   "execution_count": null,
   "id": "d765c5ce-5ee4-4b08-9b5a-40e6f7c0770a",
   "metadata": {
    "tags": []
   },
   "outputs": [],
   "source": [
    "!rm -rf Code/output/*\n",
    "\n",
    "input_folder = \"Code/test_images/old_w_scratch\"\n",
    "output_folder = \"Code/output\"\n",
    "input_path = os.path.join(basepath, input_folder)\n",
    "output_path = os.path.join(basepath, output_folder)\n",
    "\n",
    "!python Code/run.py --input_folder Code/test_images/old_w_scratch/ --output_folder Code/output/ --GPU -1 --with_scratch"
   ]
  },
  {
   "cell_type": "code",
   "execution_count": null,
   "id": "86317f80-0732-43f4-a2f8-bb4d6bb41f4c",
   "metadata": {
    "tags": []
   },
   "outputs": [],
   "source": [
    "filenames = os.listdir(input_path)\n",
    "filenames.sort()\n",
    "\n",
    "for filename in filenames:\n",
    "    print(filename)\n",
    "    image_original = PIL.Image.open(os.path.join(input_path, filename))\n",
    "    image_restore = PIL.Image.open(os.path.join(output_path, \"final_output\", filename))\n",
    "\n",
    "    IPython.display.display(make_grid(image_original, image_restore))"
   ]
  }
 ],
 "metadata": {
  "kernelspec": {
   "display_name": "saturn (Python 3)",
   "language": "python",
   "name": "python3"
  },
  "language_info": {
   "codemirror_mode": {
    "name": "ipython",
    "version": 3
   },
   "file_extension": ".py",
   "mimetype": "text/x-python",
   "name": "python",
   "nbconvert_exporter": "python",
   "pygments_lexer": "ipython3",
   "version": "3.9.7"
  }
 },
 "nbformat": 4,
 "nbformat_minor": 5
}
