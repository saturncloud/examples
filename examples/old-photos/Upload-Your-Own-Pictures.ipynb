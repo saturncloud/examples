{
 "cells": [
  {
   "cell_type": "markdown",
   "id": "d4df1466-bad7-4f59-bdde-8c16d7885042",
   "metadata": {},
   "source": [
    "# Image Resoration and Enhacement\n",
    "\n",
    "To use this script, simply upload your picture(s) to the **Upload-Photos-Here** folder. The tool supports *.jpg*, *.jpeg*, *.tiff*, and *.png* files. Others may work but have not been tested.\n",
    "\n",
    "Then just run the three code cells.\n",
    "\n",
    "> **Note**: Computations can take some time for larger picture files. Open a terminal and run **top** to see CPU and RAM usage if you are concerned about progress.\n",
    "\n",
    "Once the restoration is done, the final images will be displayed to the right of the original images.\n",
    "\n",
    "To download the final output, simply navigate to **Output/final_output** and download the pictures."
   ]
  },
  {
   "cell_type": "code",
   "execution_count": null,
   "id": "04970853-31ef-44be-a42e-43f1840520dc",
   "metadata": {
    "execution": {
     "iopub.execute_input": "2021-12-23T03:50:41.013553Z",
     "iopub.status.busy": "2021-12-23T03:50:41.013225Z",
     "iopub.status.idle": "2021-12-23T03:50:41.098917Z",
     "shell.execute_reply": "2021-12-23T03:50:41.098367Z",
     "shell.execute_reply.started": "2021-12-23T03:50:41.013486Z"
    },
    "tags": []
   },
   "outputs": [],
   "source": [
    "import os\n",
    "import shutil\n",
    "\n",
    "import IPython.display\n",
    "import PIL.Image\n",
    "\n",
    "from displayFunctions import make_grid"
   ]
  },
  {
   "cell_type": "code",
   "execution_count": null,
   "id": "ed113437-e779-4c3e-81c0-4d5700150133",
   "metadata": {
    "execution": {
     "iopub.execute_input": "2021-12-23T03:50:42.148650Z",
     "iopub.status.busy": "2021-12-23T03:50:42.148337Z"
    },
    "tags": []
   },
   "outputs": [],
   "source": [
    "basepath = os.getcwd()\n",
    "upload_path = os.path.join(basepath, \"Upload-Photos-Here\")\n",
    "output_path = os.path.join(basepath, \"Output\")\n",
    "\n",
    "if os.path.isdir(output_path):\n",
    "    shutil.rmtree(output_path)\n",
    "\n",
    "os.mkdir(output_path)\n",
    "\n",
    "!python Code/run.py --input_folder Upload-Photos-Here --output_folder Output --GPU -1 --with_scratch --HR"
   ]
  },
  {
   "cell_type": "code",
   "execution_count": null,
   "id": "0c802dd4-4866-4571-9d41-9dca13449212",
   "metadata": {
    "execution": {
     "iopub.execute_input": "2021-12-22T22:19:05.007124Z",
     "iopub.status.busy": "2021-12-22T22:19:05.006833Z",
     "iopub.status.idle": "2021-12-22T22:19:05.896210Z",
     "shell.execute_reply": "2021-12-22T22:19:05.895772Z",
     "shell.execute_reply.started": "2021-12-22T22:19:05.007102Z"
    },
    "tags": []
   },
   "outputs": [],
   "source": [
    "filenames = os.listdir(upload_path)\n",
    "filenames.sort()\n",
    "\n",
    "for filename in filenames:\n",
    "    print(filename)\n",
    "    image_original = PIL.Image.open(os.path.join(upload_path, filename))\n",
    "    image_restore = PIL.Image.open(\n",
    "        os.path.join(output_path, \"final_output\", os.path.splitext(filename)[0]) + \".png\"\n",
    "    )\n",
    "\n",
    "    IPython.display.display(make_grid(image_original, image_restore))"
   ]
  }
 ],
 "metadata": {
  "kernelspec": {
   "display_name": "saturn (Python 3)",
   "language": "python",
   "name": "python3"
  },
  "language_info": {
   "codemirror_mode": {
    "name": "ipython",
    "version": 3
   },
   "file_extension": ".py",
   "mimetype": "text/x-python",
   "name": "python",
   "nbconvert_exporter": "python",
   "pygments_lexer": "ipython3",
   "version": "3.9.7"
  }
 },
 "nbformat": 4,
 "nbformat_minor": 5
}
