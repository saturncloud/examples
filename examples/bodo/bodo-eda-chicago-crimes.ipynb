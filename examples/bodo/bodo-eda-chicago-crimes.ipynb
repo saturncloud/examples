{
 "cells": [
  {
   "cell_type": "markdown",
   "metadata": {},
   "source": [
    "# Chicago Crimes - Single-Node Bodo - Jupyter Notebook\n",
    "\n",
    "This example shows an exploratory data analysis (EDA) of crimes in Chicago using the HPC-like platform Bodo using a notebook on a single node. Chicago crime data is extracted from Bodo's public repository, cleaned and processed. Then some analysis are done to extract insight. All are **parallelized across multiple cores using Bodo**. This can be a straightforward way to\n",
    "make Python code run faster than it would otherwise without requiring much change to the code. Original example can be found [here](https://medium.com/@ahsanzafar222/chicago-crime-data-cleaning-and-eda-a744c687a291) and [here](https://www.kaggle.com/code/fahd09/eda-of-crime-in-chicago-2005-2016/notebook).\n",
    "\n",
    "The Bodo framework knows when to parallelize code based on the `%%px` at the start of cells and `@bodo.jit` function decorators. Removing those and restarting the kernel will run the code without Bodo.\n",
    "\n",
    "**The Bodo parallel cluster in this example runs within the same Saturn Cloud resource as the notebook.** Thus, to increase the performance of the Bodo cluster you only need to increase the instance size of the Jupyter Server resource it's running on.\n",
    "\n",
    "**To scale and run your application with multiple nodes you can use [Bodo platform](https://platform.bodo.ai/account/login)**"
   ]
  },
  {
   "cell_type": "markdown",
   "metadata": {},
   "source": [
    "## Start an IPyParallel cluster\n",
    "\n",
    "Run the following code in a cell to start an IPyParallel cluster. IPyParallel is used to interactively control a cluster of IPython processes. The variable `n` is used to specify the number of clusters based on the number of CPU cores available (up to 8 in the free Bodo Community Edition)."
   ]
  },
  {
   "cell_type": "code",
   "execution_count": null,
   "metadata": {
    "execution": {
     "iopub.execute_input": "2022-04-04T23:32:08.011028Z",
     "iopub.status.busy": "2022-04-04T23:32:08.010692Z",
     "iopub.status.idle": "2022-04-04T23:32:08.014569Z",
     "shell.execute_reply": "2022-04-04T23:32:08.014008Z",
     "shell.execute_reply.started": "2022-04-04T23:32:08.010994Z"
    },
    "tags": []
   },
   "outputs": [],
   "source": [
    "import ipyparallel as ipp\n",
    "import psutil\n",
    "\n",
    "n = min(psutil.cpu_count(logical=False), 8)\n",
    "\n",
    "# command to create and start the local cluster\n",
    "rc = ipp.Cluster(engines=\"mpi\", n=n).start_and_connect_sync(activate=True)"
   ]
  },
  {
   "cell_type": "code",
   "execution_count": null,
   "metadata": {
    "execution": {
     "iopub.execute_input": "2022-04-04T23:32:14.820016Z",
     "iopub.status.busy": "2022-04-04T23:32:14.819682Z",
     "iopub.status.idle": "2022-04-04T23:32:26.040702Z",
     "shell.execute_reply": "2022-04-04T23:32:26.040040Z",
     "shell.execute_reply.started": "2022-04-04T23:32:14.819989Z"
    }
   },
   "outputs": [],
   "source": [
    "%%px\n",
    "import numpy as np\n",
    "import pandas as pd\n",
    "import time\n",
    "import bodo\n",
    "\n",
    "print(f\"Hello World from rank {bodo.get_rank()}. Total ranks={bodo.get_size()}\")"
   ]
  },
  {
   "cell_type": "markdown",
   "metadata": {},
   "source": [
    "## Load Crimes Data in Chicago 2005 - 2017"
   ]
  },
  {
   "cell_type": "code",
   "execution_count": null,
   "metadata": {
    "execution": {
     "iopub.execute_input": "2022-04-04T23:18:12.067799Z",
     "iopub.status.busy": "2022-04-04T23:18:12.067502Z",
     "iopub.status.idle": "2022-04-04T23:18:16.414665Z",
     "shell.execute_reply": "2022-04-04T23:18:16.414116Z",
     "shell.execute_reply.started": "2022-04-04T23:18:12.067772Z"
    },
    "tags": []
   },
   "outputs": [],
   "source": [
    "%%px\n",
    "@bodo.jit(cache=True)\n",
    "def load_chicago_crimes():\n",
    "    t1 = time.time()\n",
    "    crimes = pd.read_parquet(\n",
    "        's3://bodo-example-data/chicago-crimes/Chicago_Crimes_2012_to_2017.pq', \n",
    "        storage_options={'anon': True}\n",
    "        )\n",
    "    crimes = crimes.sort_values(by=\"ID\")    \n",
    "    print(\"Reading time: \", ((time.time() - t1) * 1000), \" (ms)\")    \n",
    "    return crimes\n",
    "\n",
    "crimes1 = load_chicago_crimes()\n",
    "if bodo.get_rank()==0:\n",
    "    display(crimes1.head())"
   ]
  },
  {
   "cell_type": "markdown",
   "metadata": {},
   "source": [
    "## Preprocessing and Cleaning\n",
    " 1. Drop duplicated cases, filter unused columns, and add day of week and date of the crime.\n",
    " 2. Keep only the most frequent crime type categories.\n"
   ]
  },
  {
   "cell_type": "code",
   "execution_count": null,
   "metadata": {
    "execution": {
     "iopub.execute_input": "2022-04-04T23:18:19.525689Z",
     "iopub.status.busy": "2022-04-04T23:18:19.525359Z",
     "iopub.status.idle": "2022-04-04T23:18:43.932479Z",
     "shell.execute_reply": "2022-04-04T23:18:43.931931Z",
     "shell.execute_reply.started": "2022-04-04T23:18:19.525661Z"
    },
    "tags": []
   },
   "outputs": [],
   "source": [
    "%%px\n",
    "@bodo.jit(distributed=[\"crimes\"], cache=True)\n",
    "def data_cleanup(crimes):\n",
    "    t1 = time.time()    \n",
    "    crimes = crimes.drop_duplicates()    \n",
    "    crimes.drop(['Unnamed: 0', 'Case Number', 'IUCR','Updated On','Year', 'FBI Code', 'Beat','Ward','Community Area', 'Location'], inplace=True, axis=1)\n",
    "    crimes.Date = pd.to_datetime(crimes.Date, format='%m/%d/%Y %I:%M:%S %p')\n",
    "    crimes[\"dow\"] = crimes[\"Date\"].dt.dayofweek\n",
    "    crimes[\"date only\"] = crimes[\"Date\"].dt.floor('D')\n",
    "    crimes = crimes.sort_values(by=\"ID\")    \n",
    "    print(\"Data cleanup time: \", ((time.time() - t1) * 1000), \" (ms)\")\n",
    "    return crimes\n",
    "\n",
    "crimes = data_cleanup(crimes1)\n",
    "if bodo.get_rank()==0:\n",
    "    display(crimes.head())"
   ]
  },
  {
   "cell_type": "code",
   "execution_count": null,
   "metadata": {
    "execution": {
     "iopub.execute_input": "2022-04-04T23:18:43.933726Z",
     "iopub.status.busy": "2022-04-04T23:18:43.933473Z",
     "iopub.status.idle": "2022-04-04T23:18:53.444063Z",
     "shell.execute_reply": "2022-04-04T23:18:53.443482Z",
     "shell.execute_reply.started": "2022-04-04T23:18:43.933700Z"
    },
    "tags": []
   },
   "outputs": [],
   "source": [
    "%%px\n",
    "@bodo.jit(cache=True)\n",
    "def get_top_crime_types(crimes):\n",
    "    t1 = time.time()\n",
    "    top_crime_types = crimes['Primary Type'].value_counts().index[0:10]\n",
    "    print(\"Getting top crimes Time: \", ((time.time() - t1) * 1000), \" (ms)\")\n",
    "    return top_crime_types\n",
    "\n",
    "top_crime_types = get_top_crime_types(crimes)\n",
    "top_crime_types = bodo.allgatherv(top_crime_types)\n",
    "if bodo.get_rank()==0:\n",
    "    print(top_crime_types)"
   ]
  },
  {
   "cell_type": "code",
   "execution_count": null,
   "metadata": {
    "execution": {
     "iopub.execute_input": "2022-04-04T23:18:53.444987Z",
     "iopub.status.busy": "2022-04-04T23:18:53.444746Z",
     "iopub.status.idle": "2022-04-04T23:19:00.727080Z",
     "shell.execute_reply": "2022-04-04T23:19:00.726528Z",
     "shell.execute_reply.started": "2022-04-04T23:18:53.444961Z"
    },
    "tags": []
   },
   "outputs": [],
   "source": [
    "%%px\n",
    "\n",
    "@bodo.jit(cache=True)\n",
    "def filter_crimes(crimes, top_crime_types):\n",
    "    t1 = time.time()\n",
    "    top_crimes = crimes[crimes['Primary Type'].isin(top_crime_types)]\n",
    "    print(\"Filtering crimes Time: \", ((time.time() - t1) * 1000), \" (ms)\")\n",
    "    return top_crimes\n",
    "\n",
    "crimes = filter_crimes(crimes, top_crime_types)\n",
    "if bodo.get_rank()==0:\n",
    "    display(crimes.head())"
   ]
  },
  {
   "cell_type": "markdown",
   "metadata": {},
   "source": [
    "## Crime Analysis\n",
    "\n",
    "### Find Pattern of each crime over the years\n",
    "\n"
   ]
  },
  {
   "cell_type": "code",
   "execution_count": null,
   "metadata": {
    "execution": {
     "iopub.execute_input": "2022-04-04T23:19:00.728570Z",
     "iopub.status.busy": "2022-04-04T23:19:00.728329Z",
     "iopub.status.idle": "2022-04-04T23:19:13.614258Z",
     "shell.execute_reply": "2022-04-04T23:19:13.613710Z",
     "shell.execute_reply.started": "2022-04-04T23:19:00.728542Z"
    },
    "tags": []
   },
   "outputs": [],
   "source": [
    "%%px\n",
    "@bodo.jit(cache=True)\n",
    "def get_crimes_count_date(crimes):\n",
    "    t1 = time.time()\n",
    "    crimes_count_date = crimes.pivot_table(index='date only', columns='Primary Type', values='ID', aggfunc=\"count\")\n",
    "    print(\"Computing Crime Pattern Time: \", ((time.time() - t1) * 1000), \" (ms)\")\n",
    "    return crimes_count_date\n",
    "\n",
    "crimes_count_date = get_crimes_count_date(crimes)"
   ]
  },
  {
   "cell_type": "code",
   "execution_count": null,
   "metadata": {
    "execution": {
     "iopub.execute_input": "2022-04-04T23:19:13.615303Z",
     "iopub.status.busy": "2022-04-04T23:19:13.615051Z",
     "iopub.status.idle": "2022-04-04T23:19:41.213299Z",
     "shell.execute_reply": "2022-04-04T23:19:41.212682Z",
     "shell.execute_reply.started": "2022-04-04T23:19:13.615275Z"
    },
    "tags": []
   },
   "outputs": [],
   "source": [
    "%%px\n",
    "\n",
    "@bodo.jit\n",
    "def get_crimes_type_date(crimes_count_date):\n",
    "    t1 = time.time()\n",
    "    crimes_count_date.index = pd.DatetimeIndex(crimes_count_date.index)\n",
    "    result = crimes_count_date.fillna(0).rolling(365).sum()\n",
    "    result = result.sort_index(ascending=False)\n",
    "    print(\"Computing Crime Pattern Time: \", ((time.time() - t1) * 1000), \" (ms)\")\n",
    "    return result\n",
    "\n",
    "get_crimes_type_date = get_crimes_type_date(crimes_count_date)\n",
    "if bodo.get_rank()==0:\n",
    "    display(get_crimes_type_date.head())"
   ]
  },
  {
   "cell_type": "markdown",
   "metadata": {},
   "source": [
    "## A general view of crime records by time, type and location\n",
    "\n",
    "### Determining the pattern on daily basis"
   ]
  },
  {
   "cell_type": "code",
   "execution_count": null,
   "metadata": {
    "execution": {
     "iopub.execute_input": "2022-04-04T23:19:41.214204Z",
     "iopub.status.busy": "2022-04-04T23:19:41.213966Z",
     "iopub.status.idle": "2022-04-04T23:19:43.161725Z",
     "shell.execute_reply": "2022-04-04T23:19:43.161161Z",
     "shell.execute_reply.started": "2022-04-04T23:19:41.214178Z"
    },
    "tags": []
   },
   "outputs": [],
   "source": [
    "%%px\n",
    "@bodo.jit(distributed=['crimes', 'crimes_days'], cache=True)\n",
    "def get_crimes_by_days(crimes):\n",
    "    t1 = time.time()\n",
    "    crimes_days = crimes.groupby('dow', as_index=False)['ID'].count().sort_values(by='dow')\n",
    "    print(\"Group by days Time: \", ((time.time() - t1) * 1000), \" (ms)\")\n",
    "    return crimes_days\n",
    "    \n",
    "crimes_days = get_crimes_by_days(crimes)\n",
    "if bodo.get_rank()==0:\n",
    "    display(crimes_days.head())"
   ]
  },
  {
   "cell_type": "markdown",
   "metadata": {},
   "source": [
    "### Determining the pattern on monthly basis"
   ]
  },
  {
   "cell_type": "code",
   "execution_count": null,
   "metadata": {
    "execution": {
     "iopub.execute_input": "2022-04-04T23:19:43.162730Z",
     "iopub.status.busy": "2022-04-04T23:19:43.162499Z",
     "iopub.status.idle": "2022-04-04T23:19:46.284920Z",
     "shell.execute_reply": "2022-04-04T23:19:46.284366Z",
     "shell.execute_reply.started": "2022-04-04T23:19:43.162704Z"
    },
    "tags": []
   },
   "outputs": [],
   "source": [
    "%%px\n",
    "@bodo.jit(distributed=['crimes', 'crimes_months'], cache=True)\n",
    "def get_crimes_by_months(crimes):\n",
    "    t1 = time.time()\n",
    "    crimes['month'] = crimes[\"Date\"].dt.month\n",
    "    crimes_months = crimes.groupby('month', as_index=False)['ID'].count().sort_values(by='month')\n",
    "    print(\"Group by days Time: \", ((time.time() - t1) * 1000), \" (ms)\")\n",
    "    return crimes_months\n",
    "    \n",
    "crimes_months = get_crimes_by_months(crimes)\n",
    "if bodo.get_rank()==0:\n",
    "    display(crimes_months.head())"
   ]
  },
  {
   "cell_type": "markdown",
   "metadata": {},
   "source": [
    "### Determining the pattern by crime type"
   ]
  },
  {
   "cell_type": "code",
   "execution_count": null,
   "metadata": {
    "execution": {
     "iopub.execute_input": "2022-04-04T23:19:46.285863Z",
     "iopub.status.busy": "2022-04-04T23:19:46.285620Z",
     "iopub.status.idle": "2022-04-04T23:19:47.953596Z",
     "shell.execute_reply": "2022-04-04T23:19:47.953006Z",
     "shell.execute_reply.started": "2022-04-04T23:19:46.285838Z"
    },
    "tags": []
   },
   "outputs": [],
   "source": [
    "%%px\n",
    "@bodo.jit(distributed=['crimes', 'crimes_type'], cache=True)\n",
    "def get_crimes_by_type(crimes):\n",
    "    t1 = time.time()\n",
    "    crimes_type = crimes.groupby('Primary Type', as_index=False)['ID'].count().sort_values(by='ID', ascending=False)\n",
    "    print(\"Group by days Time: \", ((time.time() - t1) * 1000), \" (ms)\")\n",
    "    return crimes_type\n",
    "    \n",
    "crimes_type = get_crimes_by_type(crimes)\n",
    "if bodo.get_rank()==0:\n",
    "    display(crimes_type.head())"
   ]
  },
  {
   "cell_type": "markdown",
   "metadata": {},
   "source": [
    "### Determining the pattern by location"
   ]
  },
  {
   "cell_type": "code",
   "execution_count": null,
   "metadata": {
    "execution": {
     "iopub.execute_input": "2022-04-04T23:19:47.954542Z",
     "iopub.status.busy": "2022-04-04T23:19:47.954298Z",
     "iopub.status.idle": "2022-04-04T23:19:49.612698Z",
     "shell.execute_reply": "2022-04-04T23:19:49.612132Z",
     "shell.execute_reply.started": "2022-04-04T23:19:47.954516Z"
    },
    "tags": []
   },
   "outputs": [],
   "source": [
    "%%px\n",
    "@bodo.jit(distributed=['crimes', 'crimes_location'], cache=True)\n",
    "def get_crimes_by_location(crimes):\n",
    "    t1 = time.time()\n",
    "    crimes_location = crimes.groupby('Location Description', as_index=False)['ID'].count().sort_values(by='ID', ascending=False)\n",
    "    print(\"Group by days Time: \", ((time.time() - t1) * 1000), \" (ms)\")\n",
    "    return crimes_location\n",
    "    \n",
    "crimes_location = get_crimes_by_location(crimes)\n",
    "if bodo.get_rank()==0:\n",
    "    display(crimes_location.head())"
   ]
  },
  {
   "cell_type": "markdown",
   "id": "b9413a73",
   "metadata": {},
   "source": [
    "## Stopping the cluster\n",
    "\n",
    "When you're done using the parallel cluster you can shut it down with a single command. Note that since the cluster is running within the same Jupyter Server resource as the notebook, there is no change to what hardware is running after you stop it (since the resource is still on)."
   ]
  },
  {
   "cell_type": "code",
   "execution_count": null,
   "id": "conditional-hindu",
   "metadata": {
    "execution": {
     "iopub.execute_input": "2022-03-30T23:47:17.192025Z",
     "iopub.status.busy": "2022-03-30T23:47:17.191835Z",
     "iopub.status.idle": "2022-03-30T23:47:17.194517Z",
     "shell.execute_reply": "2022-03-30T23:47:17.193814Z",
     "shell.execute_reply.started": "2022-03-30T23:47:17.192006Z"
    },
    "tags": []
   },
   "outputs": [],
   "source": [
    "# command to stop the cluster\n",
    "rc.cluster.stop_cluster_sync()"
   ]
  }
 ],
 "metadata": {
  "kernelspec": {
   "display_name": "SSH 10.30.3.4 Remote-Kernel",
   "language": "",
   "name": "rik_ssh_10_30_3_4_remotekernel"
  },
  "language_info": {
   "codemirror_mode": {
    "name": "ipython",
    "version": 3
   },
   "file_extension": ".py",
   "mimetype": "text/x-python",
   "name": "python",
   "nbconvert_exporter": "python",
   "pygments_lexer": "ipython3",
   "version": "3.9.7"
  }
 },
 "nbformat": 4,
 "nbformat_minor": 4
}
