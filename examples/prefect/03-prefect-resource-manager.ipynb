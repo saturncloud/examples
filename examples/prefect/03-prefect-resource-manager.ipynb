{
 "cells": [
  {
   "cell_type": "markdown",
   "metadata": {},
   "source": [
    "# Run a Prefect Cloud Data Pipeline with access to a Dask Cluster"
   ]
  },
  {
   "cell_type": "markdown",
   "metadata": {},
   "source": [
    "![Prefect and Dask logos](https://saturn-public-assets.s3.us-east-2.amazonaws.com/example-resources/prefect_dask.png \"doc-image\")"
   ]
  },
  {
   "cell_type": "markdown",
   "metadata": {},
   "source": [
    "\n",
    "## Overview\n",
    "[Prefect Cloud](https://www.prefect.io/cloud/) is a hosted, high-availability, fault-tolerant service that handles all the orchestration responsibilities for running data pipelines. It gives you complete oversight of your workflows and makes it easy to manage them.\n",
    "\n",
    "This example has the tasks run on a single machine, but allows the tasks to be able to run Dask commands themselves. This is appropriate for situations where each task can be parallelized within itself. If you want to do everything on a single machine without Dask, see [the single machine example](./01-prefect-singlenode.ipynb). If you want to have the set of tasks parallelized on the Dask cluster, see [prefect-daskclusters example](./02-prefect-daskclusters.ipynb).\n",
    "\n",
    "![Prefect Execution](https://saturn-public-assets.s3.us-east-2.amazonaws.com/example-resources/prefect_execute.png \"doc-image\")\n",
    "\n",
    "\n",
    "### Model Details\n",
    "For this example we will be using famous NYC taxi dataset. This dataset contains information about taxi trips in New York City. For the purposes of this example, we will be looking at the yellow taxi data from January 2019. We are distributing a single task amongst dask clusters. The task includes reading the datafrom nyc taxi dataset, filtering out the rows where price is missing and then calculating amount of variation in passenger count.  \n",
    "\n",
    "## Modelling Process\n",
    "\n",
    "### Prerequisites\n",
    "* created a Prefect Cloud account\n",
    "* set up the appropriate credentials in Saturn\n",
    "* set up a Prefect Cloud agent in Saturn Cloud\n",
    "\n",
    "Details on these prerequisites can be found in [Using Prefect Cloud with Saturn Cloud](https://saturncloud.io/docs/using-saturn-cloud/prefect_cloud/).\n",
    "\n",
    "### Environment Setup\n",
    "\n",
    "The code in this example uses prefect for orchestration (figuring out what to do, and in what order) and Dask Cluster for execution (doing the things).\n",
    "\n",
    "It relies on the following additional non-builtin libraries:\n",
    "\n",
    "* [`dask-saturn`](https://github.com/saturncloud/dask-saturn): create and interact with Saturn Cloud `Dask` clusters\n",
    "* [`prefect-saturn`](https://github.com/saturncloud/prefect-saturn): register Prefect flows with both Prefect Cloud and  Saturn Cloud.\n"
   ]
  },
  {
   "cell_type": "code",
   "execution_count": null,
   "metadata": {},
   "outputs": [],
   "source": [
    "import os\n",
    "\n",
    "import dask.dataframe as dd\n",
    "from dask.distributed import Client\n",
    "from dask_saturn import SaturnCluster\n",
    "from prefect.executors import LocalExecutor\n",
    "from prefect_saturn import PrefectCloudIntegration\n",
    "\n",
    "import prefect\n",
    "from prefect import Flow, resource_manager, task\n",
    "\n",
    "PREFECT_CLOUD_PROJECT_NAME = os.environ[\"PREFECT_CLOUD_PROJECT_NAME\"]\n",
    "SATURN_USERNAME = os.environ[\"SATURN_USERNAME\"]"
   ]
  },
  {
   "cell_type": "markdown",
   "metadata": {},
   "source": [
    "Authenticate with Prefect Cloud."
   ]
  },
  {
   "cell_type": "code",
   "execution_count": null,
   "metadata": {},
   "outputs": [],
   "source": [
    "!prefect auth login --key ${PREFECT_USER_TOKEN}"
   ]
  },
  {
   "cell_type": "markdown",
   "metadata": {},
   "source": [
    "## Create a Prefect Cloud Project\n",
    "\n",
    "Prefect Cloud organizes flows within workspaces called \"projects\". Before you can register a flow with Prefect Cloud, it's necessary to create a project, if you don't have one yet.\n",
    "\n",
    "The code below will create a new project in whatever Prefect Cloud tenant you're authenticated with. If that project already exists, this code does not have any side effects."
   ]
  },
  {
   "cell_type": "code",
   "execution_count": null,
   "metadata": {},
   "outputs": [],
   "source": [
    "client = prefect.Client()\n",
    "client.create_project(project_name=PREFECT_CLOUD_PROJECT_NAME)"
   ]
  },
  {
   "cell_type": "markdown",
   "metadata": {},
   "source": [
    "## Using a ResourceManager to setup a temporary Dask cluster\n",
    "\n",
    "Resource Managers in Prefect are like context managers. When some task needs an exclusive resource, we can use Resource Manager for setting up this temporary resource. This can be later cleaned when task is done.\n",
    "Here we are creating a resource manager `_DaskCluster` by using `resource_manager` decorator. The resource manager object has three tasks : `init`, `setup` and `cleanup`. "
   ]
  },
  {
   "cell_type": "code",
   "execution_count": null,
   "metadata": {},
   "outputs": [],
   "source": [
    "@resource_manager\n",
    "class _DaskCluster:\n",
    "    def __init__(self, n_workers):\n",
    "        self.n_workers = n_workers\n",
    "\n",
    "    def setup(self):\n",
    "        cluster = SaturnCluster(n_workers=self.n_workers)\n",
    "        client = Client(cluster)  # noqa: F841\n",
    "\n",
    "    def cleanup(self, x=None):\n",
    "        pass"
   ]
  },
  {
   "cell_type": "markdown",
   "metadata": {},
   "source": [
    "<hr>\n",
    "\n",
    "## Define Tasks\n",
    "\n",
    "Prefect refers to a workload as a \"flow\", which comprises multiple individual things to do called \"tasks\". From [the Prefect docs](https://docs.prefect.io/core/concepts/tasks.html):\n",
    "\n",
    "> A task is like a function: it optionally takes inputs, performs an action, and produces an optional result.\n",
    "\n"
   ]
  },
  {
   "cell_type": "code",
   "execution_count": null,
   "metadata": {},
   "outputs": [],
   "source": [
    "@task\n",
    "def read():\n",
    "    taxi = dd.read_csv(\n",
    "        \"https://s3.amazonaws.com/nyc-tlc/trip+data/yellow_tripdata_2019-01.csv\",\n",
    "        parse_dates=[\"tpep_pickup_datetime\", \"tpep_dropoff_datetime\"],\n",
    "    )\n",
    "    df2 = taxi[taxi.passenger_count > 1]\n",
    "    df3 = df2.groupby(\"VendorID\").passenger_count.std()\n",
    "    return df3"
   ]
  },
  {
   "cell_type": "markdown",
   "metadata": {},
   "source": [
    "<hr>\n",
    "\n",
    "## Construct a Flow\n",
    "\n",
    "Now that all of the task logic has been defined, the next step is to compose those tasks into a \"flow\".\n",
    "\n",
    "Inside our flow we have used Resource Manager `_DaskCluster`. Since task `read` needs Dask directly, we will keep the task inside `_DaskCluster`. "
   ]
  },
  {
   "cell_type": "code",
   "execution_count": null,
   "metadata": {},
   "outputs": [],
   "source": [
    "with Flow(\"prefect-resource-manager\") as flow:\n",
    "    with _DaskCluster(n_workers=3) as client:  # noqa: F841\n",
    "        a = read()"
   ]
  },
  {
   "cell_type": "markdown",
   "metadata": {},
   "source": [
    "## Register with Prefect Cloud\n"
   ]
  },
  {
   "cell_type": "markdown",
   "metadata": {
    "execution": {
     "iopub.execute_input": "2021-12-02T00:45:29.479565Z",
     "iopub.status.busy": "2021-12-02T00:45:29.479081Z",
     "iopub.status.idle": "2021-12-02T00:45:29.487291Z",
     "shell.execute_reply": "2021-12-02T00:45:29.486374Z",
     "shell.execute_reply.started": "2021-12-02T00:45:29.479532Z"
    }
   },
   "source": [
    "Now that the business logic of the flow is complete, we can add information that Saturn Cloud will need to know to run it."
   ]
  },
  {
   "cell_type": "code",
   "execution_count": null,
   "metadata": {},
   "outputs": [],
   "source": [
    "integration = PrefectCloudIntegration(prefect_cloud_project_name=PREFECT_CLOUD_PROJECT_NAME)\n",
    "flow = integration.register_flow_with_saturn(flow=flow)\n",
    "# override the executor chosen by prefect-saturn\n",
    "flow.executor = LocalExecutor()\n",
    "# tell Prefect Cloud about the flow\n",
    "flow.register(project_name=PREFECT_CLOUD_PROJECT_NAME)"
   ]
  },
  {
   "cell_type": "markdown",
   "metadata": {},
   "source": [
    "<hr>\n",
    "\n",
    "## Run the flow\n",
    "\n",
    "If you have scheduled your flow, it will be run once every 24 hours. You can confirm this by doing all of the following:\n",
    "\n",
    "* If you are an admin, go to Prefect Cloud Agent page of Saturn Cloud which is at the side bar and check logs for your agent.\n",
    "* Go to Prefect Cloud. If you navigate to this flow and click \"Runs\", you should see task statuses and and logs for this flow.\n",
    "\n",
    "If you have not scheduled your flow or want to run the flow immediately, navigate to the flow in the Prefect Cloud UI and click \"Quick Run\".\n",
    "\n",
    "```shell\n",
    "prefect auth login --key ${PREFECT_USER_TOKEN}\n",
    "prefect run flow \\\n",
    "    --name ${SATURN_USERNAME}-ticket-model-evaluation \\\n",
    "    --project ${PREFECT_CLOUD_PROJECT_NAME}\n",
    "```"
   ]
  },
  {
   "cell_type": "markdown",
   "metadata": {},
   "source": [
    "\n",
    "\n",
    "## Conclusion\n",
    "\n",
    "In this example, you learned how to create a prefect flow and distribute a task across Dask clusters. Register this flow with Prefect Cloud.\n",
    "\n",
    "Try changing the code above and re-running the flow eg you can train a model across multiple dask clusters\n",
    "\n",
    "If you have existing prefect flows, try running one of them on Saturn using this notebook as a template.\n",
    "\n"
   ]
  }
 ],
 "metadata": {
  "kernelspec": {
   "display_name": "saturn (Python 3)",
   "language": "python",
   "name": "python3"
  },
  "language_info": {
   "codemirror_mode": {
    "name": "ipython",
    "version": 3
   },
   "file_extension": ".py",
   "mimetype": "text/x-python",
   "name": "python",
   "nbconvert_exporter": "python",
   "pygments_lexer": "ipython3",
   "version": "3.9.5"
  }
 },
 "nbformat": 4,
 "nbformat_minor": 4
}
