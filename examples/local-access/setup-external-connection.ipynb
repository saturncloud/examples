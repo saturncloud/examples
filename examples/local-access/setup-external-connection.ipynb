{
 "cells": [
  {
   "cell_type": "markdown",
   "metadata": {},
   "source": [
    "# Use External Dask Cluster from Local Environment"
   ]
  },
  {
   "cell_type": "markdown",
   "metadata": {},
   "source": [
    "In this example, you'll learn how to create and interact with a Dask cluster from your local environment using the Saturn Cloud service. This allows you to skip interacting with the Saturn Cloud UI almost entirely, if you want to.\n",
    "\n",
    "While we're using Jupyter locally to demonstrate, you can apply this technique for scripting or other kinds of ML workflows. \n",
    "\n",
    "<img src=\"dask-cluster.png\" width = 500px>\n",
    "\n",
    "As this diagram illustrates, the pieces in the gray box constitute the cluster, and that's what will be hosted on Saturn Cloud. Instead of the pink box (the Client) being a Jupyter instance also on Saturn Cloud, this will be your local machine.\n",
    "\n",
    "\n",
    "> This tutorial does not go into great detail about the underlying concepts of Dask, but we have [reference material for those who need more information](https://www.saturncloud.io/docs/reference/dask_concepts/)."
   ]
  },
  {
   "cell_type": "markdown",
   "metadata": {},
   "source": [
    "## Setup \n",
    "\n",
    "If you haven't already, make sure to <a href=\"https://www.saturncloud.io/docs/getting-started/start_in_ten/\" target='_blank' rel='noopener'>create a Saturn Cloud account</a> before you begin.\n",
    "\n",
    "Once you have logged in to your account, you'll be brought to the Saturn Cloud projects page. Click \"Create Custom Project\".\n",
    "\n",
    "Give the project a name (ex: \"ml-demo\"), but you can leave all other settings as their defaults. Then click \"Create\".\n",
    "\n",
    "After the project is created you'll be brought to that project's page. At this point you'll need to retrieve two ID values:\n",
    "\n",
    "- **`project_id`** - the id for this particular project. You can get this from the URL of the project page. For example: `https://app.community.saturnenterprise.io/dash/projects/a753517c0d4b40b598823cb759a83f50` has the project_id: `a753517c0d4b40b598823cb759a83f50`.\n",
    "- **`user_id`** - the ID that identifies you as a valid user in Saturn Cloud. Go to [https://app.community.saturnenterprise.io/api/user/token](https://app.community.saturnenterprise.io/api/user/token) and save the page as `token.json`. Do not share this file with others.\n",
    "\n",
    "> **Protect your token, as it allows access to your account!**\n",
    "\n",
    "***"
   ]
  },
  {
   "cell_type": "markdown",
   "metadata": {},
   "source": [
    "## Connect to Saturn Cloud Project\n",
    "\n",
    "Using the following code chunk, load your user token file into your notebook environment. We'll reference this later."
   ]
  },
  {
   "cell_type": "code",
   "execution_count": null,
   "metadata": {},
   "outputs": [],
   "source": [
    "# Load token\n",
    "import json\n",
    "\n",
    "with open('config.json') as f:\n",
    "  data = json.load(f)"
   ]
  },
  {
   "cell_type": "code",
   "execution_count": null,
   "metadata": {},
   "outputs": [],
   "source": [
    "project_id = [INSERT YOUR TOKEN]"
   ]
  },
  {
   "cell_type": "markdown",
   "metadata": {},
   "source": [
    "Now you are ready to connect your local workspace to your Saturn Cloud project, allowing you to interact with it from this notebook. Your `user_id` is required (here shown as `data['token']`), as well as the `project_id` discussed earlier."
   ]
  },
  {
   "cell_type": "code",
   "execution_count": null,
   "metadata": {},
   "outputs": [],
   "source": [
    "from dask_saturn.external import ExternalConnection\n",
    "from dask_saturn import SaturnCluster\n",
    "import dask_saturn\n",
    "from dask.distributed import Client, progress\n",
    "\n",
    "conn = ExternalConnection(\n",
    "    project_id=project_id,\n",
    "    base_url='https://app.community.saturnenterprise.io',\n",
    "    saturn_token=data['token']\n",
    ")\n",
    "conn"
   ]
  },
  {
   "cell_type": "markdown",
   "metadata": {},
   "source": [
    "## Set Up Cluster\n",
    "\n",
    "Finally, you are ready to set up a cluster in this project! You'll see info messages logging here until the cluster is started and ready to use.\n",
    "\n",
    "If you have a cluster already created on the project, here you can just start it up without creating a new one, using this same code. You can also ask it to change size using `cluster.scale()`. For more details, we have [documentation about managing clusters](https://www.saturncloud.io/docs/getting-started/create_cluster/)."
   ]
  },
  {
   "cell_type": "code",
   "execution_count": null,
   "metadata": {},
   "outputs": [],
   "source": [
    "cluster = SaturnCluster(\n",
    "    external_connection=conn,\n",
    "    n_workers=4,\n",
    "    worker_size='8xlarge',\n",
    "    scheduler_size='2xlarge',\n",
    "    nthreads=32,\n",
    "    worker_is_spot=False)\n"
   ]
  },
  {
   "cell_type": "markdown",
   "metadata": {},
   "source": [
    "## Create Client Object\n",
    "\n",
    "This lets us connect from our local environment to this new cluster, and when we call the object it gives us a link to the Dask Dashboard for that cluster. We can watch at this link to see how the cluster is behaving."
   ]
  },
  {
   "cell_type": "code",
   "execution_count": null,
   "metadata": {},
   "outputs": [],
   "source": [
    "client = Client(cluster)\n",
    "client.wait_for_workers(4)\n",
    "client"
   ]
  },
  {
   "cell_type": "markdown",
   "metadata": {},
   "source": [
    "***\n",
    "\n",
    "### Environment Management\n",
    "When using Saturn Cloud resources remotely, you should pay close attention to the versions of packages in your local environment and in the remote Saturn Cloud image. If your local workspace has a different image, including different packages or versions, than the Saturn resources, you'll need to resolve that before running Dask code or using your cluster.\n",
    "\n",
    "To fix this easily, the first thing we recommend is checking that your local notebook kernel has the same versions of certain key libraries that your Saturn Cloud cluster image does, after you get things set up as we have discussed. These are some of the key libraries that must be matching for you to use Dask and Saturn Cloud resources smoothly.\n",
    "\n",
    "* pandas: 1.2.3 or better\n",
    "* dask: 2.30.0 or better\n",
    "* distributed: 2.30.1 or better\n",
    "* dask-saturn: 0.2.2 or better\n",
    "\n",
    "All of this can be done with `pip` or `conda`. In many Jupyter Notebooks, you can use the `%pip` magic in regular code chunks to run these commands.\n",
    "To find out about some conflicts early, you can run `client.get_versions(check=True)` after you set up your Saturn client object. _But that check won't tell you about pandas conflicts, so don't forget pandas!_\n",
    "\n",
    "***"
   ]
  },
  {
   "cell_type": "markdown",
   "metadata": {},
   "source": [
    "Now you're ready to run code from your local environment, using remote Dask clusters! See our examples to try it yourself."
   ]
  }
 ],
 "metadata": {
  "kernelspec": {
   "display_name": "demo-ext-wandb-37",
   "language": "python",
   "name": "demo-ext-wandb-37"
  },
  "language_info": {
   "codemirror_mode": {
    "name": "ipython",
    "version": 3
   },
   "file_extension": ".py",
   "mimetype": "text/x-python",
   "name": "python",
   "nbconvert_exporter": "python",
   "pygments_lexer": "ipython3",
   "version": "3.7.10"
  }
 },
 "nbformat": 4,
 "nbformat_minor": 4
}
