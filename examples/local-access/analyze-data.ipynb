{
 "cells": [
  {
   "cell_type": "markdown",
   "metadata": {},
   "source": [
    "# Data Analysis"
   ]
  },
  {
   "cell_type": "markdown",
   "metadata": {},
   "source": [
    "Before you begin, make sure you have completed the steps in the [setup-external-connection.ipynb](setup-external-connection.ipynb) notebook."
   ]
  },
  {
   "cell_type": "markdown",
   "metadata": {},
   "source": [
    "## Load Data\n",
    "\n",
    "At this point, we can load in our dataset, which for me is a set of just over 60 CSV files in an S3 repository. The total dataset represents more than 12 million rows of purchase records, with 23 columns. \n",
    "\n",
    "I am loading directly from S3 to Dask - however if you have a flat file in a local directory, you can very easily load into `pandas` here and then convert to Dask."
   ]
  },
  {
   "cell_type": "code",
   "execution_count": null,
   "metadata": {},
   "outputs": [],
   "source": [
    "%%time\n",
    "import os\n",
    "import pandas as pd\n",
    "import dask.dataframe as dd"
   ]
  },
  {
   "cell_type": "code",
   "execution_count": null,
   "metadata": {},
   "outputs": [],
   "source": [
    "import s3fs\n",
    "s3 = s3fs.S3FileSystem(anon=True)\n",
    "s3fpath = 's3://saturn-public-data/ia_data/ia_10.csv'\n",
    "\n",
    "iowa = dd.read_csv(\n",
    "    s3fpath,\n",
    "    parse_dates = ['Date'],\n",
    "    engine = 'python',\n",
    "    dtype={'Zip Code': 'object'},\n",
    "    error_bad_lines = False,\n",
    "    warn_bad_lines = False,\n",
    "    storage_options={'anon': True},\n",
    "    assume_missing=True\n",
    ")\n",
    "\n",
    "# Comment out below if using multiple files\n",
    "iowa = iowa.repartition(npartitions = 4)"
   ]
  },
  {
   "cell_type": "code",
   "execution_count": null,
   "metadata": {},
   "outputs": [],
   "source": [
    "%%time\n",
    "from dask.distributed import wait\n",
    "\n",
    "iowa = iowa.persist()\n",
    "_ = wait(iowa)\n",
    "iowa.columns"
   ]
  },
  {
   "cell_type": "markdown",
   "metadata": {},
   "source": [
    "## Run Analyses\n",
    "\n",
    "To demonstrate an analysis on the cluster, I'll do a couple of analyses that you might want to run for business.\n",
    "\n",
    "The first task to do aggregations across dataframes effectively with Dask is to **set the index of the dataframe**. This lets Dask easily organize the data that is partitioned across the cluster, while still keeping it distributed. \n",
    "\n",
    "> This is sometimes a slow task, but it only needs to be done once."
   ]
  },
  {
   "cell_type": "code",
   "execution_count": null,
   "metadata": {
    "scrolled": true
   },
   "outputs": [],
   "source": [
    "%%time\n",
    "\n",
    "iowa = iowa.set_index(\"Date\")\n",
    "iowa = iowa.persist()\n",
    "_ = wait(iowa)\n"
   ]
  },
  {
   "cell_type": "markdown",
   "metadata": {},
   "source": [
    "### Create a Rolling Average\n",
    "\n",
    "From here, we can treat the dataframe very much like a pandas dataframe, but it remains distributed.   \n",
    "We'll calculate a new series, which is the 30 day rolling average of items sold (bottles), then shape it into a dataframe."
   ]
  },
  {
   "cell_type": "code",
   "execution_count": null,
   "metadata": {},
   "outputs": [],
   "source": [
    "%%time\n",
    "\n",
    "bottles_sold_roll = iowa['Bottles Sold'].rolling('30D').sum()\n",
    "bottles_sold_roll = bottles_sold_roll.to_frame(name=\"bottles_sold_roll\")\n",
    "bottles_sold_roll = bottles_sold_roll.persist()"
   ]
  },
  {
   "cell_type": "code",
   "execution_count": null,
   "metadata": {},
   "outputs": [],
   "source": [
    "%%time\n",
    "\n",
    "bottles_sold_roll.head()"
   ]
  },
  {
   "cell_type": "markdown",
   "metadata": {},
   "source": [
    "### Group and Summarize\n",
    "\n",
    "For a second example of calculations over the dataset on the cluster, I'll group by store and date, and calculate the store level daily sales in dollars."
   ]
  },
  {
   "cell_type": "code",
   "execution_count": null,
   "metadata": {},
   "outputs": [],
   "source": [
    "%%time\n",
    "\n",
    "iowa['Sale (Dollars)'] = iowa['Sale (Dollars)'].str.lstrip('$').astype('float')"
   ]
  },
  {
   "cell_type": "code",
   "execution_count": null,
   "metadata": {},
   "outputs": [],
   "source": [
    "%%time\n",
    "\n",
    "sum_store_sales = iowa.groupby(['Date', \"Store Number\"])[\"Sale (Dollars)\"].sum()\n",
    "sum_store_sales = sum_store_sales.to_frame(name=\"sum_store_sales\")\n",
    "sum_store_sales = sum_store_sales.persist()"
   ]
  },
  {
   "cell_type": "code",
   "execution_count": null,
   "metadata": {},
   "outputs": [],
   "source": [
    "%%time\n",
    "\n",
    "sum_store_sales.head()"
   ]
  },
  {
   "cell_type": "markdown",
   "metadata": {},
   "source": [
    "## Combine Dataframes\n",
    "\n",
    "If you want to, from here you can rejoin those new columns to your existing data using the indices."
   ]
  },
  {
   "cell_type": "code",
   "execution_count": null,
   "metadata": {},
   "outputs": [],
   "source": [
    "%%time\n",
    "\n",
    "iowa_new = dd.concat([iowa, bottles_sold_roll], axis=1)\n",
    "iowa_new = iowa_new.persist()\n",
    "_ = wait(iowa_new)"
   ]
  },
  {
   "cell_type": "code",
   "execution_count": null,
   "metadata": {},
   "outputs": [],
   "source": [
    "%%time\n",
    "\n",
    "iowa_final = iowa_new.merge(sum_store_sales, how=\"left\",\n",
    "                            on=['Date', \"Store Number\"])\n",
    "iowa_final = iowa_final.persist()\n",
    "_ = wait(iowa_final)"
   ]
  },
  {
   "cell_type": "markdown",
   "metadata": {},
   "source": [
    "## View Data\n",
    "\n",
    "If you examine this object, you end up seeing the shape of the dataframe but not the contents - this is a function of its distributed nature."
   ]
  },
  {
   "cell_type": "code",
   "execution_count": null,
   "metadata": {},
   "outputs": [],
   "source": [
    "%%time\n",
    "\n",
    "iowa_final"
   ]
  },
  {
   "cell_type": "markdown",
   "metadata": {},
   "source": [
    "However, if we check the head of this object, we can see the actual values. This may take time, because part of the dataframe must be computed to show the values."
   ]
  },
  {
   "cell_type": "code",
   "execution_count": null,
   "metadata": {},
   "outputs": [],
   "source": [
    "%%time\n",
    "iowa_final.head()"
   ]
  },
  {
   "cell_type": "code",
   "execution_count": null,
   "metadata": {},
   "outputs": [],
   "source": [
    "%%time\n",
    "\n",
    "iowa_final[iowa_final['Store Number'] == 2649].head()"
   ]
  },
  {
   "cell_type": "code",
   "execution_count": null,
   "metadata": {},
   "outputs": [],
   "source": [
    "len(iowa_final)"
   ]
  },
  {
   "cell_type": "markdown",
   "metadata": {},
   "source": [
    "## Return to pandas\n",
    "\n",
    "At this point, you can use this dataset for whatever next steps you have - that might include passing it to a machine learning workflow, for example.\n",
    "\n",
    "If you need to use the data in a way that is not Dask compatible, and the data is small enough, you can return it to a pandas dataframe with this command. Because this means all the computations are run, and the data is consolidated into the Client environment, it can be slow.\n",
    "\n",
    "> NOTE: If you loaded all 12 million rows of data, don't run this chunk! It will crash your kernel."
   ]
  },
  {
   "cell_type": "code",
   "execution_count": null,
   "metadata": {},
   "outputs": [],
   "source": [
    "%%time\n",
    "\n",
    "#iowa_pd = iowa_final.compute()\n",
    "#type(iowa_pd)"
   ]
  },
  {
   "cell_type": "markdown",
   "metadata": {},
   "source": [
    "## Housekeeping\n",
    "\n",
    "Because we are not working inside the UI, we want to make sure that we close down any resources when we are done- otherwise undesired costs can be incurred.\n",
    "\n",
    "To shut down the cluster entirely:"
   ]
  },
  {
   "cell_type": "code",
   "execution_count": null,
   "metadata": {},
   "outputs": [],
   "source": [
    "client.close()\n",
    "cluster.close()"
   ]
  }
 ],
 "metadata": {
  "kernelspec": {
   "display_name": "External Demo Py3 (demo_external)",
   "language": "python",
   "name": "demo_external"
  },
  "language_info": {
   "codemirror_mode": {
    "name": "ipython",
    "version": 3
   },
   "file_extension": ".py",
   "mimetype": "text/x-python",
   "name": "python",
   "nbconvert_exporter": "python",
   "pygments_lexer": "ipython3",
   "version": "3.8.9"
  }
 },
 "nbformat": 4,
 "nbformat_minor": 5
}