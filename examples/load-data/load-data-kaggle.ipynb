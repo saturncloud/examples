{
 "cells": [
  {
   "cell_type": "markdown",
   "metadata": {},
   "source": [
    "# Load Data from Kaggle"
   ]
  },
  {
   "cell_type": "markdown",
   "metadata": {},
   "source": [
    "![Kaggle Logo](https://saturn-public-assets.s3.us-east-2.amazonaws.com/example-resources/kaggle-logo.png \"doc-image\")"
   ]
  },
  {
   "cell_type": "markdown",
   "metadata": {},
   "source": [
    "## Overview\n",
    "\n",
    "[Kaggle](https://www.kaggle.com/), in addition to its competitions and other offerings, has an expansive offering of curated and community submitted datasets. The datasets span numerous domains, sizes, and file types. This tutorial will give you the foundational information to load data from Kaggle directly into Saturn Cloud, quickly and easily!\n",
    "\n",
    "Before starting this, you should create a Jupyter server resource. See our [quickstart](https://saturncloud.io/docs/start_in_ten/) if you don't know how to do this yet.\n",
    "\n",
    "\n",
    "## Process\n",
    "### Create Kaggle Credentials\n",
    "\n",
    "The first step for accessing data from Kaggle is to create an API token.\n",
    "\n",
    "Access the account page of your Kaggle account by signing in and clicking on your username and picture in the top right. Click on the **Account** tab:\n",
    "\n",
    "![Kaggle account menu with arrow pointing to the Account tab](https://saturn-public-assets.s3.us-east-2.amazonaws.com/example-resources/kaggle-account-header-arrow.jpeg \"doc-image\")\n",
    "\n",
    "Then scroll down to the API section, and click **Create New API Token**:\n",
    "\n",
    "![Kaggle account page with arrow pointing to Create New API Token](https://saturn-public-assets.s3.us-east-2.amazonaws.com/example-resources/kaggle-create-token-arrow.jpeg \"doc-image\")\n",
    "\n",
    "This will download a file named \"kaggle.json.\" This file contains your username and API key. Save it in a safe place!\n",
    "\n",
    "Open the \"kaggle.json\" file in your favorite text editor and you will see your Kaggle username and key.\n",
    "\n",
    "### Add Kaggle Credentials to Saturn Cloud\n",
    "Sign in to your Saturn Cloud account and select **Credentials** from the menu on the left.\n",
    "\n",
    "<img src=\"https://saturn-public-assets.s3.us-east-2.amazonaws.com/example-resources/saturn-credentials-arrow.jpeg\" style=\"width:200px;\" alt=\"Saturn Cloud left menu with arrow pointing to Credentials tab\" class=\"doc-image\">\n",
    "\n",
    "This is where you will add your Kaggle API key information. *This is a secure storage location, and it will not be available to the public or other users without your consent.*\n",
    "\n",
    "At the top right corner of this page, you will find the **New** button. Click here, and you will be taken to the Credentials Creation form. \n",
    "\n",
    "![Screenshot of Saturn Cloud Create Credentials form](https://saturn-public-assets.s3.us-east-2.amazonaws.com/example-resources/credentials.jpg \"doc-image\")\n",
    "\n",
    "You will be adding two credentials items: your Kaggle username and API key. Complete the form one time for each item. \n",
    "\n",
    "|  Credential | Type  | Name| Variable Name  |\n",
    "|---|---|---|---|\n",
    "| Kaggle Username  |  Environment Variable | `kaggle-username`  | `KAGGLE_USERNAME`\n",
    "| Kaggle API Key  |  Environment Variable | `kaggle-api-key`  | `KAGGLE_KEY`\n",
    "\n",
    "Copy the values (without quotes) from your \"kaggle.json\" file into the *Value* section of the credential creation form. The credential names are recommendations; feel free to change them as needed for your workflow. You must, however, use the provided *Variable Names* for Kaggle to connect correctly.\n",
    "\n",
    "With this complete, your Kaggle credentials will be accessible by Saturn Cloud resources! You will need to restart any Jupyter Server or Dask Clusters for the credentials to populate to those resources.\n",
    "\n",
    "### Setting Up Your Resource\n",
    "Kaggle is not installed by default in Saturn images, so you will need to install it onto your resource. This is already done in this example recepie, but if you are using a custom resource you will need to `pip install kaggle`. Check out our page on [installing packages](https://saturncloud.io/docs/using-saturn-cloud/install-packages/) to see the various methods for acheiving this!\n",
    "\n",
    "### Download a Dataset\n",
    "Now that you have set up the credentials for Kaggle and installed kaggle, downloading Kaggle data is really straightforward! \n",
    "\n",
    "In Kaggle, find the dataset you want to download. \n",
    "\n",
    "On the dataset page, click on the three dots to the right and select **Copy API Command**.\n",
    "\n",
    "![Kaggle dataset page with arrow pointing to Copy API command](https://saturn-public-assets.s3.us-east-2.amazonaws.com/example-resources/kaggle-dataset-arrow.jpeg \"doc-image\")\n",
    "\n",
    "Now, in Saturn Cloud, create a new notebook (or open an existing one). In a cell, enter \"**!**\" and then paste the API command. For example:"
   ]
  },
  {
   "cell_type": "code",
   "execution_count": null,
   "metadata": {},
   "outputs": [],
   "source": [
    "! kaggle datasets download -d deepcontractor/swarm-behaviour-classification"
   ]
  },
  {
   "cell_type": "markdown",
   "metadata": {},
   "source": [
    "That's it! Your dataset will download to your current path, and you will be able to use it for calculations!\n",
    "\n",
    "### Download a Competition Dataset\n",
    "Downloading a competition dataset is similarly straightforward, but it is a slightly different process. \n",
    "\n",
    "In Kaggle, find the competition you want to download the dataset for.\n",
    "\n",
    "Click on **Data** in the top menu and then copy the command displayed. \n",
    "\n",
    "![Kaggle competition dataset page with arrows pointing to the Data tab and the API command](https://saturn-public-assets.s3.us-east-2.amazonaws.com/example-resources/kaggle-competition-dataset-arrow.jpeg \"doc-image\")\n",
    "\n",
    "Now, in Saturn Cloud, create a new notebook (or open an existing one). In a cell, enter \"**!**\" and then paste the API command. For example:"
   ]
  },
  {
   "cell_type": "code",
   "execution_count": null,
   "metadata": {},
   "outputs": [],
   "source": [
    "! kaggle competitions download -c titanic"
   ]
  },
  {
   "cell_type": "markdown",
   "metadata": {},
   "source": [
    "That's it! Your dataset will download to your current path, and you will be able to use it for calculations!"
   ]
  }
 ],
 "metadata": {
  "interpreter": {
   "hash": "0c30809920022c12dc34b6aa5982c47acf3f18a4dd3ede4f803889865384c7fa"
  },
  "kernelspec": {
   "display_name": "Python 3",
   "language": "python",
   "name": "python3"
  },
  "language_info": {
   "codemirror_mode": {
    "name": "ipython",
    "version": 3
   },
   "file_extension": ".py",
   "mimetype": "text/x-python",
   "name": "python",
   "nbconvert_exporter": "python",
   "pygments_lexer": "ipython3",
   "version": "3.8.8"
  }
 },
 "nbformat": 4,
 "nbformat_minor": 4
}
