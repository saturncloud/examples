{
 "cells": [
  {
   "cell_type": "markdown",
   "metadata": {},
   "source": [
    "# Load Data From Your Local File System"
   ]
  },
  {
   "cell_type": "markdown",
   "metadata": {},
   "source": [
    "## Overview\n",
    "Flat files are a very common data storage option, and lots of our customers will use them at some time. This tutorial will show you how to load a dataset from a file (for example, a CSV or JSON file) on disk into Saturn Cloud.\n",
    "\n",
    "Before starting this, you should create a Jupyter server resource. See our [quickstart](https://saturncloud.io/docs/start_in_ten/) if you don't know how to do this yet."
   ]
  },
  {
   "cell_type": "markdown",
   "metadata": {},
   "source": [
    "## Process"
   ]
  },
  {
   "cell_type": "markdown",
   "metadata": {},
   "source": [
    "### Upload Files in the UI\n",
    "If you want to place a flat file in your Saturn Cloud Jupyter server, there's a simple UI option. \n",
    "\n",
    "![Jupyter Lab workspace with arrow pointing towards the upload button](https://saturn-public-assets.s3.us-east-2.amazonaws.com/example-resources/local-file-upload-arrow.png \"doc-image\")\n",
    "\n",
    "Simply select the file(s) you want to access and they will be uploaded!\n",
    "\n",
    "### Upload Files via SSH\n",
    "If you prefer to upload your local files programmatically, Saturn Cloud makes it easy to copy files from your local machine via SSH.\n",
    "#### Set up SSH Keys\n",
    "You will need to set up SSH to make the connection between Saturn Cloud and your local machine. The first step is to create a SSH key pair. \n",
    "\n",
    "If you need help setting up your SSH keys on your laptop, you can find some good references here:\n",
    "* <a href=\"https://www.ssh.com/ssh/keygen/\" target='_blank' rel='noopener'>https://www.ssh.com/ssh/keygen/</a>\n",
    "* <a href=\"https://www.digitalocean.com/community/tutorials/how-to-set-up-ssh-keys-2\" target='_blank' rel='noopener'>https://www.digitalocean.com/community/tutorials/how-to-set-up-ssh-keys-2</a>\n",
    "* <a href=\"https://www.redhat.com/sysadmin/configure-ssh-keygen\" target='_blank' rel='noopener'>https://www.redhat.com/sysadmin/configure-ssh-keygen</a>\n",
    "\n",
    "Once you have your key pair set up, you will need to add your SSH Public Key to your Saturn Cloud account. ***The SSH Private Key will stay on your laptop.***\n",
    "\n",
    "#### Add Your SSH Credentials to Saturn Cloud\n",
    "Sign in to your Saturn Cloud account and select **Credentials** from the menu on the left.\n",
    "\n",
    "<img src=\"https://saturn-public-assets.s3.us-east-2.amazonaws.com/example-resources/saturn-credentials-arrow.jpeg\" style=\"width:200px;\" alt=\"Saturn Cloud left menu with arrow pointing to Credentials tab\" class=\"doc-image\">\n",
    "\n",
    "This is where you will add your SSH credential information. *This is a secure storage location, and it will not be available to the public or other users without your consent.*\n",
    "\n",
    "At the top right corner of this page, you will find the **New** button. Click here, and you will be taken to the Credentials Creation form. \n",
    "\n",
    "Select *SSH Public Key*, give it an appropriate name, and copy the whole contents of your Public Key file into the *Value* section.\n",
    "\n",
    "![Credentials page with ssh key selected](https://saturn-public-assets.s3.us-east-2.amazonaws.com/example-resources/ssh-crediential.png \"doc-image\")\n",
    "\n",
    "With this complete, your SSH credentials will be accessible by Saturn Cloud resources!\n",
    "\n",
    "#### Enable SSH for a Jupyter Resource\n",
    "On the resource page, click the pencil/paper icon to edit the resource details. If it is running, you may want to stop it since the resource will restart itself automatically when you make this change.\n",
    "\n",
    "You will be taken to a page that allows you to edit the settings of the server. Check the box that says \"Allow SSH Connections\" and click **Save** at the bottom of the page.\n",
    "\n",
    "![Edit Jupyter Server dialogue with an arrow pointing to allow ssh connections](https://saturn-public-assets.s3.us-east-2.amazonaws.com/example-resources/allow-ssh-connections-arrow.png \"doc-image\")\n",
    "\n",
    "Start the Jupyter server now, and you will see an SSH URL provided on the instance's card. \n",
    "\n",
    "![Screenshot of Jupyter Server card with server running, arrow pointing to SSH URL shown, with box encircling it](https://saturn-public-assets.s3.us-east-2.amazonaws.com/example-resources/ssh-url.png \"doc-image\")\n",
    "\n",
    "> **Note**: This URL may change if the server is stopped, including after auto-shutoff. When you start a work session, you may need to copy the new URL.\n",
    "\n",
    "#### Transfer Files via SCP\n",
    "\n",
    "The `scp` command allows you to copy files over SSH connections. To use it, all you need to do is specify the local path to file you want to transfer, the SSH URL, and the path you want the file transferred to in your Saturn Cloud instance.\n",
    "\n",
    "From the command line on your local machine, the `scp` command takes the following format:"
   ]
  },
  {
   "cell_type": "code",
   "execution_count": null,
   "metadata": {},
   "outputs": [],
   "source": [
    "scp \"local-filepath\" saturn-cloud-ssh-url:\"remote-filepath\""
   ]
  },
  {
   "cell_type": "markdown",
   "metadata": {},
   "source": [
    "So your command might look like:"
   ]
  },
  {
   "cell_type": "code",
   "execution_count": null,
   "metadata": {},
   "outputs": [],
   "source": [
    "scp \"test_file.py\" jovyan@ae6eb704cfbef4c5c83598483dfdaf7b-672974639.us-west-2.elb.amazonaws.com:\"project/scripts/\""
   ]
  },
  {
   "cell_type": "markdown",
   "metadata": {},
   "source": [
    "And that's it! If you look in your resource's file system, you will see the file."
   ]
  }
 ],
 "metadata": {
  "interpreter": {
   "hash": "0c30809920022c12dc34b6aa5982c47acf3f18a4dd3ede4f803889865384c7fa"
  },
  "kernelspec": {
   "display_name": "Python 3",
   "language": "python",
   "name": "python3"
  },
  "language_info": {
   "codemirror_mode": {
    "name": "ipython",
    "version": 3
   },
   "file_extension": ".py",
   "mimetype": "text/x-python",
   "name": "python",
   "nbconvert_exporter": "python",
   "pygments_lexer": "ipython3",
   "version": "3.8.8"
  }
 },
 "nbformat": 4,
 "nbformat_minor": 4
}
