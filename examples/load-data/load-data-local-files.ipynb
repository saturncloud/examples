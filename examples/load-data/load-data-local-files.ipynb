{
 "cells": [
  {
   "cell_type": "markdown",
   "metadata": {},
   "source": [
    "# Load Data From Your Local File System"
   ]
  },
  {
   "cell_type": "markdown",
   "metadata": {},
   "source": [
    "## Overview\n",
    "Flat files are a very common data storage option, and lots of our customers will use them at some time. This tutorial will show you how to load a dataset from a file (for example, a CSV or JSON file) on disk into Saturn Cloud.\n",
    "\n",
    "Before starting this, you should create a Jupyter server resource. See our [quickstart](https://saturncloud.io/docs/start_in_ten/) if you don't know how to do this yet."
   ]
  },
  {
   "cell_type": "markdown",
   "metadata": {},
   "source": [
    "## Process"
   ]
  },
  {
   "cell_type": "markdown",
   "metadata": {},
   "source": [
    "### Upload Files in the UI\n",
    "If you want to place a flat file in your Saturn Cloud Jupyter server, there's a simple UI option. \n",
    "\n",
    "![Jupyter Lab workspace with arrow pointing towards the upload button](https://saturn-public-assets.s3.us-east-2.amazonaws.com/example-resources/local-file-upload-arrow.png \"doc-image\")\n",
    "\n",
    "Simply select the file(s) you want to access and they will be uploaded!\n",
    "\n",
    "### Upload Files via SSH\n",
    "If you prefer to upload your local files programmatically, Saturn Cloud makes it easy to copy files from your local machine via SSH.\n",
    "\n",
    "First, you need to set up SSH connections to your resources. See [our documentation](https://saturncloud.io/docs/using-saturn-cloud/ide_ssh/) about how to do this. Take note of the SSH URL in the last step - you will need it to transfer files.\n",
    "\n",
    "#### Transfer Files via SCP\n",
    "\n",
    "The [`scp`](https://linux.die.net/man/1/scp) command allows you to copy files over SSH connections. To use it, all you need to do is specify the local path to file you want to transfer, the SSH URL, and the path you want the file transferred to in your Saturn Cloud instance.\n",
    "\n",
    "From the command line on your local machine, the `scp` command takes the following format:"
   ]
  },
  {
   "cell_type": "code",
   "execution_count": null,
   "metadata": {
    "vscode": {
     "languageId": "shellscript"
    }
   },
   "outputs": [],
   "source": [
    "scp \"local-filepath\" saturn-cloud-ssh-url:\"remote-filepath\""
   ]
  },
  {
   "cell_type": "markdown",
   "metadata": {},
   "source": [
    "So your command might look like:"
   ]
  },
  {
   "cell_type": "code",
   "execution_count": null,
   "metadata": {
    "vscode": {
     "languageId": "shellscript"
    }
   },
   "outputs": [],
   "source": [
    "scp \"test_file.py\" j-ssh-natha-demo-jupyter-dee34c41f0f54daaa2cb20eee84ec28f@ssh.community.saturnenterprise.io:\"project/scripts/\""
   ]
  },
  {
   "cell_type": "markdown",
   "metadata": {},
   "source": [
    "And that's it! If you look in your resource's file system, you will see the file.\n",
    "\n",
    "You can also use `rsync` to perform a similar function. See [the `rsync` documentation](https://linux.die.net/man/1/rsync) for more information."
   ]
  }
 ],
 "metadata": {
  "interpreter": {
   "hash": "0c30809920022c12dc34b6aa5982c47acf3f18a4dd3ede4f803889865384c7fa"
  },
  "kernelspec": {
   "display_name": "Python 3",
   "language": "python",
   "name": "python3"
  },
  "language_info": {
   "codemirror_mode": {
    "name": "ipython",
    "version": 3
   },
   "file_extension": ".py",
   "mimetype": "text/x-python",
   "name": "python",
   "nbconvert_exporter": "python",
   "pygments_lexer": "ipython3",
   "version": "3.9.7"
  }
 },
 "nbformat": 4,
 "nbformat_minor": 4
}
