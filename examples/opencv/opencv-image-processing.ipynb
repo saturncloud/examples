{
 "cells": [
  {
   "cell_type": "markdown",
   "id": "7724a383-df9e-4e9a-84f3-dba0b9be3a9f",
   "metadata": {},
   "source": [
    "# Image processing with OpenCV\n",
    "\n",
    "![OpenCV Logo](https://saturn-public-assets.s3.us-east-2.amazonaws.com/example-resources/opencv_logo.png \"doc-image\")"
   ]
  },
  {
   "cell_type": "markdown",
   "id": "c1e1dfc3-57b3-4370-bba5-d5a8f879613d",
   "metadata": {},
   "source": [
    "\n",
    "[OpenCV](https://opencv.org/) is a popular open source library for solving computer vision problems. It supports many languages like C++, Java and Python. \n",
    "\n",
    "OpenCV has many applications right from modifying an image to recognising human faces. In this example we will learn some simple image processing techniques utilizing OpenCV library’s features.\n",
    "\n",
    "First let us read the image and plot it. We have saved our image in S3 bucket. To access this image first we will use function `urlopen` to open a connection to path of the image. This gives us raw byte-sequence, which we then  convert to  numpy 2D array. \n",
    "To plot this image we have used `matplotlib` package. Notice that I have used color convert function `cvtColor` before plotting the image. This is because OpenCV, does not follow RGB format. It renders GBR image. Hence we first convert the GBR image into a RGB image.\n"
   ]
  },
  {
   "cell_type": "code",
   "execution_count": null,
   "id": "528815aa-397f-4b0c-8b5f-1c36aceb99fd",
   "metadata": {
    "execution": {
     "iopub.execute_input": "2022-06-23T23:19:34.615088Z",
     "iopub.status.busy": "2022-06-23T23:19:34.614800Z",
     "iopub.status.idle": "2022-06-23T23:19:34.620563Z",
     "shell.execute_reply": "2022-06-23T23:19:34.619937Z",
     "shell.execute_reply.started": "2022-06-23T23:19:34.615065Z"
    },
    "tags": []
   },
   "outputs": [],
   "source": [
    "from matplotlib import pyplot as plt\n",
    "import cv2\n",
    "import numpy as np\n",
    "import urllib.request as ur\n",
    "\n",
    "\n",
    "def read_img(img_url):\n",
    "    raw_bytes = ur.urlopen(img_url)\n",
    "    image = np.asarray(bytearray(raw_bytes.read()), dtype=\"uint8\")\n",
    "    image = cv2.imdecode(image, cv2.IMREAD_COLOR)\n",
    "    return image\n",
    "\n",
    "\n",
    "def print_image(img):\n",
    "    rgb = cv2.cvtColor(img, cv2.COLOR_BGR2RGB)\n",
    "    plt.xticks([]), plt.yticks([])\n",
    "    plt.imshow(rgb, cmap=plt.cm.Spectral)\n",
    "    plt.show()\n",
    "\n",
    "\n",
    "img_url = \"https://saturn-public-data.s3.us-east-2.amazonaws.com/OpenCV_images/doggo.jpeg\"\n",
    "original_img = read_img(img_url)\n",
    "print_image(original_img)"
   ]
  },
  {
   "cell_type": "markdown",
   "id": "b4677959-3e13-4e43-82f8-8114f0bc5e5f",
   "metadata": {},
   "source": [
    "Now let us blur the image we read above. In the example below we have blurred image using [normalized box filter](https://docs.opencv.org/4.x/d4/d13/tutorial_py_filtering.html). In this technique, blurring is done by taking average of the kernel area. Here we have specified height and width of kernel as 15 by 15. If you want relatively less blurred image, choose a smaller kernel area and viceversa. "
   ]
  },
  {
   "cell_type": "code",
   "execution_count": null,
   "id": "a93edd77-e501-41eb-aedc-e6c0fee614d6",
   "metadata": {
    "execution": {
     "iopub.execute_input": "2022-06-21T20:32:29.583815Z",
     "iopub.status.busy": "2022-06-21T20:32:29.583513Z",
     "iopub.status.idle": "2022-06-21T20:32:29.691609Z",
     "shell.execute_reply": "2022-06-21T20:32:29.691013Z",
     "shell.execute_reply.started": "2022-06-21T20:32:29.583791Z"
    },
    "tags": []
   },
   "outputs": [],
   "source": [
    "blur_img = cv2.blur(original_img, (15, 15))"
   ]
  },
  {
   "cell_type": "markdown",
   "id": "488d38f1",
   "metadata": {},
   "source": [
    "![blured_image](https://saturn-public-data.s3.us-east-2.amazonaws.com/OpenCV_images/blurred_doggo.png)"
   ]
  },
  {
   "cell_type": "markdown",
   "id": "82a811a6-b939-469f-97ed-9d3f1191a232",
   "metadata": {},
   "source": [
    "Another simple yet powerful feature on OpenCV is concatinating multiple images horizontally or vertically. In example below we have concatinated two images horizontally using function `hconcat()`. To concatinate these images vertically use function `vconcat()`. "
   ]
  },
  {
   "cell_type": "code",
   "execution_count": null,
   "id": "9d9d1bfd-c0b9-45de-9f57-52fd15b08795",
   "metadata": {
    "execution": {
     "iopub.execute_input": "2022-03-26T00:42:50.693193Z",
     "iopub.status.busy": "2022-03-26T00:42:50.692639Z",
     "iopub.status.idle": "2022-03-26T00:42:50.768331Z",
     "shell.execute_reply": "2022-03-26T00:42:50.767678Z",
     "shell.execute_reply.started": "2022-03-26T00:42:50.693154Z"
    },
    "tags": []
   },
   "outputs": [],
   "source": [
    "img_url = \"https://saturn-public-data.s3.us-east-2.amazonaws.com/OpenCV_images/furry_doggo.jpeg\"\n",
    "original_img2 = read_img(img_url)\n",
    "concatinated_img = cv2.hconcat([original_img, original_img2])"
   ]
  },
  {
   "cell_type": "markdown",
   "id": "e011e544",
   "metadata": {},
   "source": [
    "![concat_doggo](https://saturn-public-data.s3.us-east-2.amazonaws.com/OpenCV_images/concat.png)"
   ]
  },
  {
   "cell_type": "markdown",
   "id": "237fa39f-0609-4a5a-a064-e156bedba368",
   "metadata": {},
   "source": [
    "Now let us convert the image to grayscale, for this we use function `cvtColor()`. This is the same function which we used while printing the image using `matplotlib`. In example below we have used attribute `COLOR_BGR2GRAY` for BRG -> Gray conversion "
   ]
  },
  {
   "cell_type": "code",
   "execution_count": null,
   "id": "565a7f6e-d5ef-435a-bd53-5e44a46c1175",
   "metadata": {
    "execution": {
     "iopub.execute_input": "2022-06-21T21:04:52.201169Z",
     "iopub.status.busy": "2022-06-21T21:04:52.200888Z",
     "iopub.status.idle": "2022-06-21T21:04:52.264573Z",
     "shell.execute_reply": "2022-06-21T21:04:52.264024Z",
     "shell.execute_reply.started": "2022-06-21T21:04:52.201142Z"
    },
    "tags": []
   },
   "outputs": [],
   "source": [
    "gray_img = cv2.cvtColor(original_img, cv2.COLOR_BGR2GRAY)"
   ]
  },
  {
   "cell_type": "markdown",
   "id": "54c0203a",
   "metadata": {},
   "source": [
    "![gray_image](https://saturn-public-data.s3.us-east-2.amazonaws.com/OpenCV_images/gray_doggo.png)\n"
   ]
  },
  {
   "cell_type": "markdown",
   "id": "08a04beb-d933-4c37-a811-4243708945cf",
   "metadata": {},
   "source": [
    "Just like you rotate pictures on your phone you can do same for an image using OpenCV's method `getRotationMatrix2D()`. First we find the dimentions of the image. Once we have our rotation matrix M from the cv2.getRotationMatrix2D function, we can apply the rotation to our image arond its center using `warpAffine` method."
   ]
  },
  {
   "cell_type": "code",
   "execution_count": null,
   "id": "fe3c0661-52a1-4cfe-b896-4d50ca427834",
   "metadata": {},
   "outputs": [],
   "source": [
    "rows, cols = original_img.shape[:2]\n",
    "center_col, center_row = (cols / 2, rows / 2)\n",
    "M = cv2.getRotationMatrix2D((center_col, center_row), 90, 1)\n",
    "dst = cv2.warpAffine(original_img, M, (cols, rows))"
   ]
  },
  {
   "cell_type": "markdown",
   "id": "315a6f2b",
   "metadata": {},
   "source": [
    "![rotate_image](https://saturn-public-data.s3.us-east-2.amazonaws.com/OpenCV_images/rotate_dogg.png)"
   ]
  },
  {
   "cell_type": "code",
   "execution_count": null,
   "id": "808aa7fa",
   "metadata": {},
   "outputs": [],
   "source": []
  }
 ],
 "metadata": {
  "kernelspec": {
   "display_name": "Python 3",
   "language": "python",
   "name": "python3"
  },
  "language_info": {
   "codemirror_mode": {
    "name": "ipython",
    "version": 3
   },
   "file_extension": ".py",
   "mimetype": "text/x-python",
   "name": "python",
   "nbconvert_exporter": "python",
   "pygments_lexer": "ipython3",
   "version": "3.8.8"
  }
 },
 "nbformat": 4,
 "nbformat_minor": 5
}
